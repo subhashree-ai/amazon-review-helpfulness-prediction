{
 "cells": [
  {
   "cell_type": "markdown",
   "metadata": {},
   "source": [
    "# Amazon Review Helpfulness Prediction"
   ]
  },
  {
   "cell_type": "markdown",
   "metadata": {},
   "source": [
    "## Problem Statement"
   ]
  },
  {
   "cell_type": "markdown",
   "metadata": {},
   "source": [
    "In this project, we will try to automatically predict the helpfulness of Amazon.com product reviews, specifically in\n",
    "the case of home and kitchen products.\n",
    "\n",
    "The inspiration behind this project is that the product we buy is mostly influenced by the review about the product. In most of the e-commerce platform, the most helpful reviews are displayed on the products front page.In order to differentiate reviews based on their helpfulness, Amazon has implemented an interface that allows customers to vote on whether a particular review has been helpful or unhelpful. The fraction of customers who have deemed the review helpful is displayed with the review, and  amazon uses these ratings to rank the reviews, displaying the most helpful rankings on the products front page. The drawback is that more recently written reviews are at a disadvantage since less people have voted on the helpfulness of the review. Because of this, reviews with few votes cannot be effectively ranked and will not gain visibility until they have accumulated adequate votes, which can take some time.\n",
    "\n",
    "As a result, we would like to assess the helpfulness of reviews automatically, without having to wait for users to manually vote over the course of time. If we can do this, we would be able to give users the most relevant, helpful, and up to date reviews possible, without any delay in more helpful reviews being displayed. Moreover, such an automatic classification of reviews would be able to help in rooting out poorly written reviews lacking helpful information to other consumers.\n",
    "\n",
    "For the problem statement, we will use the Home and Kitchen dataset which is having around 346,355 reviews. Dataset is available at JmCauley page: http://jmcauley.ucsd.edu/data/amazon/links.html"
   ]
  },
  {
   "cell_type": "markdown",
   "metadata": {},
   "source": [
    "### Import and Initialization"
   ]
  },
  {
   "cell_type": "code",
   "execution_count": 1,
   "metadata": {},
   "outputs": [],
   "source": [
    "# Importing the relevant dependencies\n",
    "import numpy as np\n",
    "import pandas as pd\n",
    "import gzip\n",
    "import math, time, random, datetime\n",
    "import string\n",
    "import os\n",
    "import nltk\n",
    "#nltk.download('stopwords')\n",
    "#nltk.download('punkt')\n",
    "from collections import defaultdict\n",
    "from gensim.models import Word2Vec\n",
    "\n",
    "# data visualization\n",
    "%matplotlib inline\n",
    "import matplotlib.pyplot as plt\n",
    "import seaborn as sns\n",
    "plt.style.use('seaborn-whitegrid')\n",
    "\n",
    "from IPython.display import display # Allows the use of display() for DataFrames\n",
    "import warnings\n",
    "warnings.filterwarnings('ignore')\n",
    "import re\n",
    "from collections import Counter\n",
    "import pickle"
   ]
  },
  {
   "cell_type": "code",
   "execution_count": 2,
   "metadata": {},
   "outputs": [],
   "source": [
    "# folder where input data and pickle data load present\n",
    "data_folder = '../data/dataLoad/'\n",
    "input_folder = '../data/raw/'"
   ]
  },
  {
   "cell_type": "markdown",
   "metadata": {},
   "source": [
    "### Data Loading"
   ]
  },
  {
   "cell_type": "code",
   "execution_count": 3,
   "metadata": {},
   "outputs": [],
   "source": [
    "# Loading the home and kitchen dataset which is downloaded in the /data path\n",
    "input_data = 'reviews_Home_and_Kitchen_5.json.gz'\n",
    "def parse(path):\n",
    "    g = gzip.open(path, 'rb')\n",
    "    for l in g:\n",
    "        yield eval(l)\n",
    "\n",
    "def getDF(path):\n",
    "    i = 0\n",
    "    df = {}\n",
    "    for d in parse(path):\n",
    "        df[i] = d\n",
    "        i +=1\n",
    "    return pd.DataFrame.from_dict(df, orient='index')\n",
    "\n",
    "data = getDF(input_folder + input_data)   "
   ]
  },
  {
   "cell_type": "code",
   "execution_count": 4,
   "metadata": {},
   "outputs": [
    {
     "data": {
      "text/html": [
       "<div>\n",
       "<style scoped>\n",
       "    .dataframe tbody tr th:only-of-type {\n",
       "        vertical-align: middle;\n",
       "    }\n",
       "\n",
       "    .dataframe tbody tr th {\n",
       "        vertical-align: top;\n",
       "    }\n",
       "\n",
       "    .dataframe thead th {\n",
       "        text-align: right;\n",
       "    }\n",
       "</style>\n",
       "<table border=\"1\" class=\"dataframe\">\n",
       "  <thead>\n",
       "    <tr style=\"text-align: right;\">\n",
       "      <th></th>\n",
       "      <th>reviewerID</th>\n",
       "      <th>asin</th>\n",
       "      <th>reviewerName</th>\n",
       "      <th>helpful</th>\n",
       "      <th>reviewText</th>\n",
       "      <th>overall</th>\n",
       "      <th>summary</th>\n",
       "      <th>unixReviewTime</th>\n",
       "      <th>reviewTime</th>\n",
       "    </tr>\n",
       "  </thead>\n",
       "  <tbody>\n",
       "    <tr>\n",
       "      <th>0</th>\n",
       "      <td>APYOBQE6M18AA</td>\n",
       "      <td>0615391206</td>\n",
       "      <td>Martin Schwartz</td>\n",
       "      <td>[0, 0]</td>\n",
       "      <td>My daughter wanted this book and the price on ...</td>\n",
       "      <td>5.0</td>\n",
       "      <td>Best Price</td>\n",
       "      <td>1382140800</td>\n",
       "      <td>10 19, 2013</td>\n",
       "    </tr>\n",
       "  </tbody>\n",
       "</table>\n",
       "</div>"
      ],
      "text/plain": [
       "      reviewerID        asin     reviewerName helpful  \\\n",
       "0  APYOBQE6M18AA  0615391206  Martin Schwartz  [0, 0]   \n",
       "\n",
       "                                          reviewText  overall     summary  \\\n",
       "0  My daughter wanted this book and the price on ...      5.0  Best Price   \n",
       "\n",
       "   unixReviewTime   reviewTime  \n",
       "0      1382140800  10 19, 2013  "
      ]
     },
     "execution_count": 4,
     "metadata": {},
     "output_type": "execute_result"
    }
   ],
   "source": [
    "data.head(1)"
   ]
  },
  {
   "cell_type": "markdown",
   "metadata": {},
   "source": [
    "As mentioned in the jmcauley site, belaw are the description of the fields:\n",
    "1. reviewerID - ID of the reviewer, e.g. A2SUAM1J3GNN3B\n",
    "2. asin - ID of the product, e.g. 0000013714\n",
    "3. reviewerName - name of the reviewer\n",
    "4. helpful - helpfulness rating of the review, e.g. 2/3.\n",
    "5. reviewText - text of the review\n",
    "6. overall - rating of the product\n",
    "7. summary - summary of the review\n",
    "8. unixReviewTime - time of the review (unix time)\n",
    "9. reviewTime - time of the review (raw)"
   ]
  },
  {
   "cell_type": "markdown",
   "metadata": {},
   "source": [
    "### Data Preprocessing "
   ]
  },
  {
   "cell_type": "markdown",
   "metadata": {},
   "source": [
    "Before selecting features from the data, need to narrow down search to those reviews that had more than 2 total reviews. The reason we select 2 as threshold is because when total votes is 0 or 1, the help ratios turn out either 100% or 0%. Beyond that we also limited our search to reviews for products had at least 10 reviews, because automated helpfulness classification itself is not necessary if the given product for which the reviews are being displayed has few reviews to begin with."
   ]
  },
  {
   "cell_type": "markdown",
   "metadata": {},
   "source": [
    "#### Data Filtering "
   ]
  },
  {
   "cell_type": "code",
   "execution_count": 5,
   "metadata": {},
   "outputs": [
    {
     "data": {
      "text/plain": [
       "(551682, 9)"
      ]
     },
     "execution_count": 5,
     "metadata": {},
     "output_type": "execute_result"
    }
   ],
   "source": [
    "# Size of the data before filtering\n",
    "data.shape"
   ]
  },
  {
   "cell_type": "code",
   "execution_count": 6,
   "metadata": {},
   "outputs": [
    {
     "data": {
      "text/plain": [
       "(462551, 9)"
      ]
     },
     "execution_count": 6,
     "metadata": {},
     "output_type": "execute_result"
    }
   ],
   "source": [
    "# Filter the products which has atleast 10 reviews\n",
    "groupby_product = data.groupby('asin').size()\n",
    "filter_reviews = data.groupby('asin').size().values >= 10\n",
    "filter_asins = groupby_product[filter_reviews].index\n",
    "data_filter = data.loc[data['asin'].isin(filter_asins), :]\n",
    "data_filter.shape"
   ]
  },
  {
   "cell_type": "code",
   "execution_count": 7,
   "metadata": {},
   "outputs": [
    {
     "data": {
      "text/plain": [
       "(27477, 9)"
      ]
     },
     "execution_count": 7,
     "metadata": {},
     "output_type": "execute_result"
    }
   ],
   "source": [
    "# Filter the reviews having more than 10 helpful reviews\n",
    "dataset = data_filter[data_filter['helpful'].apply(lambda x: x[1] > 10)]\n",
    "dataset.shape"
   ]
  },
  {
   "cell_type": "markdown",
   "metadata": {},
   "source": [
    "Now our data is reduced down to 27477 product reviews. Next is splitting the data into training and testing set and feature selection where we select the fetaures or attributes needed for machine learning model. We will also build custom features which will help in predicting the helpfulness further."
   ]
  },
  {
   "cell_type": "markdown",
   "metadata": {},
   "source": [
    "#### Deriving Helpfulness Target variable from features "
   ]
  },
  {
   "cell_type": "code",
   "execution_count": 8,
   "metadata": {},
   "outputs": [],
   "source": [
    "# This funcion will get the helpfulness rating based on certain threshold and total and helpful ratings count\n",
    "def getHelpfulness(dataset):\n",
    "    threshold=0.1\n",
    "    dataset.loc[:, 'isHelpful'] = np.where(dataset['helpful'].apply(lambda x: x[0])/dataset['helpful'].apply(lambda x: x[1]) > threshold, 1, 0)\n",
    "    dataset = dataset.drop(columns = ['helpful'], axis=1)\n",
    "    \n",
    "    return dataset\n",
    "\n",
    "dataset = getHelpfulness(dataset)"
   ]
  },
  {
   "cell_type": "code",
   "execution_count": 9,
   "metadata": {},
   "outputs": [],
   "source": [
    "dataset = dataset.reset_index(drop=True)"
   ]
  },
  {
   "cell_type": "code",
   "execution_count": 10,
   "metadata": {},
   "outputs": [
    {
     "data": {
      "text/plain": [
       "<matplotlib.axes._subplots.AxesSubplot at 0x1c43238e5c0>"
      ]
     },
     "execution_count": 10,
     "metadata": {},
     "output_type": "execute_result"
    },
    {
     "data": {
      "image/png": "[encoded data removed]",
      "text/plain": [
       "<Figure size 432x288 with 1 Axes>"
      ]
     },
     "metadata": {
      "needs_background": "light"
     },
     "output_type": "display_data"
    }
   ],
   "source": [
    "from scipy.stats import norm, skew\n",
    "\n",
    "# Lets explore the distribution of the helpfulness target variable\n",
    "sns.distplot(dataset['isHelpful'], fit=norm)"
   ]
  },
  {
   "cell_type": "markdown",
   "metadata": {},
   "source": [
    "The target variable distribution is not uniform. We will use SMOTE and random undersampling for balancing the dataset"
   ]
  },
  {
   "cell_type": "markdown",
   "metadata": {},
   "source": [
    "##### Custom Feature Extraction "
   ]
  },
  {
   "cell_type": "code",
   "execution_count": 11,
   "metadata": {},
   "outputs": [],
   "source": [
    "# This utility will generate the difference between the first review and the corresponding review days difference.\n",
    "def getReviewTimeDifferenceFromMin(dataset):\n",
    "    dataset['reviewTime'] = pd.to_datetime(dataset['reviewTime'])\n",
    "    dataset['firstReviewTime'] = dataset.groupby(['asin'])['reviewTime'].transform(min)\n",
    "    dataset['review_first_diff'] = (dataset['reviewTime'] - dataset['firstReviewTime']).astype('timedelta64[D]')\n",
    "    dataset = dataset.drop(columns = ['firstReviewTime', 'reviewTime'])\n",
    "    \n",
    "    return dataset"
   ]
  },
  {
   "cell_type": "code",
   "execution_count": 12,
   "metadata": {},
   "outputs": [],
   "source": [
    "# This utility will count the sentences in the review text\n",
    "def countReviewSentence(dataset):\n",
    "    pun_sen = ['.', '!', '?']\n",
    "    text_col = dataset['reviewText']\n",
    "    sentence_counts = []\n",
    "    for i in text_col:\n",
    "        sentence_count = []\n",
    "        for j in pun_sen:\n",
    "            count_a = i.count(j)\n",
    "            sentence_count.append(count_a)\n",
    "        sentence_counts.append(sum(sentence_count))\n",
    "    dataset['reviewSentencesCount'] = sentence_counts\n",
    "    return dataset"
   ]
  },
  {
   "cell_type": "code",
   "execution_count": 13,
   "metadata": {},
   "outputs": [],
   "source": [
    "# This utiity will generate the no of characters present in review text.\n",
    "# This will be used in determining the readability of each review\n",
    "punctuation = ['!','\"','#','$','%','&',\"'\",'(',')','*','+',',','-','.','/',':',';','<','=','>','?','@','[','\\\\',']','^','_','`','{','|','}','~','``',\"''\",'--']\n",
    "def count_characters(dataset):\n",
    "    reviewcharacters = []\n",
    "    text_col = dataset['reviewText']\n",
    "    for i in text_col:\n",
    "        a = dict(Counter(i))\n",
    "        b = {k:v for k, v in a.items() if k not in punctuation}\n",
    "        c = sum(list(b.values()))\n",
    "        reviewcharacters.append(c)\n",
    "    dataset['reviewChars'] = reviewcharacters\n",
    "    return dataset"
   ]
  },
  {
   "cell_type": "code",
   "execution_count": 14,
   "metadata": {},
   "outputs": [],
   "source": [
    "# Readability of each review (ARI as index to measure)\n",
    "def readability(dataset):\n",
    "    wordperSen = []\n",
    "    charperWord = []\n",
    "    reviewRead = []\n",
    "    len_df = len(dataset)\n",
    "    dataset['reviewTextWordCount'] = dataset['reviewText'].apply(lambda x: len(x.split()))\n",
    "    a = list(dataset['reviewTextWordCount'])\n",
    "    b = list(dataset['reviewSentencesCount'])\n",
    "    c = list(dataset['reviewChars'])\n",
    "    for i in range(len_df):\n",
    "        if b[i] == 0:\n",
    "            wordperSen.append(0)\n",
    "        else:\n",
    "            j = a[i] / b[i]\n",
    "            wordperSen.append(j)\n",
    "        if a[i] == 0:\n",
    "            charperWord.append(0)\n",
    "        else:\n",
    "            l = c[i] / a[i]\n",
    "            charperWord.append(l)\n",
    "        ari = 4.71 * charperWord[i] + 0.5 * wordperSen[i] - 21.43\n",
    "        reviewRead.append(ari)\n",
    "    dataset['reviewReadability'] = reviewRead\n",
    "    return dataset"
   ]
  },
  {
   "cell_type": "code",
   "execution_count": 15,
   "metadata": {},
   "outputs": [],
   "source": [
    "# drop extra features in the dataset\n",
    "def drop_extra_features(dataset):\n",
    "    dataset = dataset.drop(columns = ['asin', 'reviewerName', 'reviewerID','summary','unixReviewTime', 'reviewTextWordCount','overall',  'reviewSentencesCount', 'reviewChars'], axis = 1)\n",
    "    \n",
    "    return dataset"
   ]
  },
  {
   "cell_type": "code",
   "execution_count": 16,
   "metadata": {},
   "outputs": [],
   "source": [
    "# This function will get all the customised features\n",
    "def getCustomFeatures(dataset):\n",
    "    \n",
    "    dataset = getReviewTimeDifferenceFromMin(dataset)\n",
    "    dataset = countReviewSentence(dataset)\n",
    "    dataset = count_characters(dataset)\n",
    "    dataset = readability(dataset)\n",
    "    dataset = drop_extra_features(dataset)\n",
    "    \n",
    "    return dataset"
   ]
  },
  {
   "cell_type": "markdown",
   "metadata": {},
   "source": [
    "##### Defining Text Normalizer "
   ]
  },
  {
   "cell_type": "code",
   "execution_count": 17,
   "metadata": {},
   "outputs": [],
   "source": [
    "def clean_text(x):\n",
    "\n",
    "    x = str(x)\n",
    "    for punct in \"/-'\":\n",
    "        x = x.replace(punct, ' ')\n",
    "    for punct in '&':\n",
    "        x = x.replace(punct, f' {punct} ')\n",
    "    for punct in '?!.,\"#$%\\'()*+-/:;<=>@[\\\\]^_`{|}~' + '“”’':\n",
    "        x = x.replace(punct, '')\n",
    "    return x\n",
    "\n",
    "contraction_dict = {\"aint\": \"is not\", \"arent\": \"are not\",\"cant\": \"cannot\", \"'cause\": \"because\", \"couldve\": \"could have\", \"couldnt\": \"could not\", \"didnt\": \"did not\",  \"doesnt\": \"does not\", \"dont\": \"do not\", \"hadnt\": \"had not\", \"hasnt\": \"has not\", \"havent\": \"have not\", \"wasnt\": \"was not\", \"isnt\": \"is not\", \"shouldnt\": \"should not\", \"thats\": \"that is\"}\n",
    "def _get_contractions(contraction_dict):\n",
    "    contraction_re = re.compile('(%s)' % '|'.join(contraction_dict.keys()))\n",
    "    return contraction_dict, contraction_re\n",
    "\n",
    "contractions, contractions_re = _get_contractions(contraction_dict)\n",
    "\n",
    "def replace_contractions(text):\n",
    "    def replace(match):\n",
    "        return contractions[match.group(0)]\n",
    "    return contractions_re.sub(replace, text)\n",
    "\n",
    "# Misspelling corrections\n",
    "mispell_dict = {\"complis\": \"complies\", \"wellmade\": \"well-made\", \"onoff\": \"on/off\", \"kitchenaid\": \"kitchemaid\", \"roomba\": \"room\", \"appare\": \"apparel\", \"bodrum\": \"bodrum\", \"notly\": \"hotly\", \"kcup\": \"cup\", \"kcups\": \"cups\", \"krups\": \"cups\", \"roomthe\":\"room the\"}\n",
    "def _get_mispell(contraction_dict):\n",
    "    mispell_re = re.compile('(%s)' % '|'.join(mispell_dict.keys()))\n",
    "    return mispell_dict, mispell_re\n",
    "\n",
    "mispellings, mispellings_re = _get_mispell(mispell_dict)\n",
    "\n",
    "def replace_typical_mispell(text):\n",
    "    def replace(match):\n",
    "        return mispellings[match.group(0)]\n",
    "    return mispellings_re.sub(replace, text)\n",
    "\n",
    "wpt = nltk.WordPunctTokenizer()\n",
    "stop_words = nltk.corpus.stopwords.words('english')\n",
    "\n",
    "def normalize_text(text):\n",
    "    # lower case and remove special characters\\whitespaces\n",
    "    text = re.sub(r'[^a-zA-Z\\s]', '', text, re.I|re.A)\n",
    "    text = text.lower()\n",
    "    text = text.strip()\n",
    "    text = clean_text(text)\n",
    "    text = replace_contractions(text)\n",
    "    text = replace_typical_mispell(text)\n",
    "    # tokenize document\n",
    "    tokens = wpt.tokenize(text)\n",
    "    # filter stopwords out of document\n",
    "    filtered_tokens = [token for token in tokens if token not in stop_words]\n",
    "    # re-create document from filtered tokens\n",
    "    text = ' '.join(filtered_tokens)\n",
    "    return text"
   ]
  },
  {
   "cell_type": "code",
   "execution_count": 18,
   "metadata": {},
   "outputs": [],
   "source": [
    "#def get_normalize_text_data(run='train'):\n",
    "def get_normalize_text_data(dataset):\n",
    "    dataset['normalize_review_text'] = dataset['reviewText'].apply(lambda x: normalize_text(x))\n",
    "    dataset = dataset.drop(columns=['reviewText'])\n",
    "    \n",
    "    return dataset"
   ]
  },
  {
   "cell_type": "markdown",
   "metadata": {},
   "source": [
    "##### Feature Aggregation"
   ]
  },
  {
   "cell_type": "code",
   "execution_count": 19,
   "metadata": {},
   "outputs": [
    {
     "data": {
      "text/html": [
       "<div>\n",
       "<style scoped>\n",
       "    .dataframe tbody tr th:only-of-type {\n",
       "        vertical-align: middle;\n",
       "    }\n",
       "\n",
       "    .dataframe tbody tr th {\n",
       "        vertical-align: top;\n",
       "    }\n",
       "\n",
       "    .dataframe thead th {\n",
       "        text-align: right;\n",
       "    }\n",
       "</style>\n",
       "<table border=\"1\" class=\"dataframe\">\n",
       "  <thead>\n",
       "    <tr style=\"text-align: right;\">\n",
       "      <th></th>\n",
       "      <th>isHelpful</th>\n",
       "      <th>review_first_diff</th>\n",
       "      <th>reviewReadability</th>\n",
       "      <th>normalize_review_text</th>\n",
       "    </tr>\n",
       "  </thead>\n",
       "  <tbody>\n",
       "    <tr>\n",
       "      <th>0</th>\n",
       "      <td>1</td>\n",
       "      <td>640.0</td>\n",
       "      <td>12.653924</td>\n",
       "      <td>shortage pop recipes available free web purcha...</td>\n",
       "    </tr>\n",
       "  </tbody>\n",
       "</table>\n",
       "</div>"
      ],
      "text/plain": [
       "   isHelpful  review_first_diff  reviewReadability  \\\n",
       "0          1              640.0          12.653924   \n",
       "\n",
       "                               normalize_review_text  \n",
       "0  shortage pop recipes available free web purcha...  "
      ]
     },
     "execution_count": 19,
     "metadata": {},
     "output_type": "execute_result"
    }
   ],
   "source": [
    "# Generate the custom features\n",
    "dataset = getCustomFeatures(dataset)\n",
    "# Generate the normalize text feature\n",
    "dataset = get_normalize_text_data(dataset)\n",
    "dataset.head(1)"
   ]
  },
  {
   "cell_type": "markdown",
   "metadata": {},
   "source": [
    "##### Train-Test Split Data "
   ]
  },
  {
   "cell_type": "code",
   "execution_count": 20,
   "metadata": {},
   "outputs": [
    {
     "name": "stdout",
     "output_type": "stream",
     "text": [
      "<class 'pandas.core.frame.DataFrame'>\n",
      "Int64Index: 18409 entries, 11206 to 23654\n",
      "Data columns (total 3 columns):\n",
      "review_first_diff        18409 non-null float64\n",
      "reviewReadability        18409 non-null float64\n",
      "normalize_review_text    18409 non-null object\n",
      "dtypes: float64(2), object(1)\n",
      "memory usage: 575.3+ KB\n"
     ]
    }
   ],
   "source": [
    "from sklearn.model_selection import train_test_split\n",
    "\n",
    "X = dataset[['review_first_diff', 'reviewReadability', 'normalize_review_text']]\n",
    "y = dataset['isHelpful']\n",
    "\n",
    "X_train, X_test, y_train, y_test = train_test_split(X, y, test_size=0.33, random_state=42)\n",
    "X_train.info()"
   ]
  },
  {
   "cell_type": "code",
   "execution_count": 21,
   "metadata": {},
   "outputs": [],
   "source": [
    "#from imblearn.over_sampling import SMOTENC\n",
    "# define pipeline\n",
    "#over = SMOTENC(sampling_strategy=0.1)\n",
    "#under = RandomUnderSampler(sampling_strategy=0.5)\n",
    "#steps = [('o', over), ('u', under)]\n",
    "#pipeline = Pipeline(steps=steps)\n",
    "\n",
    "#print(\"Before OverSampling, counts of label '1': {}\".format(sum(y == 1))) \n",
    "#print(\"Before OverSampling, counts of label '0': {} \\n\".format(sum(y == 0))) \n"
   ]
  },
  {
   "cell_type": "code",
   "execution_count": 22,
   "metadata": {},
   "outputs": [],
   "source": [
    "# transform the dataset\n",
    "#X_list = np.array(list(X)).reshape(-1, 1)\n",
    "#X_res, y_res = pipeline.fit_resample(X_list, y)\n",
    "\n",
    "#print(\"After OverSampling, counts of label '1': {}\".format(sum(y_train == 1))) \n",
    "#print(\"After OverSampling, counts of label '0': {} \\n\".format(sum(y_train == 0))) \n"
   ]
  },
  {
   "cell_type": "markdown",
   "metadata": {},
   "source": [
    "##### Feature Union and Function Transformer "
   ]
  },
  {
   "cell_type": "code",
   "execution_count": 23,
   "metadata": {},
   "outputs": [],
   "source": [
    "from sklearn.base import TransformerMixin\n",
    "\n",
    "class ColumnExtractor(TransformerMixin):\n",
    "\n",
    "    def __init__(self, cols):\n",
    "        self.cols = cols\n",
    "\n",
    "    def fit(self, X, y=None):\n",
    "        # stateless transformer\n",
    "        return self\n",
    "\n",
    "    def transform(self, X):\n",
    "        # assumes X is a DataFrame\n",
    "        Xcols = X[self.cols]\n",
    "        return Xcols"
   ]
  },
  {
   "cell_type": "code",
   "execution_count": 24,
   "metadata": {},
   "outputs": [],
   "source": [
    "class TextTFIDFVectorizer(TransformerMixin):\n",
    "    \n",
    "    def __init__(self):\n",
    "        self.vec = None\n",
    "\n",
    "    def fit(self, X, y=None):\n",
    "        # stateless transformer\n",
    "        self.vec =TfidfVectorizer(min_df=0.01, max_df=1., ngram_range=(1, 1))\n",
    "        self.vec.fit(X['normalize_review_text'])\n",
    "        return self\n",
    "    \n",
    "    def transform(self, X):\n",
    "        # assumes X is a DataFrame\n",
    "        # Defining the Tfidf vectorizer\n",
    "        #vectorizer = TfidfVectorizer(min_df=0.01, max_df=1., ngram_range=(1, 1))\n",
    "        #fit the vectorizers to the data.\n",
    "        features = self.vec.transform(X['normalize_review_text'])\n",
    "    \n",
    "        return features\n",
    "        "
   ]
  },
  {
   "cell_type": "code",
   "execution_count": 25,
   "metadata": {},
   "outputs": [],
   "source": [
    "class TextWord2Vectorizer(TransformerMixin):\n",
    "    def __init__(self):\n",
    "        self.word2vec = None\n",
    "        \n",
    "    def _col_transform(self, words, model, vocabulary, num_features):\n",
    "        feature_vector = np.zeros((num_features,),dtype=\"float64\")\n",
    "        nwords = 0.\n",
    "    \n",
    "        for word in words:\n",
    "            if word in vocabulary: \n",
    "                nwords = nwords + 1.\n",
    "                feature_vector = np.add(feature_vector, model[word])\n",
    "\n",
    "        if nwords:\n",
    "            feature_vector = np.divide(feature_vector, nwords)\n",
    "\n",
    "        return feature_vector\n",
    "    \n",
    "    def fit(self, X, y=None):\n",
    "        return self\n",
    "\n",
    "    def transform(self, X, y=None):\n",
    "        wpt = nltk.WordPunctTokenizer()\n",
    "        tokenized_corpus = [wpt.tokenize(document) for document in X['normalize_review_text']] \n",
    "        \n",
    "        # Set values for various parameters\n",
    "        feature_size = 100    # Word vector dimensionality  \n",
    "        window_context = 5    # Context window size                                                                                    \n",
    "        min_word_count = 2    # Minimum word count                        \n",
    "        sample = 1e-3         # Downsample setting for frequent words\n",
    "\n",
    "        self.word2vec = Word2Vec(tokenized_corpus, size=feature_size, \n",
    "                                      window=window_context, min_count = min_word_count,\n",
    "                                      sample=sample, iter=10)\n",
    "        \n",
    "        vocabulary = set(self.word2vec.wv.index2word)\n",
    "        features = [self._col_transform(tokenized_sentence, self.word2vec, vocabulary, num_features=100)\n",
    "                    for tokenized_sentence in tokenized_corpus]\n",
    "        return np.array(features)\n",
    "    \n",
    "    def fit_transform(self, X, y=None):\n",
    "        return self.transform(X)"
   ]
  },
  {
   "cell_type": "code",
   "execution_count": 26,
   "metadata": {},
   "outputs": [],
   "source": [
    "from sklearn.preprocessing import FunctionTransformer\n",
    "from sklearn.preprocessing import StandardScaler\n",
    "from sklearn.impute import SimpleImputer\n",
    "from sklearn.pipeline import FeatureUnion\n",
    "from sklearn.pipeline import Pipeline\n",
    "from sklearn.feature_extraction.text import TfidfVectorizer\n",
    "from sklearn.naive_bayes import GaussianNB\n",
    "from sklearn.linear_model import LogisticRegression\n",
    "from sklearn.feature_extraction.text import TfidfTransformer\n",
    "from sklearn.ensemble import RandomForestClassifier\n",
    "from sklearn.tree import DecisionTreeClassifier\n",
    "\n",
    "\n",
    "NUM_FEATURES = ['review_first_diff', 'reviewReadability']\n",
    "TEXT_FEATURE = ['normalize_review_text']\n",
    "\n",
    "process_and_join_features_tfidf = FeatureUnion(\n",
    "                            transformer_list=[\n",
    "                                ('numeric_feaures', Pipeline([\n",
    "                                    ('selector', ColumnExtractor(NUM_FEATURES)), \n",
    "                                    ('scale', StandardScaler())\n",
    "                                ])),\n",
    "                                ('text_features', Pipeline([\n",
    "                                    ('selector', ColumnExtractor(TEXT_FEATURE)),\n",
    "                                    ('vectorizer',TextTFIDFVectorizer())\n",
    "                                ]))\n",
    "                            ])\n",
    "\n",
    "\n",
    "process_and_join_features_word2vec = FeatureUnion(\n",
    "                            transformer_list=[\n",
    "                                ('numeric_feaures', Pipeline([\n",
    "                                    ('selector', ColumnExtractor(NUM_FEATURES)), \n",
    "                                    ('scale', StandardScaler())\n",
    "                                ])),\n",
    "                                ('text_features', Pipeline([\n",
    "                                    ('selector', ColumnExtractor(TEXT_FEATURE)),\n",
    "                                    ('vectorizer',TextWord2Vectorizer())\n",
    "                                ]))\n",
    "                            ])\n",
    "\n",
    "pipe_lr_tfidf = Pipeline([\n",
    "                   ('union', process_and_join_features_tfidf),\n",
    "                   ('clf', LogisticRegression(random_state=42))\n",
    "                ])\n",
    "pipe_dt_tfidf = Pipeline([\n",
    "                   ('union', process_and_join_features_tfidf),\n",
    "                   ('clf', DecisionTreeClassifier(random_state=42))\n",
    "                ])\n",
    "pipe_lr_word2vec = Pipeline([\n",
    "                   ('union', process_and_join_features_word2vec),\n",
    "                   ('clf', LogisticRegression(random_state=42))\n",
    "                ])\n",
    "pipe_dt_word2vec = Pipeline([\n",
    "                   ('union', process_and_join_features_word2vec),\n",
    "                   ('clf', DecisionTreeClassifier(random_state=42))\n",
    "                ])\n"
   ]
  },
  {
   "cell_type": "markdown",
   "metadata": {},
   "source": [
    "#### Select Base Model "
   ]
  },
  {
   "cell_type": "code",
   "execution_count": 27,
   "metadata": {},
   "outputs": [],
   "source": [
    "from sklearn.metrics import roc_auc_score\n",
    "\n",
    "def train_predict_pipeline(pipeline):\n",
    "    pipeline.fit(X_train, y_train)\n",
    "    y_pred_train = pipeline.predict(X_train)\n",
    "    #Evaluate model\n",
    "    p_pred_test = pipeline.predict_proba(X_test)[:, 1]\n",
    "    auc_test = roc_auc_score(y_test, p_pred_test)\n",
    "    print('Test set accuracy score: %.3f ' % auc_test)\n",
    "    \n",
    "clf_pipeline = [pipe_lr_tfidf, pipe_dt_tfidf, pipe_lr_word2vec, pipe_dt_word2vec]\n",
    "clf_dict = {0: 'TF-IDF Logistic Regression', 1: 'TF-IDF Decision Tree', 2: 'Word2Vec Logistic Regression',\n",
    "             3: 'Word2Vec Decision Tree'}"
   ]
  },
  {
   "cell_type": "code",
   "execution_count": 28,
   "metadata": {},
   "outputs": [
    {
     "name": "stdout",
     "output_type": "stream",
     "text": [
      "Predicting test accuracy using : TF-IDF Logistic Regression\n",
      "Test set accuracy score: 0.841 \n",
      "Predicting test accuracy using : TF-IDF Decision Tree\n",
      "Test set accuracy score: 0.556 \n",
      "Predicting test accuracy using : Word2Vec Logistic Regression\n",
      "Test set accuracy score: 0.760 \n",
      "Predicting test accuracy using : Word2Vec Decision Tree\n",
      "Test set accuracy score: 0.518 \n"
     ]
    }
   ],
   "source": [
    "for idx, clf_pipe in enumerate(clf_pipeline):\n",
    "    print('Predicting test accuracy using : %s' % clf_dict[idx])\n",
    "    train_predict_pipeline(clf_pipe)    "
   ]
  },
  {
   "cell_type": "markdown",
   "metadata": {},
   "source": [
    "Based on the above test accuracy test, TFIDF Logistic Regression has performed better than rest all models.\n",
    "So in the next step, we will try to optimize the test accuracy by Cross-validation using GridSearchCV"
   ]
  },
  {
   "cell_type": "code",
   "execution_count": 29,
   "metadata": {},
   "outputs": [],
   "source": [
    "from sklearn.metrics import accuracy_score,precision_score,classification_report\n",
    "\n",
    "def perform_model_optimization(grids, grid_dict):\n",
    "    # Fit the grid search objects\n",
    "    print('Performing model optimizations...')\n",
    "    best_acc = 0.0\n",
    "    best_clf = 0\n",
    "    best_gs = ''\n",
    "    for idx, gs in enumerate(grids):\n",
    "        print('\\nEstimator: %s' % grid_dict[idx])\n",
    "        # Fit grid search\n",
    "        gs.fit(X_train, y_train)\n",
    "        # Best params\n",
    "        print('Best params: %s' % gs.best_params_)\n",
    "        # Best training data accuracy\n",
    "        print('Best training accuracy: %.3f' % gs.best_score_)\n",
    "        # Predict on test data with best params\n",
    "        y_pred = gs.predict(X_test)\n",
    "        # Test data accuracy of model with best params\n",
    "        print('Test set precision score for best params: %.3f ' % precision_score(y_test, y_pred))\n",
    "        print('Classification report :')\n",
    "        print(classification_report(y_test, y_pred))\n",
    "        # Track best (highest test accuracy) model\n",
    "        if precision_score(y_test, y_pred) > best_acc:\n",
    "            best_acc = precision_score(y_test, y_pred)\n",
    "            best_gs = gs\n",
    "            best_clf = idx\n",
    "    print('\\nClassifier with best test set precision: %s' % grid_dict[best_clf])\n",
    "    return (best_clf,best_gs)"
   ]
  },
  {
   "cell_type": "code",
   "execution_count": 30,
   "metadata": {},
   "outputs": [],
   "source": [
    "from sklearn.model_selection import GridSearchCV\n",
    "\n",
    "# Set grid search params\n",
    "param_range_fl = [1.0, 0.5, 0.1]\n",
    "\n",
    "grid_params_lr = [{'clf__penalty': ['l1', 'l2'],\n",
    "        'clf__C': param_range_fl,\n",
    "        'clf__solver': ['liblinear']}] "
   ]
  },
  {
   "cell_type": "code",
   "execution_count": 31,
   "metadata": {},
   "outputs": [],
   "source": [
    "gs_lr_tfidf = GridSearchCV(estimator=pipe_lr_tfidf,\n",
    "                     param_grid=grid_params_lr,\n",
    "                     scoring='accuracy',cv=5)"
   ]
  },
  {
   "cell_type": "code",
   "execution_count": 32,
   "metadata": {},
   "outputs": [],
   "source": [
    "# List of pipelines for ease of iteration\n",
    "grids = [gs_lr_tfidf]\n",
    "\n",
    "# Dictionary of pipelines and classifier types for ease of reference\n",
    "grid_dict = {0: 'TF-IDF Logistic Regression'}\n"
   ]
  },
  {
   "cell_type": "code",
   "execution_count": 33,
   "metadata": {},
   "outputs": [
    {
     "name": "stdout",
     "output_type": "stream",
     "text": [
      "Performing model optimizations...\n",
      "\n",
      "Estimator: TF-IDF Logistic Regression\n",
      "Best params: {'clf__C': 1.0, 'clf__penalty': 'l1', 'clf__solver': 'liblinear'}\n",
      "Best training accuracy: 0.987\n",
      "Test set precision score for best params: 0.988 \n",
      "Classification report :\n",
      "              precision    recall  f1-score   support\n",
      "\n",
      "           0       1.00      0.02      0.04       107\n",
      "           1       0.99      1.00      0.99      8961\n",
      "\n",
      "    accuracy                           0.99      9068\n",
      "   macro avg       0.99      0.51      0.52      9068\n",
      "weighted avg       0.99      0.99      0.98      9068\n",
      "\n",
      "\n",
      "Classifier with best test set precision: TF-IDF Logistic Regression\n"
     ]
    },
    {
     "data": {
      "text/plain": [
       "(0, GridSearchCV(cv=5, error_score=nan,\n",
       "              estimator=Pipeline(memory=None,\n",
       "                                 steps=[('union',\n",
       "                                         FeatureUnion(n_jobs=None,\n",
       "                                                      transformer_list=[('numeric_feaures',\n",
       "                                                                         Pipeline(memory=None,\n",
       "                                                                                  steps=[('selector',\n",
       "                                                                                          <__main__.ColumnExtractor object at 0x000001C40AE8ADD8>),\n",
       "                                                                                         ('scale',\n",
       "                                                                                          StandardScaler(copy=True,\n",
       "                                                                                                         with_mean=True,\n",
       "                                                                                                         with_std=True))],\n",
       "                                                                                  verbose=False)),\n",
       "                                                                        ('text_features',\n",
       "                                                                         Pipeline(memor...\n",
       "                                                            max_iter=100,\n",
       "                                                            multi_class='auto',\n",
       "                                                            n_jobs=None,\n",
       "                                                            penalty='l2',\n",
       "                                                            random_state=42,\n",
       "                                                            solver='lbfgs',\n",
       "                                                            tol=0.0001,\n",
       "                                                            verbose=0,\n",
       "                                                            warm_start=False))],\n",
       "                                 verbose=False),\n",
       "              iid='deprecated', n_jobs=None,\n",
       "              param_grid=[{'clf__C': [1.0, 0.5, 0.1],\n",
       "                           'clf__penalty': ['l1', 'l2'],\n",
       "                           'clf__solver': ['liblinear']}],\n",
       "              pre_dispatch='2*n_jobs', refit=True, return_train_score=False,\n",
       "              scoring='accuracy', verbose=0))"
      ]
     },
     "execution_count": 33,
     "metadata": {},
     "output_type": "execute_result"
    }
   ],
   "source": [
    "perform_model_optimization(grids, grid_dict)"
   ]
  },
  {
   "cell_type": "markdown",
   "metadata": {},
   "source": [
    "Based on the classification report printed above, though we have high precision or accuracy of about 99%, still its not properly build as the ratio of helpfulness and not helpfulness data is highly skewed with high number of helpfulness label data  compared to not helpful data. In this case we will perform over-sampling of minority data(not helpful data) so that the data distribution is symmetric using SMOTE."
   ]
  },
  {
   "cell_type": "code",
   "execution_count": 34,
   "metadata": {},
   "outputs": [],
   "source": [
    "from imblearn.over_sampling import SMOTE, RandomOverSampler\n",
    "from imblearn.pipeline import Pipeline\n",
    "\n",
    "pipe_lr_tfidf_random_sampling = Pipeline([\n",
    "                   ('union', process_and_join_features_tfidf),\n",
    "                   ('random_sampling', RandomOverSampler(random_state=777)),\n",
    "                   ('clf', LogisticRegression(random_state=42))\n",
    "                ])\n",
    "pipe_lr_tfidf_smote_sampling = Pipeline([\n",
    "                   ('union', process_and_join_features_tfidf),\n",
    "                   ('random_sampling', SMOTE(random_state=777)),\n",
    "                   ('clf', LogisticRegression(random_state=42))\n",
    "                ])"
   ]
  },
  {
   "cell_type": "code",
   "execution_count": 35,
   "metadata": {},
   "outputs": [],
   "source": [
    "gs_lr_tfidf_random_sampling = GridSearchCV(estimator=pipe_lr_tfidf_random_sampling,\n",
    "                     param_grid=grid_params_lr,\n",
    "                     scoring='accuracy',cv=5)\n",
    "gs_lr_tfidf_smote_sampling = GridSearchCV(estimator=pipe_lr_tfidf_smote_sampling,\n",
    "                     param_grid=grid_params_lr,\n",
    "                     scoring='accuracy',cv=5)"
   ]
  },
  {
   "cell_type": "code",
   "execution_count": 36,
   "metadata": {},
   "outputs": [],
   "source": [
    "# List of pipelines for ease of iteration\n",
    "grids_sampling = [gs_lr_tfidf_random_sampling, gs_lr_tfidf_smote_sampling]\n",
    "\n",
    "# Dictionary of pipelines and classifier types for ease of reference\n",
    "grid_sampling_dict = {0: 'Random Oversampling TF-IDF Logistic Regression', 1: 'SMOTE Oversampling TF-IDF Logistic Regression'}\n"
   ]
  },
  {
   "cell_type": "code",
   "execution_count": 37,
   "metadata": {},
   "outputs": [
    {
     "name": "stdout",
     "output_type": "stream",
     "text": [
      "Performing model optimizations...\n",
      "\n",
      "Estimator: Random Oversampling TF-IDF Logistic Regression\n",
      "Best params: {'clf__C': 1.0, 'clf__penalty': 'l1', 'clf__solver': 'liblinear'}\n",
      "Best training accuracy: 0.956\n",
      "Test set precision score for best params: 0.992 \n",
      "Classification report :\n",
      "              precision    recall  f1-score   support\n",
      "\n",
      "           0       0.10      0.38      0.16       107\n",
      "           1       0.99      0.96      0.98      8961\n",
      "\n",
      "    accuracy                           0.95      9068\n",
      "   macro avg       0.55      0.67      0.57      9068\n",
      "weighted avg       0.98      0.95      0.97      9068\n",
      "\n",
      "\n",
      "Estimator: SMOTE Oversampling TF-IDF Logistic Regression\n",
      "Best params: {'clf__C': 1.0, 'clf__penalty': 'l1', 'clf__solver': 'liblinear'}\n",
      "Best training accuracy: 0.956\n",
      "Test set precision score for best params: 0.993 \n",
      "Classification report :\n",
      "              precision    recall  f1-score   support\n",
      "\n",
      "           0       0.11      0.39      0.17       107\n",
      "           1       0.99      0.96      0.98      8961\n",
      "\n",
      "    accuracy                           0.95      9068\n",
      "   macro avg       0.55      0.68      0.57      9068\n",
      "weighted avg       0.98      0.95      0.97      9068\n",
      "\n",
      "\n",
      "Classifier with best test set precision: SMOTE Oversampling TF-IDF Logistic Regression\n"
     ]
    }
   ],
   "source": [
    "best_clf,best_gs = perform_model_optimization(grids_sampling, grid_sampling_dict)"
   ]
  },
  {
   "cell_type": "code",
   "execution_count": 38,
   "metadata": {},
   "outputs": [
    {
     "name": "stdout",
     "output_type": "stream",
     "text": [
      "\n",
      "Saved SMOTE Oversampling TF-IDF Logistic Regression grid search pipeline to file: best_gs_pipeline.pkl\n"
     ]
    }
   ],
   "source": [
    "from sklearn.externals import joblib\n",
    "# Save best grid search pipeline to file\n",
    "dump_file = 'best_gs_pipeline.pkl'\n",
    "joblib.dump(best_gs, dump_file, compress=1)\n",
    "print('\\nSaved %s grid search pipeline to file: %s' % (grid_sampling_dict[best_clf], dump_file))"
   ]
  },
  {
   "cell_type": "markdown",
   "metadata": {},
   "source": [
    "Based on the our analysis, using SMOTE Oversampling TFIDF Logistic Regression, we got the highest precision of around 99%."
   ]
  },
  {
   "cell_type": "code",
   "execution_count": null,
   "metadata": {},
   "outputs": [],
   "source": []
  }
 ],
 "metadata": {
  "kernelspec": {
   "display_name": "Python 3",
   "language": "python",
   "name": "python3"
  },
  "language_info": {
   "codemirror_mode": {
    "name": "ipython",
    "version": 3
   },
   "file_extension": ".py",
   "mimetype": "text/x-python",
   "name": "python",
   "nbconvert_exporter": "python",
   "pygments_lexer": "ipython3",
   "version": "3.7.3"
  }
 },
 "nbformat": 4,
 "nbformat_minor": 2
}
