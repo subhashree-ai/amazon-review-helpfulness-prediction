{
 "cells": [
  {
   "cell_type": "markdown",
   "metadata": {},
   "source": [
    "# Amazon Review Helpfulness Prediction"
   ]
  },
  {
   "cell_type": "markdown",
   "metadata": {},
   "source": [
    "## Problem Statement"
   ]
  },
  {
   "cell_type": "markdown",
   "metadata": {},
   "source": [
    "In this project, we will try to automatically predict the helpfulness of Amazon.com product reviews, specifically in\n",
    "the case of home and kitchen products.\n",
    "\n",
    "The inspiration behind this project is that the product we buy is mostly influenced by the review about the product. In most of the e-commerce platform, the most helpful reviews are displayed on the products front page.In order to differentiate reviews based on their helpfulness, Amazon has implemented an interface that allows customers to vote on whether a particular review has been helpful or unhelpful. The fraction of customers who have deemed the review helpful is displayed with the review, and  amazon uses these ratings to rank the reviews, displaying the most helpful rankings on the products front page. The drawback is that more recently written reviews are at a disadvantage since less people have voted on the helpfulness of the review. Because of this, reviews with few votes cannot be effectively ranked and will not gain visibility until they have accumulated adequate votes, which can take some time.\n",
    "\n",
    "As a result, we would like to assess the helpfulness of reviews automatically, without having to wait for users to manually vote over the course of time. If we can do this, we would be able to give users the most relevant, helpful, and up to date reviews possible, without any delay in more helpful reviews being displayed. Moreover, such an automatic classification of reviews would be able to help in rooting out poorly written reviews lacking helpful information to other consumers.\n",
    "\n",
    "For the problem statement, we will use the Home and Kitchen dataset which is having around 346,355 reviews. Dataset is available at JmCauley page: http://jmcauley.ucsd.edu/data/amazon/links.html"
   ]
  },
  {
   "cell_type": "markdown",
   "metadata": {},
   "source": [
    "### Import and Initialization"
   ]
  },
  {
   "cell_type": "code",
   "execution_count": 1,
   "metadata": {},
   "outputs": [],
   "source": [
    "# Importing the relevant dependencies\n",
    "import numpy as np\n",
    "import pandas as pd\n",
    "import gzip\n",
    "import math, time, random, datetime\n",
    "import string\n",
    "import os\n",
    "import nltk\n",
    "#nltk.download('stopwords')\n",
    "from collections import defaultdict\n",
    "from gensim.models import Word2Vec\n",
    "\n",
    "# data visualization\n",
    "%matplotlib inline\n",
    "import matplotlib.pyplot as plt\n",
    "import seaborn as sns\n",
    "plt.style.use('seaborn-whitegrid')\n",
    "\n",
    "from IPython.display import display # Allows the use of display() for DataFrames\n",
    "import warnings\n",
    "warnings.filterwarnings('ignore')\n",
    "import re\n",
    "from collections import Counter\n",
    "import pickle\n",
    "from sklearn.model_selection import train_test_split"
   ]
  },
  {
   "cell_type": "code",
   "execution_count": 2,
   "metadata": {},
   "outputs": [],
   "source": [
    "import sys\n",
    "module_path = os.path.abspath(os.path.join('..'))\n",
    "if module_path not in sys.path:\n",
    "    sys.path.append(module_path+\"\\\\src\\\\utils\")"
   ]
  },
  {
   "cell_type": "code",
   "execution_count": 3,
   "metadata": {},
   "outputs": [
    {
     "name": "stderr",
     "output_type": "stream",
     "text": [
      "[nltk_data] Downloading package stopwords to\n",
      "[nltk_data]     C:\\Users\\HP\\AppData\\Roaming\\nltk_data...\n",
      "[nltk_data]   Package stopwords is already up-to-date!\n"
     ]
    }
   ],
   "source": [
    "import utility\n",
    "from custom_text_preprocessing import normalize_text\n",
    "from custom_transformer import ColumnExtractor, TextTFIDFVectorizer, TextWord2Vectorizer"
   ]
  },
  {
   "cell_type": "code",
   "execution_count": 4,
   "metadata": {},
   "outputs": [],
   "source": [
    "# folder where input data and pickle data load present\n",
    "data_folder = '../data/dataLoad/'\n",
    "input_folder = '../data/raw/'"
   ]
  },
  {
   "cell_type": "markdown",
   "metadata": {},
   "source": [
    "### Data Loading"
   ]
  },
  {
   "cell_type": "code",
   "execution_count": 5,
   "metadata": {},
   "outputs": [],
   "source": [
    "# Loading the home and kitchen dataset which is downloaded in the /data path\n",
    "input_data = 'reviews_Home_and_Kitchen_5.json.gz'\n",
    "def parse(path):\n",
    "    g = gzip.open(path, 'rb')\n",
    "    for l in g:\n",
    "        yield eval(l)\n",
    "\n",
    "def getDF(path):\n",
    "    i = 0\n",
    "    df = {}\n",
    "    for d in parse(path):\n",
    "        df[i] = d\n",
    "        i +=1\n",
    "    return pd.DataFrame.from_dict(df, orient='index')\n",
    "\n",
    "data = getDF(input_folder + input_data)   "
   ]
  },
  {
   "cell_type": "code",
   "execution_count": 6,
   "metadata": {},
   "outputs": [
    {
     "data": {
      "text/html": [
       "<div>\n",
       "<style scoped>\n",
       "    .dataframe tbody tr th:only-of-type {\n",
       "        vertical-align: middle;\n",
       "    }\n",
       "\n",
       "    .dataframe tbody tr th {\n",
       "        vertical-align: top;\n",
       "    }\n",
       "\n",
       "    .dataframe thead th {\n",
       "        text-align: right;\n",
       "    }\n",
       "</style>\n",
       "<table border=\"1\" class=\"dataframe\">\n",
       "  <thead>\n",
       "    <tr style=\"text-align: right;\">\n",
       "      <th></th>\n",
       "      <th>reviewerID</th>\n",
       "      <th>asin</th>\n",
       "      <th>reviewerName</th>\n",
       "      <th>helpful</th>\n",
       "      <th>reviewText</th>\n",
       "      <th>overall</th>\n",
       "      <th>summary</th>\n",
       "      <th>unixReviewTime</th>\n",
       "      <th>reviewTime</th>\n",
       "    </tr>\n",
       "  </thead>\n",
       "  <tbody>\n",
       "    <tr>\n",
       "      <th>0</th>\n",
       "      <td>APYOBQE6M18AA</td>\n",
       "      <td>0615391206</td>\n",
       "      <td>Martin Schwartz</td>\n",
       "      <td>[0, 0]</td>\n",
       "      <td>My daughter wanted this book and the price on ...</td>\n",
       "      <td>5.0</td>\n",
       "      <td>Best Price</td>\n",
       "      <td>1382140800</td>\n",
       "      <td>10 19, 2013</td>\n",
       "    </tr>\n",
       "  </tbody>\n",
       "</table>\n",
       "</div>"
      ],
      "text/plain": [
       "      reviewerID        asin     reviewerName helpful  \\\n",
       "0  APYOBQE6M18AA  0615391206  Martin Schwartz  [0, 0]   \n",
       "\n",
       "                                          reviewText  overall     summary  \\\n",
       "0  My daughter wanted this book and the price on ...      5.0  Best Price   \n",
       "\n",
       "   unixReviewTime   reviewTime  \n",
       "0      1382140800  10 19, 2013  "
      ]
     },
     "execution_count": 6,
     "metadata": {},
     "output_type": "execute_result"
    }
   ],
   "source": [
    "data.head(1)"
   ]
  },
  {
   "cell_type": "markdown",
   "metadata": {},
   "source": [
    "As mentioned in the jmcauley site, belaw are the description of the fields:\n",
    "1. reviewerID - ID of the reviewer, e.g. A2SUAM1J3GNN3B\n",
    "2. asin - ID of the product, e.g. 0000013714\n",
    "3. reviewerName - name of the reviewer\n",
    "4. helpful - helpfulness rating of the review, e.g. 2/3.\n",
    "5. reviewText - text of the review\n",
    "6. overall - rating of the product\n",
    "7. summary - summary of the review\n",
    "8. unixReviewTime - time of the review (unix time)\n",
    "9. reviewTime - time of the review (raw)"
   ]
  },
  {
   "cell_type": "markdown",
   "metadata": {},
   "source": [
    "### Data Preprocessing "
   ]
  },
  {
   "cell_type": "markdown",
   "metadata": {},
   "source": [
    "Before selecting features from the data, need to narrow down search to those reviews that had more than 10 total reviews. The ratio of people that find it helpful is more important. This effect can disappear at small ratings (e.g 1/2) so the reviews with less than 10 ratings have been eliminated. Beyond that we also limited our search to reviews for products had at least 10 reviews, because automated helpfulness classification itself is not necessary if the given product for which the reviews are being displayed has few reviews to begin with."
   ]
  },
  {
   "cell_type": "markdown",
   "metadata": {},
   "source": [
    "#### Data Filtering "
   ]
  },
  {
   "cell_type": "code",
   "execution_count": 7,
   "metadata": {},
   "outputs": [
    {
     "data": {
      "text/plain": [
       "(551682, 9)"
      ]
     },
     "execution_count": 7,
     "metadata": {},
     "output_type": "execute_result"
    }
   ],
   "source": [
    "# Size of the data before filtering\n",
    "data.shape"
   ]
  },
  {
   "cell_type": "code",
   "execution_count": 8,
   "metadata": {},
   "outputs": [
    {
     "data": {
      "text/plain": [
       "(462551, 9)"
      ]
     },
     "execution_count": 8,
     "metadata": {},
     "output_type": "execute_result"
    }
   ],
   "source": [
    "# Filter the products which has atleast 10 reviews\n",
    "groupby_product = data.groupby('asin').size()\n",
    "filter_reviews = data.groupby('asin').size().values >= 10\n",
    "filter_asins = groupby_product[filter_reviews].index\n",
    "data_filter = data.loc[data['asin'].isin(filter_asins), :]\n",
    "data_filter.shape"
   ]
  },
  {
   "cell_type": "code",
   "execution_count": 9,
   "metadata": {},
   "outputs": [
    {
     "data": {
      "text/plain": [
       "(27477, 9)"
      ]
     },
     "execution_count": 9,
     "metadata": {},
     "output_type": "execute_result"
    }
   ],
   "source": [
    "# Filter the reviews having more than 10 helpful reviews\n",
    "dataset = data_filter[data_filter['helpful'].apply(lambda x: x[1] > 10)]\n",
    "dataset.shape"
   ]
  },
  {
   "cell_type": "markdown",
   "metadata": {},
   "source": [
    "Now our data is reduced down to 86914 product reviews. Next is deriving the helpfulness target variable.The problem statement is the classification problem that needs to be mapped to discrete class, in our case its binary classification with 2 discrete class i.e; 1/0 which map to Helpful/Not Helpful class repectively. We use the sigmoid function in order to map predicted values to probability values. This sigmoid function then maps any real value into a probability value between 0 and 1.\n",
    "The sigmoid function returns a probability value between 0 and 1. This probability value is then mapped to a discrete class which is either “0” or “1”. In order to map this probability value to a discrete class (pass/fail, yes/no, true/false), we select a threshold value. This threshold value is called Decision boundary. Above this threshold value, we will map the probability values into class 1 and below which we will map values into class 0.\n",
    "\n",
    "Mathematically, it can be expressed as follows:-\n",
    "\n",
    "                p ≥ 0.5 => class = 1\n",
    "\n",
    "                p < 0.5 => class = 0 \n",
    "\n",
    "\n",
    "Generally, the decision boundary is set to 0.5. So, if the probability value is 0.8 (> 0.5), we will map this observation to class 1. Similarly, if the probability value is 0.2 (< 0.5), we will map this observation to class 0.\n",
    "\n",
    "We will also build custom features which will help in predicting the helpfulness further."
   ]
  },
  {
   "cell_type": "markdown",
   "metadata": {},
   "source": [
    "#### Deriving Helpfulness Target variable from features "
   ]
  },
  {
   "cell_type": "code",
   "execution_count": 10,
   "metadata": {},
   "outputs": [
    {
     "data": {
      "text/html": [
       "<div>\n",
       "<style scoped>\n",
       "    .dataframe tbody tr th:only-of-type {\n",
       "        vertical-align: middle;\n",
       "    }\n",
       "\n",
       "    .dataframe tbody tr th {\n",
       "        vertical-align: top;\n",
       "    }\n",
       "\n",
       "    .dataframe thead th {\n",
       "        text-align: right;\n",
       "    }\n",
       "</style>\n",
       "<table border=\"1\" class=\"dataframe\">\n",
       "  <thead>\n",
       "    <tr style=\"text-align: right;\">\n",
       "      <th></th>\n",
       "      <th>reviewerID</th>\n",
       "      <th>asin</th>\n",
       "      <th>reviewerName</th>\n",
       "      <th>helpful</th>\n",
       "      <th>reviewText</th>\n",
       "      <th>overall</th>\n",
       "      <th>summary</th>\n",
       "      <th>unixReviewTime</th>\n",
       "      <th>reviewTime</th>\n",
       "      <th>helpful_ratings</th>\n",
       "      <th>total_ratings</th>\n",
       "    </tr>\n",
       "  </thead>\n",
       "  <tbody>\n",
       "    <tr>\n",
       "      <th>2</th>\n",
       "      <td>A3UPYGJKZ0XTU4</td>\n",
       "      <td>0615391206</td>\n",
       "      <td>mirasreviews</td>\n",
       "      <td>[26, 27]</td>\n",
       "      <td>There is no shortage of pop recipes available ...</td>\n",
       "      <td>4.0</td>\n",
       "      <td>Excels at Sweet Dessert Pops, but Falls Short ...</td>\n",
       "      <td>1367712000</td>\n",
       "      <td>05 5, 2013</td>\n",
       "      <td>26</td>\n",
       "      <td>27</td>\n",
       "    </tr>\n",
       "  </tbody>\n",
       "</table>\n",
       "</div>"
      ],
      "text/plain": [
       "       reviewerID        asin  reviewerName   helpful  \\\n",
       "2  A3UPYGJKZ0XTU4  0615391206  mirasreviews  [26, 27]   \n",
       "\n",
       "                                          reviewText  overall  \\\n",
       "2  There is no shortage of pop recipes available ...      4.0   \n",
       "\n",
       "                                             summary  unixReviewTime  \\\n",
       "2  Excels at Sweet Dessert Pops, but Falls Short ...      1367712000   \n",
       "\n",
       "   reviewTime  helpful_ratings  total_ratings  \n",
       "2  05 5, 2013               26             27  "
      ]
     },
     "execution_count": 10,
     "metadata": {},
     "output_type": "execute_result"
    }
   ],
   "source": [
    "dataset['helpful_ratings'] = dataset['helpful'].apply(lambda x: x[0])\n",
    "dataset['total_ratings'] = dataset['helpful'].apply(lambda x: x[1])\n",
    "\n",
    "dataset.head(1)"
   ]
  },
  {
   "cell_type": "code",
   "execution_count": 11,
   "metadata": {},
   "outputs": [
    {
     "data": {
      "text/html": [
       "<div>\n",
       "<style scoped>\n",
       "    .dataframe tbody tr th:only-of-type {\n",
       "        vertical-align: middle;\n",
       "    }\n",
       "\n",
       "    .dataframe tbody tr th {\n",
       "        vertical-align: top;\n",
       "    }\n",
       "\n",
       "    .dataframe thead th {\n",
       "        text-align: right;\n",
       "    }\n",
       "</style>\n",
       "<table border=\"1\" class=\"dataframe\">\n",
       "  <thead>\n",
       "    <tr style=\"text-align: right;\">\n",
       "      <th></th>\n",
       "      <th>overall</th>\n",
       "      <th>unixReviewTime</th>\n",
       "      <th>helpful_ratings</th>\n",
       "      <th>total_ratings</th>\n",
       "    </tr>\n",
       "  </thead>\n",
       "  <tbody>\n",
       "    <tr>\n",
       "      <th>count</th>\n",
       "      <td>27477.000000</td>\n",
       "      <td>2.747700e+04</td>\n",
       "      <td>27477.000000</td>\n",
       "      <td>27477.000000</td>\n",
       "    </tr>\n",
       "    <tr>\n",
       "      <th>mean</th>\n",
       "      <td>3.853769</td>\n",
       "      <td>1.261137e+09</td>\n",
       "      <td>47.941988</td>\n",
       "      <td>52.304982</td>\n",
       "    </tr>\n",
       "    <tr>\n",
       "      <th>std</th>\n",
       "      <td>1.447439</td>\n",
       "      <td>9.132063e+07</td>\n",
       "      <td>339.326083</td>\n",
       "      <td>344.390836</td>\n",
       "    </tr>\n",
       "    <tr>\n",
       "      <th>min</th>\n",
       "      <td>1.000000</td>\n",
       "      <td>9.572256e+08</td>\n",
       "      <td>0.000000</td>\n",
       "      <td>11.000000</td>\n",
       "    </tr>\n",
       "    <tr>\n",
       "      <th>25%</th>\n",
       "      <td>3.000000</td>\n",
       "      <td>1.201651e+09</td>\n",
       "      <td>12.000000</td>\n",
       "      <td>14.000000</td>\n",
       "    </tr>\n",
       "    <tr>\n",
       "      <th>50%</th>\n",
       "      <td>5.000000</td>\n",
       "      <td>1.282090e+09</td>\n",
       "      <td>19.000000</td>\n",
       "      <td>22.000000</td>\n",
       "    </tr>\n",
       "    <tr>\n",
       "      <th>75%</th>\n",
       "      <td>5.000000</td>\n",
       "      <td>1.331251e+09</td>\n",
       "      <td>38.000000</td>\n",
       "      <td>43.000000</td>\n",
       "    </tr>\n",
       "    <tr>\n",
       "      <th>max</th>\n",
       "      <td>5.000000</td>\n",
       "      <td>1.405642e+09</td>\n",
       "      <td>52176.000000</td>\n",
       "      <td>52861.000000</td>\n",
       "    </tr>\n",
       "  </tbody>\n",
       "</table>\n",
       "</div>"
      ],
      "text/plain": [
       "            overall  unixReviewTime  helpful_ratings  total_ratings\n",
       "count  27477.000000    2.747700e+04     27477.000000   27477.000000\n",
       "mean       3.853769    1.261137e+09        47.941988      52.304982\n",
       "std        1.447439    9.132063e+07       339.326083     344.390836\n",
       "min        1.000000    9.572256e+08         0.000000      11.000000\n",
       "25%        3.000000    1.201651e+09        12.000000      14.000000\n",
       "50%        5.000000    1.282090e+09        19.000000      22.000000\n",
       "75%        5.000000    1.331251e+09        38.000000      43.000000\n",
       "max        5.000000    1.405642e+09     52176.000000   52861.000000"
      ]
     },
     "execution_count": 11,
     "metadata": {},
     "output_type": "execute_result"
    }
   ],
   "source": [
    "dataset.describe()"
   ]
  },
  {
   "cell_type": "markdown",
   "metadata": {},
   "source": [
    "Lets checkout the extreme total ratings. It looks like an outlier."
   ]
  },
  {
   "cell_type": "code",
   "execution_count": 12,
   "metadata": {},
   "outputs": [
    {
     "data": {
      "text/html": [
       "<div>\n",
       "<style scoped>\n",
       "    .dataframe tbody tr th:only-of-type {\n",
       "        vertical-align: middle;\n",
       "    }\n",
       "\n",
       "    .dataframe tbody tr th {\n",
       "        vertical-align: top;\n",
       "    }\n",
       "\n",
       "    .dataframe thead th {\n",
       "        text-align: right;\n",
       "    }\n",
       "</style>\n",
       "<table border=\"1\" class=\"dataframe\">\n",
       "  <thead>\n",
       "    <tr style=\"text-align: right;\">\n",
       "      <th></th>\n",
       "      <th>reviewerID</th>\n",
       "      <th>asin</th>\n",
       "      <th>reviewerName</th>\n",
       "      <th>helpful</th>\n",
       "      <th>reviewText</th>\n",
       "      <th>overall</th>\n",
       "      <th>summary</th>\n",
       "      <th>unixReviewTime</th>\n",
       "      <th>reviewTime</th>\n",
       "      <th>helpful_ratings</th>\n",
       "      <th>total_ratings</th>\n",
       "    </tr>\n",
       "  </thead>\n",
       "  <tbody>\n",
       "    <tr>\n",
       "      <th>396128</th>\n",
       "      <td>A1TTA1UUGY4WY4</td>\n",
       "      <td>B0047E0EII</td>\n",
       "      <td>SW3K</td>\n",
       "      <td>[52176, 52861]</td>\n",
       "      <td>For decades I have been trying to come up with...</td>\n",
       "      <td>5.0</td>\n",
       "      <td>No more winning for you, Mr. Banana!</td>\n",
       "      <td>1299110400</td>\n",
       "      <td>03 3, 2011</td>\n",
       "      <td>52176</td>\n",
       "      <td>52861</td>\n",
       "    </tr>\n",
       "  </tbody>\n",
       "</table>\n",
       "</div>"
      ],
      "text/plain": [
       "            reviewerID        asin reviewerName         helpful  \\\n",
       "396128  A1TTA1UUGY4WY4  B0047E0EII         SW3K  [52176, 52861]   \n",
       "\n",
       "                                               reviewText  overall  \\\n",
       "396128  For decades I have been trying to come up with...      5.0   \n",
       "\n",
       "                                     summary  unixReviewTime  reviewTime  \\\n",
       "396128  No more winning for you, Mr. Banana!      1299110400  03 3, 2011   \n",
       "\n",
       "        helpful_ratings  total_ratings  \n",
       "396128            52176          52861  "
      ]
     },
     "execution_count": 12,
     "metadata": {},
     "output_type": "execute_result"
    }
   ],
   "source": [
    "dataset[dataset.helpful_ratings == dataset.helpful_ratings.max()]"
   ]
  },
  {
   "cell_type": "code",
   "execution_count": 13,
   "metadata": {},
   "outputs": [],
   "source": [
    "dataset = dataset.drop(dataset.index[dataset.helpful_ratings == dataset.helpful_ratings.max()])"
   ]
  },
  {
   "cell_type": "code",
   "execution_count": 14,
   "metadata": {},
   "outputs": [
    {
     "data": {
      "text/html": [
       "<div>\n",
       "<style scoped>\n",
       "    .dataframe tbody tr th:only-of-type {\n",
       "        vertical-align: middle;\n",
       "    }\n",
       "\n",
       "    .dataframe tbody tr th {\n",
       "        vertical-align: top;\n",
       "    }\n",
       "\n",
       "    .dataframe thead th {\n",
       "        text-align: right;\n",
       "    }\n",
       "</style>\n",
       "<table border=\"1\" class=\"dataframe\">\n",
       "  <thead>\n",
       "    <tr style=\"text-align: right;\">\n",
       "      <th></th>\n",
       "      <th>overall</th>\n",
       "      <th>unixReviewTime</th>\n",
       "      <th>helpful_ratings</th>\n",
       "      <th>total_ratings</th>\n",
       "    </tr>\n",
       "  </thead>\n",
       "  <tbody>\n",
       "    <tr>\n",
       "      <th>count</th>\n",
       "      <td>27476.000000</td>\n",
       "      <td>2.747600e+04</td>\n",
       "      <td>27476.000000</td>\n",
       "      <td>27476.000000</td>\n",
       "    </tr>\n",
       "    <tr>\n",
       "      <th>mean</th>\n",
       "      <td>3.853727</td>\n",
       "      <td>1.261136e+09</td>\n",
       "      <td>46.044766</td>\n",
       "      <td>50.382989</td>\n",
       "    </tr>\n",
       "    <tr>\n",
       "      <th>std</th>\n",
       "      <td>1.447449</td>\n",
       "      <td>9.132200e+07</td>\n",
       "      <td>127.439043</td>\n",
       "      <td>130.782279</td>\n",
       "    </tr>\n",
       "    <tr>\n",
       "      <th>min</th>\n",
       "      <td>1.000000</td>\n",
       "      <td>9.572256e+08</td>\n",
       "      <td>0.000000</td>\n",
       "      <td>11.000000</td>\n",
       "    </tr>\n",
       "    <tr>\n",
       "      <th>25%</th>\n",
       "      <td>3.000000</td>\n",
       "      <td>1.201651e+09</td>\n",
       "      <td>12.000000</td>\n",
       "      <td>14.000000</td>\n",
       "    </tr>\n",
       "    <tr>\n",
       "      <th>50%</th>\n",
       "      <td>5.000000</td>\n",
       "      <td>1.282090e+09</td>\n",
       "      <td>19.000000</td>\n",
       "      <td>22.000000</td>\n",
       "    </tr>\n",
       "    <tr>\n",
       "      <th>75%</th>\n",
       "      <td>5.000000</td>\n",
       "      <td>1.331251e+09</td>\n",
       "      <td>38.000000</td>\n",
       "      <td>43.000000</td>\n",
       "    </tr>\n",
       "    <tr>\n",
       "      <th>max</th>\n",
       "      <td>5.000000</td>\n",
       "      <td>1.405642e+09</td>\n",
       "      <td>6128.000000</td>\n",
       "      <td>6174.000000</td>\n",
       "    </tr>\n",
       "  </tbody>\n",
       "</table>\n",
       "</div>"
      ],
      "text/plain": [
       "            overall  unixReviewTime  helpful_ratings  total_ratings\n",
       "count  27476.000000    2.747600e+04     27476.000000   27476.000000\n",
       "mean       3.853727    1.261136e+09        46.044766      50.382989\n",
       "std        1.447449    9.132200e+07       127.439043     130.782279\n",
       "min        1.000000    9.572256e+08         0.000000      11.000000\n",
       "25%        3.000000    1.201651e+09        12.000000      14.000000\n",
       "50%        5.000000    1.282090e+09        19.000000      22.000000\n",
       "75%        5.000000    1.331251e+09        38.000000      43.000000\n",
       "max        5.000000    1.405642e+09      6128.000000    6174.000000"
      ]
     },
     "execution_count": 14,
     "metadata": {},
     "output_type": "execute_result"
    }
   ],
   "source": [
    "dataset.describe()"
   ]
  },
  {
   "cell_type": "markdown",
   "metadata": {},
   "source": [
    "Lets check the count of reviews greater than 1000 and remove them if they are making the distribution a bit more skewed"
   ]
  },
  {
   "cell_type": "code",
   "execution_count": 15,
   "metadata": {},
   "outputs": [
    {
     "data": {
      "text/plain": [
       "reviewerID         68\n",
       "asin               68\n",
       "reviewerName       68\n",
       "helpful            68\n",
       "reviewText         68\n",
       "overall            68\n",
       "summary            68\n",
       "unixReviewTime     68\n",
       "reviewTime         68\n",
       "helpful_ratings    68\n",
       "total_ratings      68\n",
       "dtype: int64"
      ]
     },
     "execution_count": 15,
     "metadata": {},
     "output_type": "execute_result"
    }
   ],
   "source": [
    "dataset[dataset.total_ratings > 1000].count()"
   ]
  },
  {
   "cell_type": "markdown",
   "metadata": {},
   "source": [
    "The count is very less. Lets remove these and check the distribution again"
   ]
  },
  {
   "cell_type": "code",
   "execution_count": 16,
   "metadata": {},
   "outputs": [],
   "source": [
    "dataset = dataset.drop(dataset.index[dataset.total_ratings > 1000])"
   ]
  },
  {
   "cell_type": "code",
   "execution_count": 17,
   "metadata": {},
   "outputs": [
    {
     "data": {
      "text/html": [
       "<div>\n",
       "<style scoped>\n",
       "    .dataframe tbody tr th:only-of-type {\n",
       "        vertical-align: middle;\n",
       "    }\n",
       "\n",
       "    .dataframe tbody tr th {\n",
       "        vertical-align: top;\n",
       "    }\n",
       "\n",
       "    .dataframe thead th {\n",
       "        text-align: right;\n",
       "    }\n",
       "</style>\n",
       "<table border=\"1\" class=\"dataframe\">\n",
       "  <thead>\n",
       "    <tr style=\"text-align: right;\">\n",
       "      <th></th>\n",
       "      <th>overall</th>\n",
       "      <th>unixReviewTime</th>\n",
       "      <th>helpful_ratings</th>\n",
       "      <th>total_ratings</th>\n",
       "    </tr>\n",
       "  </thead>\n",
       "  <tbody>\n",
       "    <tr>\n",
       "      <th>count</th>\n",
       "      <td>27408.000000</td>\n",
       "      <td>2.740800e+04</td>\n",
       "      <td>27408.000000</td>\n",
       "      <td>27408.000000</td>\n",
       "    </tr>\n",
       "    <tr>\n",
       "      <th>mean</th>\n",
       "      <td>3.852415</td>\n",
       "      <td>1.261193e+09</td>\n",
       "      <td>41.793126</td>\n",
       "      <td>46.024701</td>\n",
       "    </tr>\n",
       "    <tr>\n",
       "      <th>std</th>\n",
       "      <td>1.447970</td>\n",
       "      <td>9.136917e+07</td>\n",
       "      <td>75.977905</td>\n",
       "      <td>78.878631</td>\n",
       "    </tr>\n",
       "    <tr>\n",
       "      <th>min</th>\n",
       "      <td>1.000000</td>\n",
       "      <td>9.572256e+08</td>\n",
       "      <td>0.000000</td>\n",
       "      <td>11.000000</td>\n",
       "    </tr>\n",
       "    <tr>\n",
       "      <th>25%</th>\n",
       "      <td>3.000000</td>\n",
       "      <td>1.201738e+09</td>\n",
       "      <td>12.000000</td>\n",
       "      <td>14.000000</td>\n",
       "    </tr>\n",
       "    <tr>\n",
       "      <th>50%</th>\n",
       "      <td>5.000000</td>\n",
       "      <td>1.282176e+09</td>\n",
       "      <td>19.000000</td>\n",
       "      <td>22.000000</td>\n",
       "    </tr>\n",
       "    <tr>\n",
       "      <th>75%</th>\n",
       "      <td>5.000000</td>\n",
       "      <td>1.331359e+09</td>\n",
       "      <td>38.000000</td>\n",
       "      <td>42.000000</td>\n",
       "    </tr>\n",
       "    <tr>\n",
       "      <th>max</th>\n",
       "      <td>5.000000</td>\n",
       "      <td>1.405642e+09</td>\n",
       "      <td>976.000000</td>\n",
       "      <td>996.000000</td>\n",
       "    </tr>\n",
       "  </tbody>\n",
       "</table>\n",
       "</div>"
      ],
      "text/plain": [
       "            overall  unixReviewTime  helpful_ratings  total_ratings\n",
       "count  27408.000000    2.740800e+04     27408.000000   27408.000000\n",
       "mean       3.852415    1.261193e+09        41.793126      46.024701\n",
       "std        1.447970    9.136917e+07        75.977905      78.878631\n",
       "min        1.000000    9.572256e+08         0.000000      11.000000\n",
       "25%        3.000000    1.201738e+09        12.000000      14.000000\n",
       "50%        5.000000    1.282176e+09        19.000000      22.000000\n",
       "75%        5.000000    1.331359e+09        38.000000      42.000000\n",
       "max        5.000000    1.405642e+09       976.000000     996.000000"
      ]
     },
     "execution_count": 17,
     "metadata": {},
     "output_type": "execute_result"
    }
   ],
   "source": [
    "dataset.describe()"
   ]
  },
  {
   "cell_type": "markdown",
   "metadata": {},
   "source": [
    "We will try 2 ways of calculating the optimal threshold.One with the normal dataset. Another applying the threshold function on  the svaled Dataset.Let's set aside another copy of the dataset which we will use for scaling the dataset"
   ]
  },
  {
   "cell_type": "code",
   "execution_count": 18,
   "metadata": {},
   "outputs": [],
   "source": [
    "scaled_df = dataset.copy()"
   ]
  },
  {
   "cell_type": "code",
   "execution_count": 19,
   "metadata": {},
   "outputs": [],
   "source": [
    "from utility import scaleColumns\n",
    "scaled_df = scaleColumns(scaled_df,['helpful_ratings','total_ratings'])"
   ]
  },
  {
   "cell_type": "code",
   "execution_count": 20,
   "metadata": {},
   "outputs": [
    {
     "data": {
      "text/html": [
       "<div>\n",
       "<style scoped>\n",
       "    .dataframe tbody tr th:only-of-type {\n",
       "        vertical-align: middle;\n",
       "    }\n",
       "\n",
       "    .dataframe tbody tr th {\n",
       "        vertical-align: top;\n",
       "    }\n",
       "\n",
       "    .dataframe thead th {\n",
       "        text-align: right;\n",
       "    }\n",
       "</style>\n",
       "<table border=\"1\" class=\"dataframe\">\n",
       "  <thead>\n",
       "    <tr style=\"text-align: right;\">\n",
       "      <th></th>\n",
       "      <th>reviewerID</th>\n",
       "      <th>asin</th>\n",
       "      <th>reviewerName</th>\n",
       "      <th>helpful</th>\n",
       "      <th>reviewText</th>\n",
       "      <th>overall</th>\n",
       "      <th>summary</th>\n",
       "      <th>unixReviewTime</th>\n",
       "      <th>reviewTime</th>\n",
       "      <th>helpful_ratings</th>\n",
       "      <th>total_ratings</th>\n",
       "    </tr>\n",
       "  </thead>\n",
       "  <tbody>\n",
       "    <tr>\n",
       "      <th>2</th>\n",
       "      <td>A3UPYGJKZ0XTU4</td>\n",
       "      <td>0615391206</td>\n",
       "      <td>mirasreviews</td>\n",
       "      <td>[26, 27]</td>\n",
       "      <td>There is no shortage of pop recipes available ...</td>\n",
       "      <td>4.0</td>\n",
       "      <td>Excels at Sweet Dessert Pops, but Falls Short ...</td>\n",
       "      <td>1367712000</td>\n",
       "      <td>05 5, 2013</td>\n",
       "      <td>0.032787</td>\n",
       "      <td>0.028426</td>\n",
       "    </tr>\n",
       "  </tbody>\n",
       "</table>\n",
       "</div>"
      ],
      "text/plain": [
       "       reviewerID        asin  reviewerName   helpful  \\\n",
       "2  A3UPYGJKZ0XTU4  0615391206  mirasreviews  [26, 27]   \n",
       "\n",
       "                                          reviewText  overall  \\\n",
       "2  There is no shortage of pop recipes available ...      4.0   \n",
       "\n",
       "                                             summary  unixReviewTime  \\\n",
       "2  Excels at Sweet Dessert Pops, but Falls Short ...      1367712000   \n",
       "\n",
       "   reviewTime  helpful_ratings  total_ratings  \n",
       "2  05 5, 2013         0.032787       0.028426  "
      ]
     },
     "execution_count": 20,
     "metadata": {},
     "output_type": "execute_result"
    }
   ],
   "source": [
    "scaled_df.head(1)"
   ]
  },
  {
   "cell_type": "code",
   "execution_count": 21,
   "metadata": {},
   "outputs": [],
   "source": [
    "# This funcion will get the helpfulness rating based on certain threshold and total and helpful ratings count\n",
    "def getHelpfulness(input_dataset, threshold):\n",
    "    threshold=threshold\n",
    "    input_dataset.loc[:, 'isHelpful'] = np.where(input_dataset['helpful_ratings']/input_dataset['total_ratings'] > threshold, 1, 0)\n",
    "    \n",
    "    return input_dataset"
   ]
  },
  {
   "cell_type": "code",
   "execution_count": 22,
   "metadata": {},
   "outputs": [],
   "source": [
    "def getOptimalThreshold(input_dataset):\n",
    "    \n",
    "    # Lets start with threshold value as 0.5 assuming the dataset is uniformly distributed\n",
    "    threshold = 0.5\n",
    "        \n",
    "    for x in range(1,6):\n",
    "        # Call getHelpfulness method an dcheck how the data is distributed in case of 0.5 threshold\n",
    "        print('Threshold : %f' %threshold)\n",
    "        input_dataset = getHelpfulness(input_dataset, threshold)\n",
    "        frequency = input_dataset['isHelpful'].value_counts()\n",
    "        print('Frequency of 0 value : %f' %frequency.loc[0])\n",
    "        print('Frequency of 1 value : %f' %frequency.loc[1])\n",
    "        if(frequency.loc[0]/(frequency[0]+frequency[1]) < 0.5):\n",
    "            threshold = threshold + 0.1\n",
    "        else:\n",
    "            threshold = threshold - 0.1"
   ]
  },
  {
   "cell_type": "code",
   "execution_count": 23,
   "metadata": {},
   "outputs": [
    {
     "name": "stdout",
     "output_type": "stream",
     "text": [
      "Threshold : 0.500000\n",
      "Frequency of 0 value : 1613.000000\n",
      "Frequency of 1 value : 25795.000000\n",
      "Threshold : 0.600000\n",
      "Frequency of 0 value : 2032.000000\n",
      "Frequency of 1 value : 25376.000000\n",
      "Threshold : 0.700000\n",
      "Frequency of 0 value : 2915.000000\n",
      "Frequency of 1 value : 24493.000000\n",
      "Threshold : 0.800000\n",
      "Frequency of 0 value : 4920.000000\n",
      "Frequency of 1 value : 22488.000000\n",
      "Threshold : 0.900000\n",
      "Frequency of 0 value : 10524.000000\n",
      "Frequency of 1 value : 16884.000000\n"
     ]
    }
   ],
   "source": [
    "getOptimalThreshold(dataset)"
   ]
  },
  {
   "cell_type": "code",
   "execution_count": 24,
   "metadata": {},
   "outputs": [
    {
     "name": "stdout",
     "output_type": "stream",
     "text": [
      "Threshold : 0.500000\n",
      "Frequency of 0 value : 25274.000000\n",
      "Frequency of 1 value : 2134.000000\n",
      "Threshold : 0.400000\n",
      "Frequency of 0 value : 25267.000000\n",
      "Frequency of 1 value : 2141.000000\n",
      "Threshold : 0.300000\n",
      "Frequency of 0 value : 25260.000000\n",
      "Frequency of 1 value : 2148.000000\n",
      "Threshold : 0.200000\n",
      "Frequency of 0 value : 25251.000000\n",
      "Frequency of 1 value : 2157.000000\n",
      "Threshold : 0.100000\n",
      "Frequency of 0 value : 25240.000000\n",
      "Frequency of 1 value : 2168.000000\n"
     ]
    }
   ],
   "source": [
    "getOptimalThreshold(scaled_df)"
   ]
  },
  {
   "cell_type": "markdown",
   "metadata": {},
   "source": [
    "Scaling the dataframe doesnt help much. So lets go without scaling the columns value."
   ]
  },
  {
   "cell_type": "markdown",
   "metadata": {},
   "source": [
    "Let's try to compare how the model performs in 3 of the threshold frquency i.e; 0.8, 0.85, 0.9 and come to conclusion which one is best and doesn't overfit as well."
   ]
  },
  {
   "cell_type": "code",
   "execution_count": 25,
   "metadata": {},
   "outputs": [],
   "source": [
    "dataset_threshold_08 = getHelpfulness(dataset, threshold=0.8)"
   ]
  },
  {
   "cell_type": "code",
   "execution_count": 26,
   "metadata": {},
   "outputs": [],
   "source": [
    "dataset_threshold_08 = dataset.drop(columns = ['helpful', 'helpful_ratings', 'total_ratings'], axis=1)"
   ]
  },
  {
   "cell_type": "code",
   "execution_count": 27,
   "metadata": {},
   "outputs": [
    {
     "data": {
      "text/html": [
       "<div>\n",
       "<style scoped>\n",
       "    .dataframe tbody tr th:only-of-type {\n",
       "        vertical-align: middle;\n",
       "    }\n",
       "\n",
       "    .dataframe tbody tr th {\n",
       "        vertical-align: top;\n",
       "    }\n",
       "\n",
       "    .dataframe thead th {\n",
       "        text-align: right;\n",
       "    }\n",
       "</style>\n",
       "<table border=\"1\" class=\"dataframe\">\n",
       "  <thead>\n",
       "    <tr style=\"text-align: right;\">\n",
       "      <th></th>\n",
       "      <th>reviewerID</th>\n",
       "      <th>asin</th>\n",
       "      <th>reviewerName</th>\n",
       "      <th>reviewText</th>\n",
       "      <th>overall</th>\n",
       "      <th>summary</th>\n",
       "      <th>unixReviewTime</th>\n",
       "      <th>reviewTime</th>\n",
       "    </tr>\n",
       "    <tr>\n",
       "      <th>isHelpful</th>\n",
       "      <th></th>\n",
       "      <th></th>\n",
       "      <th></th>\n",
       "      <th></th>\n",
       "      <th></th>\n",
       "      <th></th>\n",
       "      <th></th>\n",
       "      <th></th>\n",
       "    </tr>\n",
       "  </thead>\n",
       "  <tbody>\n",
       "    <tr>\n",
       "      <th>0</th>\n",
       "      <td>5154</td>\n",
       "      <td>5154</td>\n",
       "      <td>5112</td>\n",
       "      <td>5154</td>\n",
       "      <td>5154</td>\n",
       "      <td>5154</td>\n",
       "      <td>5154</td>\n",
       "      <td>5154</td>\n",
       "    </tr>\n",
       "    <tr>\n",
       "      <th>1</th>\n",
       "      <td>22254</td>\n",
       "      <td>22254</td>\n",
       "      <td>22247</td>\n",
       "      <td>22254</td>\n",
       "      <td>22254</td>\n",
       "      <td>22254</td>\n",
       "      <td>22254</td>\n",
       "      <td>22254</td>\n",
       "    </tr>\n",
       "  </tbody>\n",
       "</table>\n",
       "</div>"
      ],
      "text/plain": [
       "           reviewerID   asin  reviewerName  reviewText  overall  summary  \\\n",
       "isHelpful                                                                  \n",
       "0                5154   5154          5112        5154     5154     5154   \n",
       "1               22254  22254         22247       22254    22254    22254   \n",
       "\n",
       "           unixReviewTime  reviewTime  \n",
       "isHelpful                              \n",
       "0                    5154        5154  \n",
       "1                   22254       22254  "
      ]
     },
     "metadata": {},
     "output_type": "display_data"
    }
   ],
   "source": [
    "display(dataset_threshold_08.groupby('isHelpful').count())"
   ]
  },
  {
   "cell_type": "code",
   "execution_count": 28,
   "metadata": {},
   "outputs": [],
   "source": [
    "dataset_threshold_08 = dataset_threshold_08.reset_index(drop=True)"
   ]
  },
  {
   "cell_type": "code",
   "execution_count": 29,
   "metadata": {},
   "outputs": [
    {
     "data": {
      "text/plain": [
       "<matplotlib.axes._subplots.AxesSubplot at 0x1f9c0e939e8>"
      ]
     },
     "execution_count": 29,
     "metadata": {},
     "output_type": "execute_result"
    },
    {
     "data": {
      "image/png": "[encoded data removed]",
      "text/plain": [
       "<Figure size 432x288 with 1 Axes>"
      ]
     },
     "metadata": {},
     "output_type": "display_data"
    }
   ],
   "source": [
    "from scipy.stats import norm, skew\n",
    "\n",
    "# Lets explore the distribution of the helpfulness target variable\n",
    "sns.distplot(dataset_threshold_08['isHelpful'], fit=norm)"
   ]
  },
  {
   "cell_type": "code",
   "execution_count": 30,
   "metadata": {},
   "outputs": [
    {
     "data": {
      "text/html": [
       "<div>\n",
       "<style scoped>\n",
       "    .dataframe tbody tr th:only-of-type {\n",
       "        vertical-align: middle;\n",
       "    }\n",
       "\n",
       "    .dataframe tbody tr th {\n",
       "        vertical-align: top;\n",
       "    }\n",
       "\n",
       "    .dataframe thead th {\n",
       "        text-align: right;\n",
       "    }\n",
       "</style>\n",
       "<table border=\"1\" class=\"dataframe\">\n",
       "  <thead>\n",
       "    <tr style=\"text-align: right;\">\n",
       "      <th></th>\n",
       "      <th>reviewerID</th>\n",
       "      <th>asin</th>\n",
       "      <th>reviewerName</th>\n",
       "      <th>reviewText</th>\n",
       "      <th>overall</th>\n",
       "      <th>summary</th>\n",
       "      <th>unixReviewTime</th>\n",
       "      <th>reviewTime</th>\n",
       "    </tr>\n",
       "    <tr>\n",
       "      <th>isHelpful</th>\n",
       "      <th></th>\n",
       "      <th></th>\n",
       "      <th></th>\n",
       "      <th></th>\n",
       "      <th></th>\n",
       "      <th></th>\n",
       "      <th></th>\n",
       "      <th></th>\n",
       "    </tr>\n",
       "  </thead>\n",
       "  <tbody>\n",
       "    <tr>\n",
       "      <th>0</th>\n",
       "      <td>7560</td>\n",
       "      <td>7560</td>\n",
       "      <td>7516</td>\n",
       "      <td>7560</td>\n",
       "      <td>7560</td>\n",
       "      <td>7560</td>\n",
       "      <td>7560</td>\n",
       "      <td>7560</td>\n",
       "    </tr>\n",
       "    <tr>\n",
       "      <th>1</th>\n",
       "      <td>19848</td>\n",
       "      <td>19848</td>\n",
       "      <td>19843</td>\n",
       "      <td>19848</td>\n",
       "      <td>19848</td>\n",
       "      <td>19848</td>\n",
       "      <td>19848</td>\n",
       "      <td>19848</td>\n",
       "    </tr>\n",
       "  </tbody>\n",
       "</table>\n",
       "</div>"
      ],
      "text/plain": [
       "           reviewerID   asin  reviewerName  reviewText  overall  summary  \\\n",
       "isHelpful                                                                  \n",
       "0                7560   7560          7516        7560     7560     7560   \n",
       "1               19848  19848         19843       19848    19848    19848   \n",
       "\n",
       "           unixReviewTime  reviewTime  \n",
       "isHelpful                              \n",
       "0                    7560        7560  \n",
       "1                   19848       19848  "
      ]
     },
     "metadata": {},
     "output_type": "display_data"
    }
   ],
   "source": [
    "# dataset_threshold_085\n",
    "dataset_threshold_085 = getHelpfulness(dataset, threshold=0.85)\n",
    "dataset_threshold_085 = dataset.drop(columns = ['helpful', 'helpful_ratings', 'total_ratings'], axis=1)\n",
    "display(dataset_threshold_085.groupby('isHelpful').count())"
   ]
  },
  {
   "cell_type": "code",
   "execution_count": 31,
   "metadata": {},
   "outputs": [],
   "source": [
    "dataset_threshold_085 = dataset_threshold_085.reset_index(drop=True)"
   ]
  },
  {
   "cell_type": "code",
   "execution_count": 32,
   "metadata": {},
   "outputs": [
    {
     "data": {
      "text/plain": [
       "<matplotlib.axes._subplots.AxesSubplot at 0x1f9c998cc18>"
      ]
     },
     "execution_count": 32,
     "metadata": {},
     "output_type": "execute_result"
    },
    {
     "data": {
      "image/png": "[encoded data removed]",
      "text/plain": [
       "<Figure size 432x288 with 1 Axes>"
      ]
     },
     "metadata": {},
     "output_type": "display_data"
    }
   ],
   "source": [
    "# Lets explore the distribution of the helpfulness target variable\n",
    "sns.distplot(dataset_threshold_085['isHelpful'], fit=norm)"
   ]
  },
  {
   "cell_type": "code",
   "execution_count": 33,
   "metadata": {},
   "outputs": [
    {
     "data": {
      "text/html": [
       "<div>\n",
       "<style scoped>\n",
       "    .dataframe tbody tr th:only-of-type {\n",
       "        vertical-align: middle;\n",
       "    }\n",
       "\n",
       "    .dataframe tbody tr th {\n",
       "        vertical-align: top;\n",
       "    }\n",
       "\n",
       "    .dataframe thead th {\n",
       "        text-align: right;\n",
       "    }\n",
       "</style>\n",
       "<table border=\"1\" class=\"dataframe\">\n",
       "  <thead>\n",
       "    <tr style=\"text-align: right;\">\n",
       "      <th></th>\n",
       "      <th>reviewerID</th>\n",
       "      <th>asin</th>\n",
       "      <th>reviewerName</th>\n",
       "      <th>reviewText</th>\n",
       "      <th>overall</th>\n",
       "      <th>summary</th>\n",
       "      <th>unixReviewTime</th>\n",
       "      <th>reviewTime</th>\n",
       "    </tr>\n",
       "    <tr>\n",
       "      <th>isHelpful</th>\n",
       "      <th></th>\n",
       "      <th></th>\n",
       "      <th></th>\n",
       "      <th></th>\n",
       "      <th></th>\n",
       "      <th></th>\n",
       "      <th></th>\n",
       "      <th></th>\n",
       "    </tr>\n",
       "  </thead>\n",
       "  <tbody>\n",
       "    <tr>\n",
       "      <th>0</th>\n",
       "      <td>10715</td>\n",
       "      <td>10715</td>\n",
       "      <td>10671</td>\n",
       "      <td>10715</td>\n",
       "      <td>10715</td>\n",
       "      <td>10715</td>\n",
       "      <td>10715</td>\n",
       "      <td>10715</td>\n",
       "    </tr>\n",
       "    <tr>\n",
       "      <th>1</th>\n",
       "      <td>16693</td>\n",
       "      <td>16693</td>\n",
       "      <td>16688</td>\n",
       "      <td>16693</td>\n",
       "      <td>16693</td>\n",
       "      <td>16693</td>\n",
       "      <td>16693</td>\n",
       "      <td>16693</td>\n",
       "    </tr>\n",
       "  </tbody>\n",
       "</table>\n",
       "</div>"
      ],
      "text/plain": [
       "           reviewerID   asin  reviewerName  reviewText  overall  summary  \\\n",
       "isHelpful                                                                  \n",
       "0               10715  10715         10671       10715    10715    10715   \n",
       "1               16693  16693         16688       16693    16693    16693   \n",
       "\n",
       "           unixReviewTime  reviewTime  \n",
       "isHelpful                              \n",
       "0                   10715       10715  \n",
       "1                   16693       16693  "
      ]
     },
     "metadata": {},
     "output_type": "display_data"
    }
   ],
   "source": [
    "#dataset_threshold_09\n",
    "dataset_threshold_09 = getHelpfulness(dataset, threshold=0.9)\n",
    "dataset_threshold_09 = dataset.drop(columns = ['helpful', 'helpful_ratings', 'total_ratings'], axis=1)\n",
    "display(dataset_threshold_09.groupby('isHelpful').count())"
   ]
  },
  {
   "cell_type": "code",
   "execution_count": 34,
   "metadata": {},
   "outputs": [
    {
     "data": {
      "text/plain": [
       "<matplotlib.axes._subplots.AxesSubplot at 0x1f9bfaf9048>"
      ]
     },
     "execution_count": 34,
     "metadata": {},
     "output_type": "execute_result"
    },
    {
     "data": {
      "image/png": "[encoded data removed]",
      "text/plain": [
       "<Figure size 432x288 with 1 Axes>"
      ]
     },
     "metadata": {},
     "output_type": "display_data"
    }
   ],
   "source": [
    "dataset_threshold_09 = dataset_threshold_09.reset_index(drop=True)\n",
    "\n",
    "# Lets explore the distribution of the helpfulness target variable\n",
    "sns.distplot(dataset_threshold_09['isHelpful'], fit=norm)"
   ]
  },
  {
   "cell_type": "code",
   "execution_count": 35,
   "metadata": {},
   "outputs": [],
   "source": [
    "#Lets save this threshold datasets for future use\n",
    "pickle.dump(dataset_threshold_08, open(input_folder+'dataset_threshold_08.p', 'wb'))\n",
    "pickle.dump(dataset_threshold_085, open(input_folder+'dataset_threshold_085.p', 'wb'))\n",
    "pickle.dump(dataset_threshold_09, open(input_folder+'dataset_threshold_09.p', 'wb'))"
   ]
  },
  {
   "cell_type": "markdown",
   "metadata": {},
   "source": [
    "##### Custom Feature Extraction "
   ]
  },
  {
   "cell_type": "code",
   "execution_count": 36,
   "metadata": {},
   "outputs": [],
   "source": [
    "# This function will get all the customised features\n",
    "def getCustomFeatures(dataset):\n",
    "    start = time.time()\n",
    "    \n",
    "    dataset = utility.getReviewTimeDifferenceFromMin(dataset)\n",
    "    dataset = utility.countReviewSentence(dataset)\n",
    "    dataset = utility.count_characters(dataset)\n",
    "    dataset = utility.readability(dataset)\n",
    "    dataset = utility.drop_extra_features(dataset)\n",
    "    \n",
    "    end = time.time()\n",
    "    print('Total time to derive the custom features {:4f} seconds'.format(end - start))\n",
    "    return dataset"
   ]
  },
  {
   "cell_type": "markdown",
   "metadata": {},
   "source": [
    "##### Defining Text Normalizer "
   ]
  },
  {
   "cell_type": "code",
   "execution_count": 37,
   "metadata": {},
   "outputs": [],
   "source": [
    "#def get_normalize_text_data(run='train'):\n",
    "def get_normalize_text_data(dataset):\n",
    "    start = time.time()\n",
    "    dataset['normalize_review_text'] = dataset['reviewText'].apply(lambda x: normalize_text(x))\n",
    "    dataset = dataset.drop(columns=['reviewText'])\n",
    "    end = time.time()\n",
    "    \n",
    "    print('Total time to normalize the text data {:4f} seconds'.format(end - start))\n",
    "    return dataset"
   ]
  },
  {
   "cell_type": "markdown",
   "metadata": {},
   "source": [
    "##### Feature Aggregation"
   ]
  },
  {
   "cell_type": "code",
   "execution_count": 38,
   "metadata": {},
   "outputs": [
    {
     "name": "stdout",
     "output_type": "stream",
     "text": [
      "Total time to derive the custom features 10.968119 seconds\n",
      "Total time to normalize the text data 29.713542 seconds\n"
     ]
    },
    {
     "data": {
      "text/html": [
       "<div>\n",
       "<style scoped>\n",
       "    .dataframe tbody tr th:only-of-type {\n",
       "        vertical-align: middle;\n",
       "    }\n",
       "\n",
       "    .dataframe tbody tr th {\n",
       "        vertical-align: top;\n",
       "    }\n",
       "\n",
       "    .dataframe thead th {\n",
       "        text-align: right;\n",
       "    }\n",
       "</style>\n",
       "<table border=\"1\" class=\"dataframe\">\n",
       "  <thead>\n",
       "    <tr style=\"text-align: right;\">\n",
       "      <th></th>\n",
       "      <th>isHelpful</th>\n",
       "      <th>review_first_diff</th>\n",
       "      <th>reviewReadability</th>\n",
       "      <th>normalize_review_text</th>\n",
       "    </tr>\n",
       "  </thead>\n",
       "  <tbody>\n",
       "    <tr>\n",
       "      <th>0</th>\n",
       "      <td>1</td>\n",
       "      <td>640.0</td>\n",
       "      <td>12.653924</td>\n",
       "      <td>shortage pop recipes available free web purcha...</td>\n",
       "    </tr>\n",
       "  </tbody>\n",
       "</table>\n",
       "</div>"
      ],
      "text/plain": [
       "   isHelpful  review_first_diff  reviewReadability  \\\n",
       "0          1              640.0          12.653924   \n",
       "\n",
       "                               normalize_review_text  \n",
       "0  shortage pop recipes available free web purcha...  "
      ]
     },
     "execution_count": 38,
     "metadata": {},
     "output_type": "execute_result"
    }
   ],
   "source": [
    "#Here we will generate Custom Features for the 3 threshold dataset dataset_threshold_08, dataset_threshol_085, dataset_threshold_09\n",
    "\n",
    "#Generate the custom features for dataset_threshold_08\n",
    "dataset_threshold_08 = getCustomFeatures(dataset_threshold_08)\n",
    "# Generate the normalize text feature for dataset_threshold_08\n",
    "dataset_threshold_08 = get_normalize_text_data(dataset_threshold_08)\n",
    "dataset_threshold_08.head(1)"
   ]
  },
  {
   "cell_type": "code",
   "execution_count": 39,
   "metadata": {},
   "outputs": [
    {
     "name": "stdout",
     "output_type": "stream",
     "text": [
      "Total time to derive the custom features 10.828627 seconds\n",
      "Total time to normalize the text data 29.453457 seconds\n"
     ]
    },
    {
     "data": {
      "text/html": [
       "<div>\n",
       "<style scoped>\n",
       "    .dataframe tbody tr th:only-of-type {\n",
       "        vertical-align: middle;\n",
       "    }\n",
       "\n",
       "    .dataframe tbody tr th {\n",
       "        vertical-align: top;\n",
       "    }\n",
       "\n",
       "    .dataframe thead th {\n",
       "        text-align: right;\n",
       "    }\n",
       "</style>\n",
       "<table border=\"1\" class=\"dataframe\">\n",
       "  <thead>\n",
       "    <tr style=\"text-align: right;\">\n",
       "      <th></th>\n",
       "      <th>isHelpful</th>\n",
       "      <th>review_first_diff</th>\n",
       "      <th>reviewReadability</th>\n",
       "      <th>normalize_review_text</th>\n",
       "    </tr>\n",
       "  </thead>\n",
       "  <tbody>\n",
       "    <tr>\n",
       "      <th>0</th>\n",
       "      <td>1</td>\n",
       "      <td>640.0</td>\n",
       "      <td>12.653924</td>\n",
       "      <td>shortage pop recipes available free web purcha...</td>\n",
       "    </tr>\n",
       "  </tbody>\n",
       "</table>\n",
       "</div>"
      ],
      "text/plain": [
       "   isHelpful  review_first_diff  reviewReadability  \\\n",
       "0          1              640.0          12.653924   \n",
       "\n",
       "                               normalize_review_text  \n",
       "0  shortage pop recipes available free web purcha...  "
      ]
     },
     "execution_count": 39,
     "metadata": {},
     "output_type": "execute_result"
    }
   ],
   "source": [
    "#Generate the custom features for dataset_threshold_085\n",
    "dataset_threshold_085 = getCustomFeatures(dataset_threshold_085)\n",
    "# Generate the normalize text feature for dataset_threshold_085\n",
    "dataset_threshold_085 = get_normalize_text_data(dataset_threshold_085)\n",
    "dataset_threshold_085.head(1)"
   ]
  },
  {
   "cell_type": "code",
   "execution_count": 40,
   "metadata": {},
   "outputs": [
    {
     "name": "stdout",
     "output_type": "stream",
     "text": [
      "Total time to derive the custom features 11.768158 seconds\n",
      "Total time to normalize the text data 28.136459 seconds\n"
     ]
    },
    {
     "data": {
      "text/html": [
       "<div>\n",
       "<style scoped>\n",
       "    .dataframe tbody tr th:only-of-type {\n",
       "        vertical-align: middle;\n",
       "    }\n",
       "\n",
       "    .dataframe tbody tr th {\n",
       "        vertical-align: top;\n",
       "    }\n",
       "\n",
       "    .dataframe thead th {\n",
       "        text-align: right;\n",
       "    }\n",
       "</style>\n",
       "<table border=\"1\" class=\"dataframe\">\n",
       "  <thead>\n",
       "    <tr style=\"text-align: right;\">\n",
       "      <th></th>\n",
       "      <th>isHelpful</th>\n",
       "      <th>review_first_diff</th>\n",
       "      <th>reviewReadability</th>\n",
       "      <th>normalize_review_text</th>\n",
       "    </tr>\n",
       "  </thead>\n",
       "  <tbody>\n",
       "    <tr>\n",
       "      <th>0</th>\n",
       "      <td>1</td>\n",
       "      <td>640.0</td>\n",
       "      <td>12.653924</td>\n",
       "      <td>shortage pop recipes available free web purcha...</td>\n",
       "    </tr>\n",
       "  </tbody>\n",
       "</table>\n",
       "</div>"
      ],
      "text/plain": [
       "   isHelpful  review_first_diff  reviewReadability  \\\n",
       "0          1              640.0          12.653924   \n",
       "\n",
       "                               normalize_review_text  \n",
       "0  shortage pop recipes available free web purcha...  "
      ]
     },
     "execution_count": 40,
     "metadata": {},
     "output_type": "execute_result"
    }
   ],
   "source": [
    "#Generate the custom features for dataset_threshold_09\n",
    "dataset_threshold_09 = getCustomFeatures(dataset_threshold_09)\n",
    "# Generate the normalize text feature for dataset_threshold_09\n",
    "dataset_threshold_09 = get_normalize_text_data(dataset_threshold_09)\n",
    "dataset_threshold_09.head(1)"
   ]
  },
  {
   "cell_type": "markdown",
   "metadata": {},
   "source": [
    "##### Defining the Pipeline"
   ]
  },
  {
   "cell_type": "code",
   "execution_count": 41,
   "metadata": {},
   "outputs": [],
   "source": [
    "from sklearn.preprocessing import StandardScaler\n",
    "from sklearn.impute import SimpleImputer\n",
    "from sklearn.pipeline import FeatureUnion\n",
    "from sklearn.pipeline import Pipeline\n",
    "from sklearn.linear_model import LogisticRegression\n",
    "from sklearn.ensemble import RandomForestClassifier\n",
    "from sklearn.tree import DecisionTreeClassifier\n",
    "from sklearn.ensemble import AdaBoostClassifier\n",
    "\n",
    "\n",
    "NUM_FEATURES = ['review_first_diff', 'reviewReadability']\n",
    "TEXT_FEATURE = ['normalize_review_text']\n",
    "\n",
    "process_and_join_features_tfidf = FeatureUnion(\n",
    "                            transformer_list=[\n",
    "                                ('numeric_feaures', Pipeline([\n",
    "                                    ('selector', ColumnExtractor(NUM_FEATURES)), \n",
    "                                    ('scale', StandardScaler())\n",
    "                                ])),\n",
    "                                ('text_features', Pipeline([\n",
    "                                    ('selector', ColumnExtractor(TEXT_FEATURE)),\n",
    "                                    ('vectorizer',TextTFIDFVectorizer())\n",
    "                                ]))\n",
    "                            ])\n",
    "\n",
    "\n",
    "process_and_join_features_word2vec = FeatureUnion(\n",
    "                            transformer_list=[\n",
    "                                ('numeric_feaures', Pipeline([\n",
    "                                    ('selector', ColumnExtractor(NUM_FEATURES)), \n",
    "                                    ('scale', StandardScaler())\n",
    "                                ])),\n",
    "                                ('text_features', Pipeline([\n",
    "                                    ('selector', ColumnExtractor(TEXT_FEATURE)),\n",
    "                                    ('vectorizer',TextWord2Vectorizer())\n",
    "                                ]))\n",
    "                            ])\n",
    "\n",
    "pipe_lr_tfidf = Pipeline([\n",
    "                   ('union', process_and_join_features_tfidf),\n",
    "                   ('clf', LogisticRegression(random_state=42))\n",
    "                ])\n",
    "pipe_dt_tfidf = Pipeline([\n",
    "                   ('union', process_and_join_features_tfidf),\n",
    "                   ('clf', DecisionTreeClassifier(random_state=42))\n",
    "                ])\n",
    "pipe_randomforest_tfidf = Pipeline([\n",
    "                   ('union', process_and_join_features_tfidf),\n",
    "                   ('clf', RandomForestClassifier(random_state=42))\n",
    "                ])\n",
    "pipe_adaboost_tfidf = Pipeline([\n",
    "                   ('union', process_and_join_features_tfidf),\n",
    "                   ('clf', AdaBoostClassifier(random_state=42))\n",
    "                ])\n",
    "\n",
    "pipe_lr_word2vec = Pipeline([\n",
    "                   ('union', process_and_join_features_word2vec),\n",
    "                   ('clf', LogisticRegression(random_state=42))\n",
    "                ])\n",
    "pipe_dt_word2vec = Pipeline([\n",
    "                   ('union', process_and_join_features_word2vec),\n",
    "                   ('clf', DecisionTreeClassifier(random_state=42))\n",
    "                ])\n",
    "pipe_randomforest_word2vec = Pipeline([\n",
    "                   ('union', process_and_join_features_word2vec),\n",
    "                   ('clf', RandomForestClassifier(random_state=42))\n",
    "                ])\n",
    "pipe_adaboost_word2vec = Pipeline([\n",
    "                   ('union', process_and_join_features_word2vec),\n",
    "                   ('clf', AdaBoostClassifier(random_state=42))\n",
    "                ])\n"
   ]
  },
  {
   "cell_type": "markdown",
   "metadata": {},
   "source": [
    "#### Select Base Model "
   ]
  },
  {
   "cell_type": "markdown",
   "metadata": {},
   "source": [
    "In this section, we will train the base models for all the 3 frequency dataset selected and saving the results in the dataframe for comparison"
   ]
  },
  {
   "cell_type": "code",
   "execution_count": 42,
   "metadata": {},
   "outputs": [],
   "source": [
    "from sklearn.metrics import roc_auc_score\n",
    "\n",
    "def train_predict_pipeline(pipeline, dataset):\n",
    "    \n",
    "    X_columns = dataset[['review_first_diff', 'reviewReadability', 'normalize_review_text']]\n",
    "    y_columns = dataset[['isHelpful']]\n",
    "    \n",
    "    #Train-test split\n",
    "    X_train, X_test, y_train, y_test = train_test_split(X_columns, y_columns, test_size=0.33, random_state=42)\n",
    "    \n",
    "    #Fit the training data to the pipeline\n",
    "    pipeline.fit(X_train, y_train)\n",
    "    y_pred_train = pipeline.predict(X_train)\n",
    "    \n",
    "    #Evaluate model\n",
    "    p_pred_test = pipeline.predict_proba(X_test)[:, 1]\n",
    "    auc_test = roc_auc_score(y_test, p_pred_test)\n",
    "    \n",
    "    print('Test set accuracy score: %.3f ' % auc_test)\n",
    "    \n",
    "    return auc_test"
   ]
  },
  {
   "cell_type": "code",
   "execution_count": 43,
   "metadata": {},
   "outputs": [],
   "source": [
    "# List of pipelines used in base mode evaluation\n",
    "clf_pipeline = [pipe_lr_tfidf, pipe_dt_tfidf, pipe_randomforest_tfidf, pipe_adaboost_tfidf, pipe_lr_word2vec, pipe_dt_word2vec,\n",
    "                pipe_randomforest_word2vec, pipe_adaboost_word2vec]\n",
    "\n",
    "clf_dict = {0: 'TF-IDF Logistic Regression', 1: 'TF-IDF Decision Tree', 2: 'TF-IDF Random Forest', 3: 'TF-IDF Adaboost', 4: 'Word2Vec Logistic Regression',\n",
    "             5: 'Word2Vec Decision Tree', 6: 'Word2Vec Random Forest', 7: 'Word2Vec Adaboost'}"
   ]
  },
  {
   "cell_type": "code",
   "execution_count": 44,
   "metadata": {},
   "outputs": [],
   "source": [
    "# List of datasets\n",
    "datasets = [dataset_threshold_08, dataset_threshold_085, dataset_threshold_09]\n",
    "datasets_dict = {0: 'Dataset Threshold 0.8', 1: 'Dataset Threshold 0.85', 2: 'Dataset Threshold 0.9'} "
   ]
  },
  {
   "cell_type": "code",
   "execution_count": 45,
   "metadata": {},
   "outputs": [
    {
     "name": "stdout",
     "output_type": "stream",
     "text": [
      "Started training on Dataset Threshold 0.8 dataset\n",
      "Predicting test accuracy using : TF-IDF Logistic Regression\n",
      "Test set accuracy score: 0.748 \n",
      "Total time to train and predict : TF-IDF Logistic Regression is 12.005636 seconds\n",
      "Predicting test accuracy using : TF-IDF Decision Tree\n",
      "Test set accuracy score: 0.555 \n",
      "Total time to train and predict : TF-IDF Decision Tree is 38.585371 seconds\n",
      "Predicting test accuracy using : TF-IDF Random Forest\n",
      "Test set accuracy score: 0.704 \n",
      "Total time to train and predict : TF-IDF Random Forest is 71.546725 seconds\n",
      "Predicting test accuracy using : TF-IDF Adaboost\n",
      "Test set accuracy score: 0.702 \n",
      "Total time to train and predict : TF-IDF Adaboost is 25.637593 seconds\n",
      "Predicting test accuracy using : Word2Vec Logistic Regression\n",
      "Test set accuracy score: 0.667 \n",
      "Total time to train and predict : Word2Vec Logistic Regression is 137.971315 seconds\n",
      "Predicting test accuracy using : Word2Vec Decision Tree\n",
      "Test set accuracy score: 0.550 \n",
      "Total time to train and predict : Word2Vec Decision Tree is 146.082504 seconds\n",
      "Predicting test accuracy using : Word2Vec Random Forest\n",
      "Test set accuracy score: 0.673 \n",
      "Total time to train and predict : Word2Vec Random Forest is 181.640744 seconds\n",
      "Predicting test accuracy using : Word2Vec Adaboost\n",
      "Test set accuracy score: 0.653 \n",
      "Total time to train and predict : Word2Vec Adaboost is 159.462386 seconds\n",
      "Completed training on Dataset Threshold 0.8 dataset\n",
      "Started training on Dataset Threshold 0.85 dataset\n",
      "Predicting test accuracy using : TF-IDF Logistic Regression\n",
      "Test set accuracy score: 0.714 \n",
      "Total time to train and predict : TF-IDF Logistic Regression is 12.119960 seconds\n",
      "Predicting test accuracy using : TF-IDF Decision Tree\n",
      "Test set accuracy score: 0.551 \n",
      "Total time to train and predict : TF-IDF Decision Tree is 33.542519 seconds\n",
      "Predicting test accuracy using : TF-IDF Random Forest\n",
      "Test set accuracy score: 0.685 \n",
      "Total time to train and predict : TF-IDF Random Forest is 79.402707 seconds\n",
      "Predicting test accuracy using : TF-IDF Adaboost\n",
      "Test set accuracy score: 0.682 \n",
      "Total time to train and predict : TF-IDF Adaboost is 26.542211 seconds\n",
      "Predicting test accuracy using : Word2Vec Logistic Regression\n",
      "Test set accuracy score: 0.639 \n",
      "Total time to train and predict : Word2Vec Logistic Regression is 138.252302 seconds\n",
      "Predicting test accuracy using : Word2Vec Decision Tree\n",
      "Test set accuracy score: 0.541 \n",
      "Total time to train and predict : Word2Vec Decision Tree is 143.114615 seconds\n",
      "Predicting test accuracy using : Word2Vec Random Forest\n",
      "Test set accuracy score: 0.644 \n",
      "Total time to train and predict : Word2Vec Random Forest is 170.840494 seconds\n",
      "Predicting test accuracy using : Word2Vec Adaboost\n",
      "Test set accuracy score: 0.649 \n",
      "Total time to train and predict : Word2Vec Adaboost is 156.647230 seconds\n",
      "Completed training on Dataset Threshold 0.85 dataset\n",
      "Started training on Dataset Threshold 0.9 dataset\n",
      "Predicting test accuracy using : TF-IDF Logistic Regression\n",
      "Test set accuracy score: 0.679 \n",
      "Total time to train and predict : TF-IDF Logistic Regression is 11.829845 seconds\n",
      "Predicting test accuracy using : TF-IDF Decision Tree\n",
      "Test set accuracy score: 0.550 \n",
      "Total time to train and predict : TF-IDF Decision Tree is 30.666061 seconds\n",
      "Predicting test accuracy using : TF-IDF Random Forest\n",
      "Test set accuracy score: 0.663 \n",
      "Total time to train and predict : TF-IDF Random Forest is 82.035155 seconds\n",
      "Predicting test accuracy using : TF-IDF Adaboost\n",
      "Test set accuracy score: 0.659 \n",
      "Total time to train and predict : TF-IDF Adaboost is 25.686459 seconds\n",
      "Predicting test accuracy using : Word2Vec Logistic Regression\n",
      "Test set accuracy score: 0.626 \n",
      "Total time to train and predict : Word2Vec Logistic Regression is 138.458532 seconds\n",
      "Predicting test accuracy using : Word2Vec Decision Tree\n",
      "Test set accuracy score: 0.516 \n",
      "Total time to train and predict : Word2Vec Decision Tree is 141.293515 seconds\n",
      "Predicting test accuracy using : Word2Vec Random Forest\n",
      "Test set accuracy score: 0.632 \n",
      "Total time to train and predict : Word2Vec Random Forest is 167.267192 seconds\n",
      "Predicting test accuracy using : Word2Vec Adaboost\n",
      "Test set accuracy score: 0.627 \n",
      "Total time to train and predict : Word2Vec Adaboost is 156.893206 seconds\n",
      "Completed training on Dataset Threshold 0.9 dataset\n"
     ]
    }
   ],
   "source": [
    "results = []\n",
    "for dataset_idx, dataset in enumerate(datasets):\n",
    "    print('Started training on %s dataset' % datasets_dict[dataset_idx])\n",
    "    for idx, clf_pipe in enumerate(clf_pipeline):\n",
    "        print('Predicting test accuracy using : %s' % clf_dict[idx])\n",
    "        start = time.time()\n",
    "        auc_result = train_predict_pipeline(clf_pipe, dataset)    \n",
    "        end = time.time()\n",
    "\n",
    "        print('Total time to train and predict : {} is {:4f} seconds'.format(clf_dict[idx], (end-start)))\n",
    "        results.append([datasets_dict[dataset_idx], clf_dict[idx], auc_result, (end-start)])\n",
    "    print('Completed training on %s dataset' % datasets_dict[dataset_idx])"
   ]
  },
  {
   "cell_type": "code",
   "execution_count": 46,
   "metadata": {},
   "outputs": [
    {
     "data": {
      "text/html": [
       "<div>\n",
       "<style scoped>\n",
       "    .dataframe tbody tr th:only-of-type {\n",
       "        vertical-align: middle;\n",
       "    }\n",
       "\n",
       "    .dataframe tbody tr th {\n",
       "        vertical-align: top;\n",
       "    }\n",
       "\n",
       "    .dataframe thead th {\n",
       "        text-align: right;\n",
       "    }\n",
       "</style>\n",
       "<table border=\"1\" class=\"dataframe\">\n",
       "  <thead>\n",
       "    <tr style=\"text-align: right;\">\n",
       "      <th></th>\n",
       "      <th>Dataset</th>\n",
       "      <th>Feature Representation</th>\n",
       "      <th>Accuracy</th>\n",
       "      <th>Total time</th>\n",
       "    </tr>\n",
       "  </thead>\n",
       "  <tbody>\n",
       "    <tr>\n",
       "      <th>0</th>\n",
       "      <td>Dataset Threshold 0.8</td>\n",
       "      <td>TF-IDF Logistic Regression</td>\n",
       "      <td>0.748464</td>\n",
       "      <td>12.005636</td>\n",
       "    </tr>\n",
       "    <tr>\n",
       "      <th>8</th>\n",
       "      <td>Dataset Threshold 0.85</td>\n",
       "      <td>TF-IDF Logistic Regression</td>\n",
       "      <td>0.713934</td>\n",
       "      <td>12.119960</td>\n",
       "    </tr>\n",
       "    <tr>\n",
       "      <th>2</th>\n",
       "      <td>Dataset Threshold 0.8</td>\n",
       "      <td>TF-IDF Random Forest</td>\n",
       "      <td>0.703938</td>\n",
       "      <td>71.546725</td>\n",
       "    </tr>\n",
       "    <tr>\n",
       "      <th>3</th>\n",
       "      <td>Dataset Threshold 0.8</td>\n",
       "      <td>TF-IDF Adaboost</td>\n",
       "      <td>0.701953</td>\n",
       "      <td>25.637593</td>\n",
       "    </tr>\n",
       "    <tr>\n",
       "      <th>10</th>\n",
       "      <td>Dataset Threshold 0.85</td>\n",
       "      <td>TF-IDF Random Forest</td>\n",
       "      <td>0.684589</td>\n",
       "      <td>79.402707</td>\n",
       "    </tr>\n",
       "    <tr>\n",
       "      <th>11</th>\n",
       "      <td>Dataset Threshold 0.85</td>\n",
       "      <td>TF-IDF Adaboost</td>\n",
       "      <td>0.682472</td>\n",
       "      <td>26.542211</td>\n",
       "    </tr>\n",
       "    <tr>\n",
       "      <th>16</th>\n",
       "      <td>Dataset Threshold 0.9</td>\n",
       "      <td>TF-IDF Logistic Regression</td>\n",
       "      <td>0.678812</td>\n",
       "      <td>11.829845</td>\n",
       "    </tr>\n",
       "    <tr>\n",
       "      <th>6</th>\n",
       "      <td>Dataset Threshold 0.8</td>\n",
       "      <td>Word2Vec Random Forest</td>\n",
       "      <td>0.673182</td>\n",
       "      <td>181.640744</td>\n",
       "    </tr>\n",
       "    <tr>\n",
       "      <th>4</th>\n",
       "      <td>Dataset Threshold 0.8</td>\n",
       "      <td>Word2Vec Logistic Regression</td>\n",
       "      <td>0.667467</td>\n",
       "      <td>137.971315</td>\n",
       "    </tr>\n",
       "    <tr>\n",
       "      <th>18</th>\n",
       "      <td>Dataset Threshold 0.9</td>\n",
       "      <td>TF-IDF Random Forest</td>\n",
       "      <td>0.663285</td>\n",
       "      <td>82.035155</td>\n",
       "    </tr>\n",
       "    <tr>\n",
       "      <th>19</th>\n",
       "      <td>Dataset Threshold 0.9</td>\n",
       "      <td>TF-IDF Adaboost</td>\n",
       "      <td>0.658831</td>\n",
       "      <td>25.686459</td>\n",
       "    </tr>\n",
       "    <tr>\n",
       "      <th>7</th>\n",
       "      <td>Dataset Threshold 0.8</td>\n",
       "      <td>Word2Vec Adaboost</td>\n",
       "      <td>0.653482</td>\n",
       "      <td>159.462386</td>\n",
       "    </tr>\n",
       "    <tr>\n",
       "      <th>15</th>\n",
       "      <td>Dataset Threshold 0.85</td>\n",
       "      <td>Word2Vec Adaboost</td>\n",
       "      <td>0.648527</td>\n",
       "      <td>156.647230</td>\n",
       "    </tr>\n",
       "    <tr>\n",
       "      <th>14</th>\n",
       "      <td>Dataset Threshold 0.85</td>\n",
       "      <td>Word2Vec Random Forest</td>\n",
       "      <td>0.643729</td>\n",
       "      <td>170.840494</td>\n",
       "    </tr>\n",
       "    <tr>\n",
       "      <th>12</th>\n",
       "      <td>Dataset Threshold 0.85</td>\n",
       "      <td>Word2Vec Logistic Regression</td>\n",
       "      <td>0.638873</td>\n",
       "      <td>138.252302</td>\n",
       "    </tr>\n",
       "    <tr>\n",
       "      <th>22</th>\n",
       "      <td>Dataset Threshold 0.9</td>\n",
       "      <td>Word2Vec Random Forest</td>\n",
       "      <td>0.632350</td>\n",
       "      <td>167.267192</td>\n",
       "    </tr>\n",
       "    <tr>\n",
       "      <th>23</th>\n",
       "      <td>Dataset Threshold 0.9</td>\n",
       "      <td>Word2Vec Adaboost</td>\n",
       "      <td>0.627260</td>\n",
       "      <td>156.893206</td>\n",
       "    </tr>\n",
       "    <tr>\n",
       "      <th>20</th>\n",
       "      <td>Dataset Threshold 0.9</td>\n",
       "      <td>Word2Vec Logistic Regression</td>\n",
       "      <td>0.625901</td>\n",
       "      <td>138.458532</td>\n",
       "    </tr>\n",
       "    <tr>\n",
       "      <th>1</th>\n",
       "      <td>Dataset Threshold 0.8</td>\n",
       "      <td>TF-IDF Decision Tree</td>\n",
       "      <td>0.555448</td>\n",
       "      <td>38.585371</td>\n",
       "    </tr>\n",
       "    <tr>\n",
       "      <th>9</th>\n",
       "      <td>Dataset Threshold 0.85</td>\n",
       "      <td>TF-IDF Decision Tree</td>\n",
       "      <td>0.550930</td>\n",
       "      <td>33.542519</td>\n",
       "    </tr>\n",
       "    <tr>\n",
       "      <th>5</th>\n",
       "      <td>Dataset Threshold 0.8</td>\n",
       "      <td>Word2Vec Decision Tree</td>\n",
       "      <td>0.549813</td>\n",
       "      <td>146.082504</td>\n",
       "    </tr>\n",
       "    <tr>\n",
       "      <th>17</th>\n",
       "      <td>Dataset Threshold 0.9</td>\n",
       "      <td>TF-IDF Decision Tree</td>\n",
       "      <td>0.549666</td>\n",
       "      <td>30.666061</td>\n",
       "    </tr>\n",
       "    <tr>\n",
       "      <th>13</th>\n",
       "      <td>Dataset Threshold 0.85</td>\n",
       "      <td>Word2Vec Decision Tree</td>\n",
       "      <td>0.541183</td>\n",
       "      <td>143.114615</td>\n",
       "    </tr>\n",
       "    <tr>\n",
       "      <th>21</th>\n",
       "      <td>Dataset Threshold 0.9</td>\n",
       "      <td>Word2Vec Decision Tree</td>\n",
       "      <td>0.516099</td>\n",
       "      <td>141.293515</td>\n",
       "    </tr>\n",
       "  </tbody>\n",
       "</table>\n",
       "</div>"
      ],
      "text/plain": [
       "                   Dataset        Feature Representation  Accuracy  Total time\n",
       "0    Dataset Threshold 0.8    TF-IDF Logistic Regression  0.748464   12.005636\n",
       "8   Dataset Threshold 0.85    TF-IDF Logistic Regression  0.713934   12.119960\n",
       "2    Dataset Threshold 0.8          TF-IDF Random Forest  0.703938   71.546725\n",
       "3    Dataset Threshold 0.8               TF-IDF Adaboost  0.701953   25.637593\n",
       "10  Dataset Threshold 0.85          TF-IDF Random Forest  0.684589   79.402707\n",
       "11  Dataset Threshold 0.85               TF-IDF Adaboost  0.682472   26.542211\n",
       "16   Dataset Threshold 0.9    TF-IDF Logistic Regression  0.678812   11.829845\n",
       "6    Dataset Threshold 0.8        Word2Vec Random Forest  0.673182  181.640744\n",
       "4    Dataset Threshold 0.8  Word2Vec Logistic Regression  0.667467  137.971315\n",
       "18   Dataset Threshold 0.9          TF-IDF Random Forest  0.663285   82.035155\n",
       "19   Dataset Threshold 0.9               TF-IDF Adaboost  0.658831   25.686459\n",
       "7    Dataset Threshold 0.8             Word2Vec Adaboost  0.653482  159.462386\n",
       "15  Dataset Threshold 0.85             Word2Vec Adaboost  0.648527  156.647230\n",
       "14  Dataset Threshold 0.85        Word2Vec Random Forest  0.643729  170.840494\n",
       "12  Dataset Threshold 0.85  Word2Vec Logistic Regression  0.638873  138.252302\n",
       "22   Dataset Threshold 0.9        Word2Vec Random Forest  0.632350  167.267192\n",
       "23   Dataset Threshold 0.9             Word2Vec Adaboost  0.627260  156.893206\n",
       "20   Dataset Threshold 0.9  Word2Vec Logistic Regression  0.625901  138.458532\n",
       "1    Dataset Threshold 0.8          TF-IDF Decision Tree  0.555448   38.585371\n",
       "9   Dataset Threshold 0.85          TF-IDF Decision Tree  0.550930   33.542519\n",
       "5    Dataset Threshold 0.8        Word2Vec Decision Tree  0.549813  146.082504\n",
       "17   Dataset Threshold 0.9          TF-IDF Decision Tree  0.549666   30.666061\n",
       "13  Dataset Threshold 0.85        Word2Vec Decision Tree  0.541183  143.114615\n",
       "21   Dataset Threshold 0.9        Word2Vec Decision Tree  0.516099  141.293515"
      ]
     },
     "execution_count": 46,
     "metadata": {},
     "output_type": "execute_result"
    }
   ],
   "source": [
    "df_results = pd.DataFrame(results, columns=['Dataset', 'Feature Representation', 'Accuracy', 'Total time'])\n",
    "df_results.sort_values(by=['Accuracy'], ascending=False)"
   ]
  },
  {
   "cell_type": "markdown",
   "metadata": {},
   "source": [
    "Based on the above test accuracy, dataset having threshold frequency 0.8 performs better than rest. We will do a cross-validation using GridSearchCV over TFIDF Logistic Regression, Random Forest and Adaboost. And as we know the dataset Before doing this GridSearchCV, lets split the dataset_threshold_08 into train and test data"
   ]
  },
  {
   "cell_type": "code",
   "execution_count": 47,
   "metadata": {},
   "outputs": [],
   "source": [
    "X_columns = dataset_threshold_08[['review_first_diff', 'reviewReadability', 'normalize_review_text']]\n",
    "y_columns = dataset_threshold_08[['isHelpful']]\n",
    "\n",
    "#Train-test split\n",
    "X_train, X_test, y_train, y_test = train_test_split(X_columns, y_columns, test_size=0.33, random_state=42)"
   ]
  },
  {
   "cell_type": "code",
   "execution_count": 49,
   "metadata": {},
   "outputs": [],
   "source": [
    "from sklearn.metrics import accuracy_score,precision_score\n",
    "from plotting import report, plot_roc\n",
    "\n",
    "def perform_model_optimization(grids, grid_dict):\n",
    "    # Fit the grid search objects\n",
    "    print('Performing model optimizations...')\n",
    "    best_acc = 0.0\n",
    "    best_clf = 0\n",
    "    best_gs = ''\n",
    "    for idx, gs in enumerate(grids):\n",
    "        start = time.time()\n",
    "        print('\\nEstimator: %s' % grid_dict[idx])\n",
    "        # Fit grid search\n",
    "        gs.fit(X_train, y_train)\n",
    "        # Best params\n",
    "        print('Best params: %s' % gs.best_params_)\n",
    "        # Best training data accuracy\n",
    "        print('Best training accuracy: %.3f' % gs.best_score_)\n",
    "        # Predict on test data with best params\n",
    "        y_pred = gs.predict(X_test)\n",
    "        # Test data accuracy of model with best params\n",
    "        print('Test set precision score for best params: %.3f ' % accuracy_score(y_test, y_pred))\n",
    "        print('Reports :')\n",
    "        report(y_test, y_pred)\n",
    "        plot_roc(y_test, y_pred)\n",
    "        # Track best (highest test accuracy) model\n",
    "        if accuracy_score(y_test, y_pred) > best_acc:\n",
    "            best_acc = accuracy_score(y_test, y_pred)\n",
    "            best_gs = gs\n",
    "            best_clf = idx\n",
    "        end= time.time()\n",
    "        print('Total time to perform model optimization {} : {:4f}'.format(grid_dict[idx], (end - start)))\n",
    "    print('\\nClassifier with best test set precision: %s' % grid_dict[best_clf])\n",
    "    return (best_clf,best_gs)"
   ]
  },
  {
   "cell_type": "code",
   "execution_count": 50,
   "metadata": {},
   "outputs": [],
   "source": [
    "from sklearn.model_selection import GridSearchCV\n",
    "\n",
    "# Set grid search params\n",
    "param_range = [2, 4, 6, 8, 10]\n",
    "param_range_fl = [1.0, 0.5, 0.1]\n",
    "\n",
    "grid_params_lr = [{'clf__penalty': ['l1', 'l2'],\n",
    "        'clf__C': param_range_fl,\n",
    "        'clf__solver': ['liblinear']}]\n",
    "grid_params_dt=[{'clf__min_samples_split' : param_range[1:],\n",
    "                 'clf__max_depth': param_range}]\n",
    "\n",
    "grid_params_rf = [{'clf__criterion': ['gini', 'entropy'],\n",
    "        'clf__max_depth': param_range,\n",
    "        'clf__min_samples_split': param_range[1:]}]\n",
    "\n",
    "grid_params_adaboost = [{'clf__learning_rate': [0.01,0.05,0.1,0.3,1],\n",
    "        'clf__n_estimators': [50, 100]}]\n"
   ]
  },
  {
   "cell_type": "code",
   "execution_count": 52,
   "metadata": {},
   "outputs": [],
   "source": [
    "jobs = -1\n",
    "\n",
    "gs_lr_tfidf = GridSearchCV(estimator=pipe_lr_tfidf,\n",
    "                     param_grid=grid_params_lr,\n",
    "                     scoring='accuracy',cv=5)\n",
    "\n",
    "gs_dt_tfidf = GridSearchCV(estimator=pipe_dt_tfidf,\n",
    "                    param_grid=grid_params_dt,\n",
    "                    scoring='accuracy',\n",
    "                    cv=5, n_jobs=jobs)\n",
    "gs_rf_tfidf = GridSearchCV(estimator=pipe_randomforest_tfidf,\n",
    "                    param_grid=grid_params_rf,\n",
    "                    scoring='accuracy',\n",
    "                    cv=5, n_jobs=jobs)\n",
    "gs_adaboost_tfidf = GridSearchCV(estimator=pipe_adaboost_tfidf,\n",
    "                    param_grid=grid_params_adaboost,\n",
    "                    scoring='accuracy',\n",
    "                    cv=5, n_jobs=jobs)"
   ]
  },
  {
   "cell_type": "code",
   "execution_count": 56,
   "metadata": {},
   "outputs": [],
   "source": [
    "# List of pipelines for ease of iteration\n",
    "grids = [gs_lr_tfidf, gs_rf_tfidf, gs_adaboost_tfidf]\n",
    "\n",
    "# Dictionary of pipelines and classifier types for ease of reference\n",
    "grid_dict = {0: 'TF-IDF Logistic Regression', 1: 'TF-IDF RandomForest', 2: 'TF-IDF Adaboost'}\n"
   ]
  },
  {
   "cell_type": "code",
   "execution_count": 57,
   "metadata": {
    "scrolled": false
   },
   "outputs": [
    {
     "name": "stdout",
     "output_type": "stream",
     "text": [
      "Performing model optimizations...\n",
      "\n",
      "Estimator: TF-IDF Logistic Regression\n",
      "Best params: {'clf__C': 1.0, 'clf__penalty': 'l2', 'clf__solver': 'liblinear'}\n",
      "Best training accuracy: 0.820\n",
      "Test set precision score for best params: 0.823 \n",
      "Reports :\n",
      "              precision    recall  f1-score   support\n",
      "\n",
      "   isHelpful       0.60      0.16      0.25      1694\n",
      "  notHelpful       0.83      0.98      0.90      7351\n",
      "\n",
      "    accuracy                           0.82      9045\n",
      "   macro avg       0.72      0.57      0.57      9045\n",
      "weighted avg       0.79      0.82      0.78      9045\n",
      "\n"
     ]
    },
    {
     "data": {
      "image/png": "[encoded data removed]",
      "text/plain": [
       "<Figure size 360x360 with 2 Axes>"
      ]
     },
     "metadata": {},
     "output_type": "display_data"
    },
    {
     "data": {
      "image/png": "[encoded data removed]",
      "text/plain": [
       "<Figure size 432x288 with 1 Axes>"
      ]
     },
     "metadata": {},
     "output_type": "display_data"
    },
    {
     "name": "stdout",
     "output_type": "stream",
     "text": [
      "Total time to perform model optimization TF-IDF Logistic Regression : 195.080725\n",
      "\n",
      "Estimator: TF-IDF RandomForest\n",
      "Best params: {'clf__criterion': 'gini', 'clf__max_depth': 2, 'clf__min_samples_split': 4}\n",
      "Best training accuracy: 0.812\n",
      "Test set precision score for best params: 0.813 \n",
      "Reports :\n",
      "              precision    recall  f1-score   support\n",
      "\n",
      "   isHelpful       0.00      0.00      0.00      1694\n",
      "  notHelpful       0.81      1.00      0.90      7351\n",
      "\n",
      "    accuracy                           0.81      9045\n",
      "   macro avg       0.41      0.50      0.45      9045\n",
      "weighted avg       0.66      0.81      0.73      9045\n",
      "\n"
     ]
    },
    {
     "data": {
      "image/png": "[encoded data removed]",
      "text/plain": [
       "<Figure size 360x360 with 2 Axes>"
      ]
     },
     "metadata": {},
     "output_type": "display_data"
    },
    {
     "data": {
      "image/png": "[encoded data removed]",
      "text/plain": [
       "<Figure size 432x288 with 1 Axes>"
      ]
     },
     "metadata": {},
     "output_type": "display_data"
    },
    {
     "name": "stdout",
     "output_type": "stream",
     "text": [
      "Total time to perform model optimization TF-IDF RandomForest : 473.280175\n",
      "\n",
      "Estimator: TF-IDF Adaboost\n",
      "Best params: {'clf__learning_rate': 0.3, 'clf__n_estimators': 100}\n",
      "Best training accuracy: 0.813\n",
      "Test set precision score for best params: 0.815 \n",
      "Reports :\n",
      "              precision    recall  f1-score   support\n",
      "\n",
      "   isHelpful       0.76      0.02      0.03      1694\n",
      "  notHelpful       0.82      1.00      0.90      7351\n",
      "\n",
      "    accuracy                           0.81      9045\n",
      "   macro avg       0.79      0.51      0.46      9045\n",
      "weighted avg       0.80      0.81      0.74      9045\n",
      "\n"
     ]
    },
    {
     "data": {
      "image/png": "[encoded data removed]",
      "text/plain": [
       "<Figure size 360x360 with 2 Axes>"
      ]
     },
     "metadata": {},
     "output_type": "display_data"
    },
    {
     "data": {
      "image/png": "[encoded data removed]",
      "text/plain": [
       "<Figure size 432x288 with 1 Axes>"
      ]
     },
     "metadata": {},
     "output_type": "display_data"
    },
    {
     "name": "stdout",
     "output_type": "stream",
     "text": [
      "Total time to perform model optimization TF-IDF Adaboost : 287.434458\n",
      "\n",
      "Classifier with best test set precision: TF-IDF Logistic Regression\n"
     ]
    },
    {
     "data": {
      "text/plain": [
       "(0, GridSearchCV(cv=5, error_score=nan,\n",
       "              estimator=Pipeline(memory=None,\n",
       "                                 steps=[('union',\n",
       "                                         FeatureUnion(n_jobs=None,\n",
       "                                                      transformer_list=[('numeric_feaures',\n",
       "                                                                         Pipeline(memory=None,\n",
       "                                                                                  steps=[('selector',\n",
       "                                                                                          <custom_transformer.ColumnExtractor object at 0x000001F9C0196A58>),\n",
       "                                                                                         ('scale',\n",
       "                                                                                          StandardScaler(copy=True,\n",
       "                                                                                                         with_mean=True,\n",
       "                                                                                                         with_std=True))],\n",
       "                                                                                  verbose=False)),\n",
       "                                                                        ('text_features',\n",
       "                                                                         Pipe...\n",
       "                                                            max_iter=100,\n",
       "                                                            multi_class='auto',\n",
       "                                                            n_jobs=None,\n",
       "                                                            penalty='l2',\n",
       "                                                            random_state=42,\n",
       "                                                            solver='lbfgs',\n",
       "                                                            tol=0.0001,\n",
       "                                                            verbose=0,\n",
       "                                                            warm_start=False))],\n",
       "                                 verbose=False),\n",
       "              iid='deprecated', n_jobs=None,\n",
       "              param_grid=[{'clf__C': [1.0, 0.5, 0.1],\n",
       "                           'clf__penalty': ['l1', 'l2'],\n",
       "                           'clf__solver': ['liblinear']}],\n",
       "              pre_dispatch='2*n_jobs', refit=True, return_train_score=False,\n",
       "              scoring='accuracy', verbose=0))"
      ]
     },
     "execution_count": 57,
     "metadata": {},
     "output_type": "execute_result"
    }
   ],
   "source": [
    "perform_model_optimization(grids, grid_dict)"
   ]
  },
  {
   "cell_type": "markdown",
   "metadata": {},
   "source": [
    "Based on the classification report printed above, though we have high precision or accuracy of about 80%,still its not properly build as the ratio of helpfulness and not helpfulness data is skewed with high number of helpfulness label data  compared to not helpful data. In this case we will perform over-sampling of minority data(not helpful data) so that the data distribution is symmetric using SMOTE. We will select TF-IDF Logistic Regression, Adaboost Classifier and RandomForest Classifier as this 2 model performed quite good and percision is almost close to each other"
   ]
  },
  {
   "cell_type": "code",
   "execution_count": 62,
   "metadata": {},
   "outputs": [],
   "source": [
    "from imblearn.over_sampling import SMOTE, RandomOverSampler\n",
    "from imblearn.under_sampling import RandomUnderSampler\n",
    "from imblearn.pipeline import Pipeline\n",
    "\n",
    "pipe_lr_tfidf_over_sampling = Pipeline([\n",
    "                   ('union', process_and_join_features_tfidf),\n",
    "                   ('random_sampling', RandomOverSampler(random_state=42)),\n",
    "                   ('clf', LogisticRegression(random_state=42))\n",
    "                ])\n",
    "pipe_lr_tfidf_smote_sampling = Pipeline([\n",
    "                   ('union', process_and_join_features_tfidf),\n",
    "                   ('random_sampling', SMOTE(random_state=42)),\n",
    "                   ('clf', LogisticRegression(random_state=42))\n",
    "                ])\n",
    "pipe_lr_tfidf_under_sampling = Pipeline([\n",
    "                   ('union', process_and_join_features_tfidf),\n",
    "                   ('random_sampling', RandomUnderSampler(random_state=42)),\n",
    "                   ('clf', LogisticRegression(random_state=42))\n",
    "                ])\n",
    "pipe_adaboost_tfidf_over_sampling = Pipeline([\n",
    "                   ('union', process_and_join_features_tfidf),\n",
    "                   ('random_sampling', RandomOverSampler(random_state=42)),\n",
    "                   ('clf', AdaBoostClassifier(random_state=42))\n",
    "                ])\n",
    "pipe_adaboost_tfidf_smote_sampling = Pipeline([\n",
    "                   ('union', process_and_join_features_tfidf),\n",
    "                   ('random_sampling', SMOTE(random_state=42)),\n",
    "                   ('clf', AdaBoostClassifier(random_state=42))\n",
    "                ])\n",
    "pipe_adaboost_tfidf_under_sampling = Pipeline([\n",
    "                   ('union', process_and_join_features_tfidf),\n",
    "                   ('random_sampling', RandomUnderSampler(random_state=42)),\n",
    "                   ('clf', AdaBoostClassifier(random_state=42))\n",
    "                ])\n",
    "pipe_rf_tfidf_over_sampling = Pipeline([\n",
    "                   ('union', process_and_join_features_tfidf),\n",
    "                   ('random_sampling', RandomOverSampler(random_state=42)),\n",
    "                   ('clf', RandomForestClassifier(random_state=42))\n",
    "                ])\n",
    "pipe_rf_tfidf_smote_sampling = Pipeline([\n",
    "                   ('union', process_and_join_features_tfidf),\n",
    "                   ('random_sampling', SMOTE(random_state=42)),\n",
    "                   ('clf', RandomForestClassifier(random_state=42))\n",
    "                ])\n",
    "pipe_rf_tfidf_under_sampling = Pipeline([\n",
    "                   ('union', process_and_join_features_tfidf),\n",
    "                   ('random_sampling', RandomUnderSampler(random_state=42)),\n",
    "                   ('clf', RandomForestClassifier(random_state=42))\n",
    "                ])"
   ]
  },
  {
   "cell_type": "code",
   "execution_count": 63,
   "metadata": {},
   "outputs": [],
   "source": [
    "gs_lr_tfidf_over_sampling = GridSearchCV(estimator=pipe_lr_tfidf_over_sampling,\n",
    "                     param_grid=grid_params_lr,\n",
    "                     scoring='accuracy',cv=5)\n",
    "gs_lr_tfidf_smote_sampling = GridSearchCV(estimator=pipe_lr_tfidf_smote_sampling,\n",
    "                     param_grid=grid_params_lr,\n",
    "                     scoring='accuracy',cv=5)\n",
    "gs_lr_tfidf_under_sampling = GridSearchCV(estimator=pipe_lr_tfidf_under_sampling,\n",
    "                     param_grid=grid_params_lr,\n",
    "                     scoring='accuracy',cv=5)\n",
    "gs_adaboost_tfidf_over_sampling = GridSearchCV(estimator=pipe_adaboost_tfidf_over_sampling,\n",
    "                     param_grid=grid_params_adaboost,\n",
    "                     scoring='accuracy',cv=5)\n",
    "gs_adaboost_tfidf_smote_sampling = GridSearchCV(estimator=pipe_adaboost_tfidf_smote_sampling,\n",
    "                     param_grid=grid_params_adaboost,\n",
    "                     scoring='accuracy',cv=5)\n",
    "gs_adaboost_tfidf_under_sampling = GridSearchCV(estimator=pipe_adaboost_tfidf_under_sampling,\n",
    "                     param_grid=grid_params_adaboost,\n",
    "                     scoring='accuracy',cv=5)\n",
    "gs_rf_tfidf_over_sampling = GridSearchCV(estimator=pipe_rf_tfidf_over_sampling,\n",
    "                     param_grid=grid_params_rf,\n",
    "                     scoring='accuracy',cv=5)\n",
    "gs_rf_tfidf_smote_sampling = GridSearchCV(estimator=pipe_rf_tfidf_smote_sampling,\n",
    "                     param_grid=grid_params_rf,\n",
    "                     scoring='accuracy',cv=5)\n",
    "gs_rf_tfidf_under_sampling = GridSearchCV(estimator=pipe_rf_tfidf_under_sampling,\n",
    "                     param_grid=grid_params_rf,\n",
    "                     scoring='accuracy',cv=5)"
   ]
  },
  {
   "cell_type": "code",
   "execution_count": 60,
   "metadata": {},
   "outputs": [],
   "source": [
    "# List of pipelines for ease of iteration\n",
    "grids_sampling = [gs_lr_tfidf_over_sampling, gs_lr_tfidf_under_sampling, gs_lr_tfidf_smote_sampling, gs_adaboost_tfidf_over_sampling,\n",
    "                  gs_adaboost_tfidf_under_sampling, gs_adaboost_tfidf_smote_sampling, gs_rf_tfidf_over_sampling, gs_rf_tfidf_under_sampling,\n",
    "                 gs_rf_tfidf_smote_sampling]\n",
    "\n",
    "# Dictionary of pipelines and classifier types for ease of reference\n",
    "grid_sampling_dict = {0: 'Random Oversampling TF-IDF Logistic Regression', 1: 'Random Undersampling TF-IDF Logistic Regression',\n",
    "                      2: 'SMOTE Oversampling TF-IDF Logistic Regression', 3: 'Random Oversampling TF-IDF Adaboost Classifier',\n",
    "                      4: 'Random Undersampling TF-IDF Adaboost Classifier', 5: 'SMOTE Oversampling TF-IDF Adaboost Classifier',\n",
    "                      6: 'Random Oversampling TF-IDF RandomForest Classifier', 7: 'Random Undersampling TF-IDF RandomForest Classifier',\n",
    "                      8: 'SMOTE Oversampling TF-IDF RandomForest Classifier' }\n"
   ]
  },
  {
   "cell_type": "code",
   "execution_count": 61,
   "metadata": {
    "scrolled": false
   },
   "outputs": [
    {
     "name": "stdout",
     "output_type": "stream",
     "text": [
      "Performing model optimizations...\n",
      "\n",
      "Estimator: Random Oversampling TF-IDF Logistic Regression\n",
      "Best params: {'clf__C': 0.5, 'clf__penalty': 'l2', 'clf__solver': 'liblinear'}\n",
      "Best training accuracy: 0.708\n",
      "Test set precision score for best params: 0.706 \n",
      "Reports :\n",
      "              precision    recall  f1-score   support\n",
      "\n",
      "   isHelpful       0.35      0.64      0.45      1694\n",
      "  notHelpful       0.90      0.72      0.80      7351\n",
      "\n",
      "    accuracy                           0.71      9045\n",
      "   macro avg       0.62      0.68      0.62      9045\n",
      "weighted avg       0.79      0.71      0.73      9045\n",
      "\n"
     ]
    },
    {
     "data": {
      "image/png": "[encoded data removed]",
      "text/plain": [
       "<Figure size 360x360 with 2 Axes>"
      ]
     },
     "metadata": {},
     "output_type": "display_data"
    },
    {
     "data": {
      "image/png": "[encoded data removed]",
      "text/plain": [
       "<Figure size 432x288 with 1 Axes>"
      ]
     },
     "metadata": {},
     "output_type": "display_data"
    },
    {
     "name": "stdout",
     "output_type": "stream",
     "text": [
      "Total time to perform model optimization Random Oversampling TF-IDF Logistic Regression : 209.075914\n",
      "\n",
      "Estimator: Random Undersampling TF-IDF Logistic Regression\n",
      "Best params: {'clf__C': 0.1, 'clf__penalty': 'l2', 'clf__solver': 'liblinear'}\n",
      "Best training accuracy: 0.681\n",
      "Test set precision score for best params: 0.691 \n",
      "Reports :\n",
      "              precision    recall  f1-score   support\n",
      "\n",
      "   isHelpful       0.33      0.66      0.44      1694\n",
      "  notHelpful       0.90      0.70      0.79      7351\n",
      "\n",
      "    accuracy                           0.69      9045\n",
      "   macro avg       0.62      0.68      0.61      9045\n",
      "weighted avg       0.79      0.69      0.72      9045\n",
      "\n"
     ]
    },
    {
     "data": {
      "image/png": "[encoded data removed]",
      "text/plain": [
       "<Figure size 360x360 with 2 Axes>"
      ]
     },
     "metadata": {},
     "output_type": "display_data"
    },
    {
     "data": {
      "image/png": "[encoded data removed]",
      "text/plain": [
       "<Figure size 432x288 with 1 Axes>"
      ]
     },
     "metadata": {},
     "output_type": "display_data"
    },
    {
     "name": "stdout",
     "output_type": "stream",
     "text": [
      "Total time to perform model optimization Random Undersampling TF-IDF Logistic Regression : 190.435521\n",
      "\n",
      "Estimator: SMOTE Oversampling TF-IDF Logistic Regression\n",
      "Best params: {'clf__C': 0.1, 'clf__penalty': 'l2', 'clf__solver': 'liblinear'}\n",
      "Best training accuracy: 0.705\n",
      "Test set precision score for best params: 0.708 \n",
      "Reports :\n",
      "              precision    recall  f1-score   support\n",
      "\n",
      "   isHelpful       0.35      0.66      0.46      1694\n",
      "  notHelpful       0.90      0.72      0.80      7351\n",
      "\n",
      "    accuracy                           0.71      9045\n",
      "   macro avg       0.63      0.69      0.63      9045\n",
      "weighted avg       0.80      0.71      0.74      9045\n",
      "\n"
     ]
    },
    {
     "data": {
      "image/png": "[encoded data removed]",
      "text/plain": [
       "<Figure size 360x360 with 2 Axes>"
      ]
     },
     "metadata": {},
     "output_type": "display_data"
    },
    {
     "data": {
      "image/png": "[encoded data removed]",
      "text/plain": [
       "<Figure size 432x288 with 1 Axes>"
      ]
     },
     "metadata": {},
     "output_type": "display_data"
    },
    {
     "name": "stdout",
     "output_type": "stream",
     "text": [
      "Total time to perform model optimization SMOTE Oversampling TF-IDF Logistic Regression : 226.284942\n",
      "\n",
      "Estimator: Random Oversampling TF-IDF Adaboost Classifier\n",
      "Best params: {'clf__learning_rate': 0.3, 'clf__n_estimators': 100}\n",
      "Best training accuracy: 0.653\n",
      "Test set precision score for best params: 0.647 \n",
      "Reports :\n",
      "              precision    recall  f1-score   support\n",
      "\n",
      "   isHelpful       0.30      0.67      0.42      1694\n",
      "  notHelpful       0.89      0.64      0.75      7351\n",
      "\n",
      "    accuracy                           0.65      9045\n",
      "   macro avg       0.60      0.66      0.58      9045\n",
      "weighted avg       0.78      0.65      0.68      9045\n",
      "\n"
     ]
    },
    {
     "data": {
      "image/png": "[encoded data removed]",
      "text/plain": [
       "<Figure size 360x360 with 2 Axes>"
      ]
     },
     "metadata": {},
     "output_type": "display_data"
    },
    {
     "data": {
      "image/png": "[encoded data removed]",
      "text/plain": [
       "<Figure size 432x288 with 1 Axes>"
      ]
     },
     "metadata": {},
     "output_type": "display_data"
    },
    {
     "name": "stdout",
     "output_type": "stream",
     "text": [
      "Total time to perform model optimization Random Oversampling TF-IDF Adaboost Classifier : 1364.039046\n",
      "\n",
      "Estimator: Random Undersampling TF-IDF Adaboost Classifier\n",
      "Best params: {'clf__learning_rate': 0.3, 'clf__n_estimators': 100}\n",
      "Best training accuracy: 0.633\n",
      "Test set precision score for best params: 0.637 \n",
      "Reports :\n",
      "              precision    recall  f1-score   support\n",
      "\n",
      "   isHelpful       0.30      0.69      0.42      1694\n",
      "  notHelpful       0.90      0.63      0.74      7351\n",
      "\n",
      "    accuracy                           0.64      9045\n",
      "   macro avg       0.60      0.66      0.58      9045\n",
      "weighted avg       0.79      0.64      0.68      9045\n",
      "\n"
     ]
    },
    {
     "data": {
      "image/png": "[encoded data removed]",
      "text/plain": [
       "<Figure size 360x360 with 2 Axes>"
      ]
     },
     "metadata": {},
     "output_type": "display_data"
    },
    {
     "data": {
      "image/png": "[encoded data removed]",
      "text/plain": [
       "<Figure size 432x288 with 1 Axes>"
      ]
     },
     "metadata": {},
     "output_type": "display_data"
    },
    {
     "name": "stdout",
     "output_type": "stream",
     "text": [
      "Total time to perform model optimization Random Undersampling TF-IDF Adaboost Classifier : 453.877493\n",
      "\n",
      "Estimator: SMOTE Oversampling TF-IDF Adaboost Classifier\n",
      "Best params: {'clf__learning_rate': 1, 'clf__n_estimators': 100}\n",
      "Best training accuracy: 0.708\n",
      "Test set precision score for best params: 0.708 \n",
      "Reports :\n",
      "              precision    recall  f1-score   support\n",
      "\n",
      "   isHelpful       0.32      0.48      0.38      1694\n",
      "  notHelpful       0.86      0.76      0.81      7351\n",
      "\n",
      "    accuracy                           0.71      9045\n",
      "   macro avg       0.59      0.62      0.59      9045\n",
      "weighted avg       0.76      0.71      0.73      9045\n",
      "\n"
     ]
    },
    {
     "data": {
      "image/png": "[encoded data removed]",
      "text/plain": [
       "<Figure size 360x360 with 2 Axes>"
      ]
     },
     "metadata": {},
     "output_type": "display_data"
    },
    {
     "data": {
      "image/png": "[encoded data removed]",
      "text/plain": [
       "<Figure size 432x288 with 1 Axes>"
      ]
     },
     "metadata": {},
     "output_type": "display_data"
    },
    {
     "name": "stdout",
     "output_type": "stream",
     "text": [
      "Total time to perform model optimization SMOTE Oversampling TF-IDF Adaboost Classifier : 31766.617711\n",
      "\n",
      "Estimator: Random Oversampling TF-IDF RandomForest Classifier\n",
      "Best params: {'clf__criterion': 'gini', 'clf__max_depth': 10, 'clf__min_samples_split': 4}\n",
      "Best training accuracy: 0.696\n",
      "Test set precision score for best params: 0.694 \n",
      "Reports :\n",
      "              precision    recall  f1-score   support\n",
      "\n",
      "   isHelpful       0.33      0.60      0.42      1694\n",
      "  notHelpful       0.89      0.72      0.79      7351\n",
      "\n",
      "    accuracy                           0.69      9045\n",
      "   macro avg       0.61      0.66      0.61      9045\n",
      "weighted avg       0.78      0.69      0.72      9045\n",
      "\n"
     ]
    },
    {
     "data": {
      "image/png": "[encoded data removed]",
      "text/plain": [
       "<Figure size 360x360 with 2 Axes>"
      ]
     },
     "metadata": {},
     "output_type": "display_data"
    },
    {
     "data": {
      "image/png": "[encoded data removed]",
      "text/plain": [
       "<Figure size 432x288 with 1 Axes>"
      ]
     },
     "metadata": {},
     "output_type": "display_data"
    },
    {
     "name": "stdout",
     "output_type": "stream",
     "text": [
      "Total time to perform model optimization Random Oversampling TF-IDF RandomForest Classifier : 1687.795202\n",
      "\n",
      "Estimator: Random Undersampling TF-IDF RandomForest Classifier\n",
      "Best params: {'clf__criterion': 'gini', 'clf__max_depth': 10, 'clf__min_samples_split': 6}\n",
      "Best training accuracy: 0.647\n",
      "Test set precision score for best params: 0.657 \n",
      "Reports :\n",
      "              precision    recall  f1-score   support\n",
      "\n",
      "   isHelpful       0.31      0.66      0.42      1694\n",
      "  notHelpful       0.89      0.66      0.76      7351\n",
      "\n",
      "    accuracy                           0.66      9045\n",
      "   macro avg       0.60      0.66      0.59      9045\n",
      "weighted avg       0.78      0.66      0.69      9045\n",
      "\n"
     ]
    },
    {
     "data": {
      "image/png": "[encoded data removed]",
      "text/plain": [
       "<Figure size 360x360 with 2 Axes>"
      ]
     },
     "metadata": {},
     "output_type": "display_data"
    },
    {
     "data": {
      "image/png": "[encoded data removed]",
      "text/plain": [
       "<Figure size 432x288 with 1 Axes>"
      ]
     },
     "metadata": {},
     "output_type": "display_data"
    },
    {
     "name": "stdout",
     "output_type": "stream",
     "text": [
      "Total time to perform model optimization Random Undersampling TF-IDF RandomForest Classifier : 1204.443740\n",
      "\n",
      "Estimator: SMOTE Oversampling TF-IDF RandomForest Classifier\n",
      "Best params: {'clf__criterion': 'entropy', 'clf__max_depth': 10, 'clf__min_samples_split': 6}\n",
      "Best training accuracy: 0.738\n",
      "Test set precision score for best params: 0.731 \n",
      "Reports :\n",
      "              precision    recall  f1-score   support\n",
      "\n",
      "   isHelpful       0.29      0.30      0.29      1694\n",
      "  notHelpful       0.84      0.83      0.83      7351\n",
      "\n",
      "    accuracy                           0.73      9045\n",
      "   macro avg       0.56      0.56      0.56      9045\n",
      "weighted avg       0.73      0.73      0.73      9045\n",
      "\n"
     ]
    },
    {
     "data": {
      "image/png": "[encoded data removed]",
      "text/plain": [
       "<Figure size 360x360 with 2 Axes>"
      ]
     },
     "metadata": {},
     "output_type": "display_data"
    },
    {
     "data": {
      "image/png": "[encoded data removed]",
      "text/plain": [
       "<Figure size 432x288 with 1 Axes>"
      ]
     },
     "metadata": {},
     "output_type": "display_data"
    },
    {
     "name": "stdout",
     "output_type": "stream",
     "text": [
      "Total time to perform model optimization SMOTE Oversampling TF-IDF RandomForest Classifier : 2207.294500\n",
      "\n",
      "Classifier with best test set precision: SMOTE Oversampling TF-IDF RandomForest Classifier\n"
     ]
    }
   ],
   "source": [
    "best_clf,best_gs = perform_model_optimization(grids_sampling, grid_sampling_dict)"
   ]
  },
  {
   "cell_type": "code",
   "execution_count": 64,
   "metadata": {},
   "outputs": [
    {
     "name": "stdout",
     "output_type": "stream",
     "text": [
      "\n",
      "Saved SMOTE Oversampling TF-IDF RandomForest Classifier grid search pipeline to file: best_gs_pipeline.pkl\n"
     ]
    }
   ],
   "source": [
    "from sklearn.externals import joblib\n",
    "# Save best grid search pipeline to file\n",
    "dump_file = 'best_gs_pipeline.pkl'\n",
    "joblib.dump(best_gs, dump_file, compress=1)\n",
    "print('\\nSaved %s grid search pipeline to file: %s' % (grid_sampling_dict[best_clf], dump_file))"
   ]
  },
  {
   "cell_type": "markdown",
   "metadata": {},
   "source": [
    "Based on the our analysis, using SMOTE Oversampling TFIDF RandomForest Classifier, we got the good precision and accuracu score with accuracy about 73.8%(increased about 3% using SMOTE Sampling) and precision of about 84%"
   ]
  },
  {
   "cell_type": "markdown",
   "metadata": {},
   "source": [
    "References:\n",
    "\n",
    "1. Papers:\n",
    "\n",
    "http://cs229.stanford.edu/proj2014/Jordan%20Rodak,%20Minna%20Xiao,%20Steven%20Longoria,%20Predicting%20Helpfulness%20Ratings%20of%20Amazon%20Product%20Reviews.pdf\n",
    "\n",
    "2. Text Feature Extraction:\n",
    "\n",
    "\n",
    "https://towardsdatascience.com/understanding-feature-engineering-part-3-traditional-methods-for-text-data-f6f7d70acd41\n",
    "https://towardsdatascience.com/understanding-feature-engineering-part-2-categorical-data-f54324193e63\n",
    "\n",
    "3. Custom Pipeline:\n",
    "\n",
    "\n",
    "https://bradzzz.gitbooks.io/ga-seattle-dsi/content/dsi/dsi_05_classification_databases/2.2-lesson/readme.html\n",
    "https://gist.github.com/amberjrivera/8c5c145516f5a2e894681e16a8095b5c\n",
    "https://towardsdatascience.com/custom-transformers-and-ml-data-pipelines-with-python-20ea2a7adb65\n",
    "\n",
    "4. Handling Imbalance dataset:\n",
    "\n",
    "\n",
    "https://www.analyticsvidhya.com/blog/2017/03/imbalanced-data-classification/\n",
    "https://towardsdatascience.com/fighting-imbalance-data-set-with-code-examples-f2a3880700a6\n",
    "https://machinelearningmastery.com/smote-oversampling-for-imbalanced-classification/\n",
    "\n",
    "5. Finding the best model parameters:\n",
    "\n",
    "\n",
    "https://www.kdnuggets.com/2018/01/managing-machine-learning-workflows-scikit-learn-pipelines-part-3.html\n",
    "\n",
    "6. Finding the  threshold for binary classification:\n",
    "\n",
    "https://medium.com/analytics-vidhya/a-guide-to-machine-learning-in-r-for-beginners-part-5-4c00f2366b90\n"
   ]
  },
  {
   "cell_type": "code",
   "execution_count": null,
   "metadata": {},
   "outputs": [],
   "source": []
  }
 ],
 "metadata": {
  "kernelspec": {
   "display_name": "Python 3",
   "language": "python",
   "name": "python3"
  },
  "language_info": {
   "codemirror_mode": {
    "name": "ipython",
    "version": 3
   },
   "file_extension": ".py",
   "mimetype": "text/x-python",
   "name": "python",
   "nbconvert_exporter": "python",
   "pygments_lexer": "ipython3",
   "version": "3.7.3"
  }
 },
 "nbformat": 4,
 "nbformat_minor": 2
}
