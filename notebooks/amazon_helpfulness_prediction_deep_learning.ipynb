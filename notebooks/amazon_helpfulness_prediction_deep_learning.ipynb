{
 "cells": [
  {
   "cell_type": "markdown",
   "metadata": {},
   "source": [
    "### Objective "
   ]
  },
  {
   "cell_type": "markdown",
   "metadata": {},
   "source": [
    "This notebook is about applying deep learning models to predict the helpfulness of the amazon review dataset. We have already applied traditonal model approach to  the problem statement. Based on the traditional approach, using SMOTE Sampling TF-IDF RandomForest Classifier accuracy score was about 73% and precision score as 84%. You can find the details about the traditional approach in the github link: \n",
    "\n",
    "https://github.com/subhashree-ai/amazon-review-helpfulness-prediction/blob/master/notebooks/amazon_helpfulness_prediction_trad_models.ipynb\n",
    "\n",
    "\n",
    "In this notebook, we will apply LSTM deep learning methods on the amazon review datasets and will take into account threshold value as 0.5 for labelling the target variable. This will lead us to highly imbalanced datasets. We will employ 3 different methods and compare which one suits best for our imbalanced datasets. \n",
    "\n",
    "1. Setting the initial bias\n",
    "2. Setting weights for balancing the datasets\n",
    "3. Oversampling the minority class"
   ]
  },
  {
   "cell_type": "markdown",
   "metadata": {},
   "source": [
    "##### Import and Initialization"
   ]
  },
  {
   "cell_type": "code",
   "execution_count": 1,
   "metadata": {},
   "outputs": [],
   "source": [
    "# Importing the relevant dependencies\n",
    "import numpy as np\n",
    "import pandas as pd\n",
    "import gzip\n",
    "import math, time, random, datetime\n",
    "import string\n",
    "import os\n",
    "import tempfile\n",
    "\n",
    "# data visualization\n",
    "%matplotlib inline\n",
    "import matplotlib as mpl\n",
    "import matplotlib.pyplot as plt\n",
    "import seaborn as sns\n",
    "plt.style.use('seaborn-whitegrid')\n",
    "mpl.rcParams['figure.figsize'] = (5, 5)\n",
    "colors = plt.rcParams['axes.prop_cycle'].by_key()['color']\n",
    "\n",
    "from IPython.display import display # Allows the use of display() for DataFrames\n",
    "import warnings\n",
    "warnings.filterwarnings('ignore')\n",
    "import pickle\n",
    "from sklearn.model_selection import train_test_split\n",
    "\n",
    "# Deep Learning Keras\n",
    "import tensorflow as tf\n",
    "from tensorflow import keras\n",
    "from tensorflow.keras.preprocessing.text import Tokenizer\n",
    "from tensorflow.keras.preprocessing.sequence import pad_sequences"
   ]
  },
  {
   "cell_type": "code",
   "execution_count": 2,
   "metadata": {},
   "outputs": [],
   "source": [
    "import sys\n",
    "module_path = os.path.abspath(os.path.join('..'))\n",
    "if module_path not in sys.path:\n",
    "    sys.path.append(module_path+\"\\\\src\\\\utils\")"
   ]
  },
  {
   "cell_type": "code",
   "execution_count": 3,
   "metadata": {},
   "outputs": [
    {
     "name": "stderr",
     "output_type": "stream",
     "text": [
      "[nltk_data] Downloading package stopwords to\n",
      "[nltk_data]     C:\\Users\\HP\\AppData\\Roaming\\nltk_data...\n",
      "[nltk_data]   Package stopwords is already up-to-date!\n"
     ]
    }
   ],
   "source": [
    "from custom_text_preprocessing import normalize_text"
   ]
  },
  {
   "cell_type": "code",
   "execution_count": 4,
   "metadata": {},
   "outputs": [],
   "source": [
    "from plotting import plot_cm, plot_loss, plot_metrics, plot_roc_dl"
   ]
  },
  {
   "cell_type": "code",
   "execution_count": 5,
   "metadata": {},
   "outputs": [],
   "source": [
    "# folder where input data and pickle data load present\n",
    "data_folder = '../data/dataLoad/'\n",
    "input_folder = '../data/raw/'"
   ]
  },
  {
   "cell_type": "markdown",
   "metadata": {},
   "source": [
    "##### Data Loading "
   ]
  },
  {
   "cell_type": "markdown",
   "metadata": {},
   "source": [
    "This module is about loading the amazon review dataset and filtering the product reviews less than 10 product reviews and removing some of the outliers and deriving the target variable having threshold as 0.5(standard one). "
   ]
  },
  {
   "cell_type": "code",
   "execution_count": 6,
   "metadata": {},
   "outputs": [],
   "source": [
    "# Loading the home and kitchen dataset which is downloaded in the /data path\n",
    "input_data = 'reviews_Home_and_Kitchen_5.json.gz'\n",
    "def parse(path):\n",
    "    g = gzip.open(path, 'rb')\n",
    "    for l in g:\n",
    "        yield eval(l)\n",
    "\n",
    "def getDF(path):\n",
    "    i = 0\n",
    "    df = {}\n",
    "    for d in parse(path):\n",
    "        df[i] = d\n",
    "        i +=1\n",
    "    return pd.DataFrame.from_dict(df, orient='index')\n",
    "\n",
    "data = getDF(input_folder + input_data)   \n",
    "\n",
    "# Data Preprocessing\n",
    "# Filter the products which has atleast 10 reviews\n",
    "groupby_product = data.groupby('asin').size()\n",
    "filter_reviews = data.groupby('asin').size().values >= 10\n",
    "filter_asins = groupby_product[filter_reviews].index\n",
    "data_filter = data.loc[data['asin'].isin(filter_asins), :]\n",
    "\n",
    "# Filter the reviews having more than 10 helpful reviews\n",
    "dataset = data_filter[data_filter['helpful'].apply(lambda x: x[1] > 10)]\n",
    "\n",
    "#Deriving the target variables from features\n",
    "dataset['helpful_ratings'] = dataset['helpful'].apply(lambda x: x[0])\n",
    "dataset['total_ratings'] = dataset['helpful'].apply(lambda x: x[1])\n",
    "\n",
    "# Droping some of the outliers\n",
    "dataset = dataset.drop(dataset.index[dataset.helpful_ratings == dataset.helpful_ratings.max()])\n",
    "dataset = dataset.drop(dataset.index[dataset.total_ratings > 1000])\n",
    "\n",
    "# This funcion will get the helpfulness rating based on certain threshold and total and helpful ratings count\n",
    "def getHelpfulness(input_dataset, threshold):\n",
    "    threshold=threshold\n",
    "    input_dataset.loc[:, 'isHelpful'] = np.where(input_dataset['helpful_ratings']/input_dataset['total_ratings'] > threshold, 1, 0)\n",
    "    \n",
    "    return input_dataset\n",
    "\n",
    "# Dataset with threshold 0.5\n",
    "dataset_threshold_05 = getHelpfulness(dataset, threshold=0.5)\n",
    "dataset_threshold_05 = dataset.drop(columns = ['helpful', 'helpful_ratings', 'total_ratings'], axis=1)\n",
    "dataset_threshold_05 = dataset_threshold_05.reset_index(drop=True)"
   ]
  },
  {
   "cell_type": "markdown",
   "metadata": {},
   "source": [
    "Dataset Description:\n",
    "\n",
    "\n",
    "As mentioned in the jmcauley site, belaw are the description of the fields:\n",
    "1. reviewerID - ID of the reviewer, e.g. A2SUAM1J3GNN3B\n",
    "2. asin - ID of the product, e.g. 0000013714\n",
    "3. reviewerName - name of the reviewer\n",
    "4. helpful - helpfulness rating of the review, e.g. 2/3.\n",
    "5. reviewText - text of the review\n",
    "6. overall - rating of the product\n",
    "7. summary - summary of the review\n",
    "8. unixReviewTime - time of the review (unix time)\n",
    "9. reviewTime - time of the review (raw)"
   ]
  },
  {
   "cell_type": "markdown",
   "metadata": {},
   "source": [
    "The approach to the problem, will be to normalize the review text and then and apply LSTM model. And in the course of training the model, we will employ different strategies to handle the skewness of the dataset.\n",
    "\n",
    "We are splitting the data to train, test and validation datset. We use validation dataset to optimize the training and then apply test dataset(unseen dataset) to trained mode to get the accuracy and precision."
   ]
  },
  {
   "cell_type": "markdown",
   "metadata": {},
   "source": [
    "##### Normalize the reviewText  and Train-Test split the dataset"
   ]
  },
  {
   "cell_type": "code",
   "execution_count": 7,
   "metadata": {},
   "outputs": [],
   "source": [
    "def get_normalize_text_data(dataset):\n",
    "    start = time.time()\n",
    "    dataset['normalize_review_text'] = dataset['reviewText'].apply(lambda x: normalize_text(x))\n",
    "    dataset = dataset.drop(columns=['reviewText'])\n",
    "    end = time.time()\n",
    "    \n",
    "    print('Total time to normalize the text data {:4f} seconds'.format(end - start))\n",
    "    return dataset"
   ]
  },
  {
   "cell_type": "code",
   "execution_count": 8,
   "metadata": {},
   "outputs": [
    {
     "name": "stdout",
     "output_type": "stream",
     "text": [
      "Total time to normalize the text data 21.871655 seconds\n"
     ]
    }
   ],
   "source": [
    "dataset_threshold_05 = get_normalize_text_data(dataset_threshold_05)"
   ]
  },
  {
   "cell_type": "code",
   "execution_count": 9,
   "metadata": {},
   "outputs": [],
   "source": [
    "X = dataset_threshold_05['normalize_review_text'].values\n",
    "y = dataset_threshold_05['isHelpful'].values\n",
    "\n",
    "# Split the data into train, test and validation set\n",
    "\n",
    "X_train, X_test, y_train, y_test = train_test_split(X, y, test_size=0.2, random_state=42, stratify=y)\n",
    "X_train, X_val, y_train, y_val = train_test_split(X_train, y_train, test_size=0.2, random_state=42, stratify=y_train)"
   ]
  },
  {
   "cell_type": "code",
   "execution_count": 10,
   "metadata": {},
   "outputs": [
    {
     "name": "stdout",
     "output_type": "stream",
     "text": [
      "Training labels shape: (17540,)\n",
      "Validation labels shape: (4386,)\n",
      "Test labels shape: (5482,)\n",
      "Training features shape: (17540,)\n",
      "Validation features shape: (4386,)\n",
      "Test features shape: (5482,)\n"
     ]
    }
   ],
   "source": [
    "print('Training labels shape:', y_train.shape)\n",
    "print('Validation labels shape:', y_val.shape)\n",
    "print('Test labels shape:', y_test.shape)\n",
    "\n",
    "print('Training features shape:', X_train.shape)\n",
    "print('Validation features shape:', X_val.shape)\n",
    "print('Test features shape:', X_test.shape)"
   ]
  },
  {
   "cell_type": "code",
   "execution_count": 11,
   "metadata": {},
   "outputs": [
    {
     "name": "stdout",
     "output_type": "stream",
     "text": [
      "Examples:\n",
      "    Total: 17540\n",
      "    Not Helpful: 1032 (5.88% of total)\n",
      "\n"
     ]
    }
   ],
   "source": [
    "# Look at the data distribution\n",
    "train_labels_df = pd.DataFrame(y_train, columns = ['isHelpful'])\n",
    "\n",
    "neg, pos = np.bincount(train_labels_df['isHelpful'])\n",
    "total = neg + pos\n",
    "print('Examples:\\n    Total: {}\\n    Not Helpful: {} ({:.2f}% of total)\\n'.format(\n",
    "    total, neg, 100 * neg / total))                      "
   ]
  },
  {
   "cell_type": "markdown",
   "metadata": {},
   "source": [
    "##### Defining the embedding for reviewText "
   ]
  },
  {
   "cell_type": "code",
   "execution_count": 12,
   "metadata": {},
   "outputs": [],
   "source": [
    "embedding_size = 200\n",
    "num_words = 10000\n",
    "max_tokens = 100"
   ]
  },
  {
   "cell_type": "code",
   "execution_count": 13,
   "metadata": {},
   "outputs": [
    {
     "name": "stdout",
     "output_type": "stream",
     "text": [
      "really quite bad cordless vacuumit almost suction write really tested turn floor mode put hand nozzle feel nearly nothing put white powder carpet freshner turn boss carpet mode see long takes remove white powder run another vacuum across areayou prove picks minimal amount powder mutliple passes required thatnot recommended\n",
      "[13, 152, 256, 1425, 169, 327, 1713, 13, 1319, 184, 181, 988, 33, 115, 1503, 182, 646, 277, 33, 313, 1577, 244, 184, 3470, 244, 988, 66, 65, 201, 247, 313, 1577, 276, 85, 35, 773, 3937, 2025, 1980, 242, 1577, 2557, 1034, 564]\n"
     ]
    }
   ],
   "source": [
    "tokenizer = Tokenizer(num_words=10000)\n",
    "tokenizer.fit_on_texts(X_train)\n",
    "\n",
    "X_train_features = tokenizer.texts_to_sequences(X_train)\n",
    "X_val_features = tokenizer.texts_to_sequences(X_val)\n",
    "X_test_features = tokenizer.texts_to_sequences(X_test)\n",
    "\n",
    "vocab_size = len(tokenizer.word_index) + 1\n",
    "print(X_train[2])\n",
    "print(X_train_features[2])"
   ]
  },
  {
   "cell_type": "code",
   "execution_count": 14,
   "metadata": {},
   "outputs": [
    {
     "data": {
      "text/plain": [
       "84453"
      ]
     },
     "execution_count": 14,
     "metadata": {},
     "output_type": "execute_result"
    }
   ],
   "source": [
    "len(tokenizer.word_index)"
   ]
  },
  {
   "cell_type": "code",
   "execution_count": 15,
   "metadata": {},
   "outputs": [
    {
     "name": "stdout",
     "output_type": "stream",
     "text": [
      "[ 383 2239 3212   19 1466  159  666  506  649  246  400  291    8  158\n",
      "  858   92  249 1109  249  128 2352  404 2909  461   55 1402  396  483\n",
      " 1721 2706  404 2370    9  128  134 9772  160  158  404  461 2221 1300\n",
      " 1970 1248   99 4543  160  275    7   28   27   55  461  198  820 4037\n",
      "  123  820  167    3  300   32  118  101   46    5    9 1091  291 7931\n",
      "   96 1529  567  160 1086 9297   48  412   64  560    6  309   55  613\n",
      " 1529  567 7932   69   14  369   26  103   12  214   50  299   76 1341\n",
      "  702   55]\n"
     ]
    }
   ],
   "source": [
    "X_train_features = pad_sequences(X_train_features, padding='post', maxlen=max_tokens)\n",
    "X_val_features = pad_sequences(X_val_features, padding='post', maxlen=max_tokens)\n",
    "X_test_features = pad_sequences(X_test_features, padding='post', maxlen=max_tokens)\n",
    "\n",
    "print(X_train_features[0, :])"
   ]
  },
  {
   "cell_type": "code",
   "execution_count": 16,
   "metadata": {},
   "outputs": [
    {
     "data": {
      "text/plain": [
       "(17540, 100)"
      ]
     },
     "execution_count": 16,
     "metadata": {},
     "output_type": "execute_result"
    }
   ],
   "source": [
    "X_train_features.shape"
   ]
  },
  {
   "cell_type": "markdown",
   "metadata": {},
   "source": [
    "##### Define the model and metrics "
   ]
  },
  {
   "cell_type": "code",
   "execution_count": 17,
   "metadata": {},
   "outputs": [],
   "source": [
    "METRICS = [\n",
    "      keras.metrics.TruePositives(name='tp'),\n",
    "      keras.metrics.FalsePositives(name='fp'),\n",
    "      keras.metrics.TrueNegatives(name='tn'),\n",
    "      keras.metrics.FalseNegatives(name='fn'), \n",
    "      keras.metrics.BinaryAccuracy(name='accuracy'),\n",
    "      keras.metrics.Precision(name='precision'),\n",
    "      keras.metrics.Recall(name='recall'),\n",
    "      keras.metrics.AUC(name='auc'),\n",
    "]\n",
    "\n",
    "#Create Model with all the param_grid as arguments\n",
    "def create_model(dropout_rate=0.2, activation='sigmoid', learning_rate=1e-3, metrics = METRICS, output_bias=None):\n",
    "    if output_bias is not None:\n",
    "        output_bias = tf.keras.initializers.Constant(output_bias)\n",
    "    else:\n",
    "        output_bias = tf.keras.initializers.Constant(value=0)\n",
    "    model = keras.models.Sequential([\n",
    "        keras.layers.Embedding(input_dim=num_words, output_dim=embedding_size,\n",
    "                            input_length=max_tokens, name='layer_embedding'),\n",
    "        keras.layers.LSTM(units=128, dropout=dropout_rate, return_sequences=True),\n",
    "        keras.layers.LSTM(units=64, dropout=dropout_rate, return_sequences=True),\n",
    "        keras.layers.LSTM(units=12, dropout=dropout_rate),\n",
    "        keras.layers.Dense(1, activation=activation,\n",
    "                            bias_initializer=output_bias)\n",
    "    ])\n",
    "    model.compile(\n",
    "        optimizer=keras.optimizers.Adam(lr=learning_rate),\n",
    "        loss=keras.losses.BinaryCrossentropy(),\n",
    "        metrics=metrics)\n",
    "    return model"
   ]
  },
  {
   "cell_type": "markdown",
   "metadata": {},
   "source": [
    "##### Baseline Model "
   ]
  },
  {
   "cell_type": "markdown",
   "metadata": {},
   "source": [
    "The model is fit using a larger than default batch size of 2048, this is important to ensure that each batch has a decent chance of containing a few positive samples. If the batch size was too small, they would likely have no not helpful reviews to learn from."
   ]
  },
  {
   "cell_type": "code",
   "execution_count": 18,
   "metadata": {},
   "outputs": [],
   "source": [
    "# Build the model\n",
    "EPOCHS= 20\n",
    "BATCH_SIZE = 1000\n",
    "\n",
    "early_stopping = keras.callbacks.EarlyStopping(\n",
    "    monitor='val_auc', \n",
    "    verbose=1,\n",
    "    patience=10,\n",
    "    mode='max',\n",
    "    restore_best_weights=True)"
   ]
  },
  {
   "cell_type": "code",
   "execution_count": 19,
   "metadata": {},
   "outputs": [
    {
     "name": "stdout",
     "output_type": "stream",
     "text": [
      "Model: \"sequential\"\n",
      "_________________________________________________________________\n",
      "Layer (type)                 Output Shape              Param #   \n",
      "=================================================================\n",
      "layer_embedding (Embedding)  (None, 100, 200)          2000000   \n",
      "_________________________________________________________________\n",
      "lstm (LSTM)                  (None, 100, 128)          168448    \n",
      "_________________________________________________________________\n",
      "lstm_1 (LSTM)                (None, 100, 64)           49408     \n",
      "_________________________________________________________________\n",
      "lstm_2 (LSTM)                (None, 12)                3696      \n",
      "_________________________________________________________________\n",
      "dense (Dense)                (None, 1)                 13        \n",
      "=================================================================\n",
      "Total params: 2,221,565\n",
      "Trainable params: 2,221,565\n",
      "Non-trainable params: 0\n",
      "_________________________________________________________________\n"
     ]
    }
   ],
   "source": [
    "# Without setting any initial bias\n",
    "model = create_model()\n",
    "model.summary()"
   ]
  },
  {
   "cell_type": "code",
   "execution_count": 20,
   "metadata": {},
   "outputs": [
    {
     "name": "stdout",
     "output_type": "stream",
     "text": [
      "Loss: 0.7002\n"
     ]
    }
   ],
   "source": [
    "results = model.evaluate(X_train_features, y_train, batch_size=BATCH_SIZE, verbose=0)\n",
    "print(\"Loss: {:0.4f}\".format(results[0]))"
   ]
  },
  {
   "cell_type": "markdown",
   "metadata": {},
   "source": [
    "##### Set the correct initial bias "
   ]
  },
  {
   "cell_type": "markdown",
   "metadata": {},
   "source": [
    "As we know that out dataset is imbalanced, setting an putput layer bias can help with initial convergence.\n",
    "\n",
    "The correct bias to set can be derived from:\n",
    "\n",
    "                        p0 = pos/(pos + neg) = 1/(1 + e^-b0)\n",
    "                        b0 = -loge(1/p0 -1 )\n",
    "                        b0 = loge(pos/neg)    "
   ]
  },
  {
   "cell_type": "code",
   "execution_count": 21,
   "metadata": {},
   "outputs": [
    {
     "data": {
      "text/plain": [
       "array([-2.77234644])"
      ]
     },
     "execution_count": 21,
     "metadata": {},
     "output_type": "execute_result"
    }
   ],
   "source": [
    "initial_bias = np.log([neg/pos])\n",
    "initial_bias"
   ]
  },
  {
   "cell_type": "code",
   "execution_count": 22,
   "metadata": {},
   "outputs": [
    {
     "name": "stdout",
     "output_type": "stream",
     "text": [
      "Model: \"sequential_1\"\n",
      "_________________________________________________________________\n",
      "Layer (type)                 Output Shape              Param #   \n",
      "=================================================================\n",
      "layer_embedding (Embedding)  (None, 100, 200)          2000000   \n",
      "_________________________________________________________________\n",
      "lstm_3 (LSTM)                (None, 100, 128)          168448    \n",
      "_________________________________________________________________\n",
      "lstm_4 (LSTM)                (None, 100, 64)           49408     \n",
      "_________________________________________________________________\n",
      "lstm_5 (LSTM)                (None, 12)                3696      \n",
      "_________________________________________________________________\n",
      "dense_1 (Dense)              (None, 1)                 13        \n",
      "=================================================================\n",
      "Total params: 2,221,565\n",
      "Trainable params: 2,221,565\n",
      "Non-trainable params: 0\n",
      "_________________________________________________________________\n"
     ]
    }
   ],
   "source": [
    "model = create_model(output_bias=initial_bias)\n",
    "model.summary()"
   ]
  },
  {
   "cell_type": "code",
   "execution_count": 23,
   "metadata": {},
   "outputs": [
    {
     "name": "stdout",
     "output_type": "stream",
     "text": [
      "Loss: 2.6588\n"
     ]
    }
   ],
   "source": [
    "results = model.evaluate(X_train_features, y_train, batch_size=BATCH_SIZE, verbose=0)\n",
    "print(\"Loss: {:0.4f}\".format(results[0]))"
   ]
  },
  {
   "cell_type": "markdown",
   "metadata": {},
   "source": [
    "After setting the initial bias, it increased the lose to about 150%. But still we will just checkout and experiment on how the initial bias looks like. It increase in loss might be also the case of very less negative cases in the dataset."
   ]
  },
  {
   "cell_type": "markdown",
   "metadata": {},
   "source": [
    "##### Checkpoint the initial weights "
   ]
  },
  {
   "cell_type": "markdown",
   "metadata": {},
   "source": [
    "To make the various training runs more comparable, keep this initial model's weights in a checkpoint file, and load them into each model before training"
   ]
  },
  {
   "cell_type": "code",
   "execution_count": 24,
   "metadata": {},
   "outputs": [],
   "source": [
    "initial_weights = os.path.join(tempfile.mkdtemp(),'initial_weights')\n",
    "model.save_weights(initial_weights)"
   ]
  },
  {
   "cell_type": "markdown",
   "metadata": {},
   "source": [
    "###### Confirm that bias fix helps "
   ]
  },
  {
   "cell_type": "code",
   "execution_count": 26,
   "metadata": {},
   "outputs": [],
   "source": [
    "model = create_model()\n",
    "model.load_weights(initial_weights)\n",
    "model.layers[-1].bias.assign([0.0])\n",
    "zero_bias_history = model.fit(X_train_features,\n",
    "    y_train,\n",
    "    batch_size=BATCH_SIZE,\n",
    "    epochs=EPOCHS,\n",
    "    validation_data=(X_val_features, y_val), \n",
    "    verbose=0)"
   ]
  },
  {
   "cell_type": "code",
   "execution_count": 27,
   "metadata": {},
   "outputs": [],
   "source": [
    "model = make_model()\n",
    "model.load_weights(initial_weights)\n",
    "careful_bias_history = model.fit(\n",
    "    X_train_features,\n",
    "    y_train,\n",
    "    batch_size=BATCH_SIZE,\n",
    "    epochs=EPOCHS,\n",
    "    validation_data=(X_val_features, y_val), \n",
    "    verbose=0)"
   ]
  },
  {
   "cell_type": "code",
   "execution_count": 28,
   "metadata": {},
   "outputs": [],
   "source": [
    "def plot_loss(history, label, n):\n",
    "    # Use a log scale to show the wide range of values.\n",
    "    plt.semilogy(history.epoch,  history.history['loss'],\n",
    "               color=colors[n], label='Train '+label)\n",
    "    plt.semilogy(history.epoch,  history.history['val_loss'],\n",
    "          color=colors[n], label='Val '+label,\n",
    "          linestyle=\"--\")\n",
    "    plt.xlabel('Epoch')\n",
    "    plt.ylabel('Loss')\n",
    "    \n",
    "    plt.legend()"
   ]
  },
  {
   "cell_type": "code",
   "execution_count": 29,
   "metadata": {},
   "outputs": [
    {
     "data": {
      "image/png": "[encoded data removed]",
      "text/plain": [
       "<Figure size 432x288 with 1 Axes>"
      ]
     },
     "metadata": {},
     "output_type": "display_data"
    }
   ],
   "source": [
    "plot_loss(zero_bias_history, \"Zero Bias\", 0)\n",
    "plot_loss(careful_bias_history, \"Careful Bias\", 1)"
   ]
  },
  {
   "cell_type": "code",
   "execution_count": 30,
   "metadata": {},
   "outputs": [
    {
     "name": "stdout",
     "output_type": "stream",
     "text": [
      "Train on 17540 samples, validate on 4386 samples\n",
      "Epoch 1/20\n",
      "17540/17540 [==============================] - 114s 7ms/sample - loss: 0.3385 - tp: 16332.0000 - fp: 1027.0000 - tn: 5.0000 - fn: 176.0000 - accuracy: 0.9314 - precision: 0.9408 - recall: 0.9893 - auc: 0.4962 - val_loss: 0.2256 - val_tp: 4128.0000 - val_fp: 258.0000 - val_tn: 0.0000e+00 - val_fn: 0.0000e+00 - val_accuracy: 0.9412 - val_precision: 0.9412 - val_recall: 1.0000 - val_auc: 0.5000\n",
      "Epoch 2/20\n",
      "17540/17540 [==============================] - 104s 6ms/sample - loss: 0.2242 - tp: 16508.0000 - fp: 1032.0000 - tn: 0.0000e+00 - fn: 0.0000e+00 - accuracy: 0.9412 - precision: 0.9412 - recall: 1.0000 - auc: 0.5109 - val_loss: 0.2237 - val_tp: 4128.0000 - val_fp: 258.0000 - val_tn: 0.0000e+00 - val_fn: 0.0000e+00 - val_accuracy: 0.9412 - val_precision: 0.9412 - val_recall: 1.0000 - val_auc: 0.5000\n",
      "Epoch 3/20\n",
      "17540/17540 [==============================] - 103s 6ms/sample - loss: 0.2239 - tp: 16508.0000 - fp: 1032.0000 - tn: 0.0000e+00 - fn: 0.0000e+00 - accuracy: 0.9412 - precision: 0.9412 - recall: 1.0000 - auc: 0.5085 - val_loss: 0.2238 - val_tp: 4128.0000 - val_fp: 258.0000 - val_tn: 0.0000e+00 - val_fn: 0.0000e+00 - val_accuracy: 0.9412 - val_precision: 0.9412 - val_recall: 1.0000 - val_auc: 0.5000\n",
      "Epoch 4/20\n",
      "17540/17540 [==============================] - 104s 6ms/sample - loss: 0.2240 - tp: 16508.0000 - fp: 1032.0000 - tn: 0.0000e+00 - fn: 0.0000e+00 - accuracy: 0.9412 - precision: 0.9412 - recall: 1.0000 - auc: 0.5000 - val_loss: 0.2236 - val_tp: 4128.0000 - val_fp: 258.0000 - val_tn: 0.0000e+00 - val_fn: 0.0000e+00 - val_accuracy: 0.9412 - val_precision: 0.9412 - val_recall: 1.0000 - val_auc: 0.5000\n",
      "Epoch 5/20\n",
      "17540/17540 [==============================] - 104s 6ms/sample - loss: 0.2239 - tp: 16508.0000 - fp: 1032.0000 - tn: 0.0000e+00 - fn: 0.0000e+00 - accuracy: 0.9412 - precision: 0.9412 - recall: 1.0000 - auc: 0.5088 - val_loss: 0.2234 - val_tp: 4128.0000 - val_fp: 258.0000 - val_tn: 0.0000e+00 - val_fn: 0.0000e+00 - val_accuracy: 0.9412 - val_precision: 0.9412 - val_recall: 1.0000 - val_auc: 0.5000\n",
      "Epoch 6/20\n",
      "17540/17540 [==============================] - 104s 6ms/sample - loss: 0.2239 - tp: 16508.0000 - fp: 1032.0000 - tn: 0.0000e+00 - fn: 0.0000e+00 - accuracy: 0.9412 - precision: 0.9412 - recall: 1.0000 - auc: 0.5134 - val_loss: 0.2245 - val_tp: 4128.0000 - val_fp: 258.0000 - val_tn: 0.0000e+00 - val_fn: 0.0000e+00 - val_accuracy: 0.9412 - val_precision: 0.9412 - val_recall: 1.0000 - val_auc: 0.5000\n",
      "Epoch 7/20\n",
      "17540/17540 [==============================] - 104s 6ms/sample - loss: 0.2239 - tp: 16508.0000 - fp: 1032.0000 - tn: 0.0000e+00 - fn: 0.0000e+00 - accuracy: 0.9412 - precision: 0.9412 - recall: 1.0000 - auc: 0.5104 - val_loss: 0.2236 - val_tp: 4128.0000 - val_fp: 258.0000 - val_tn: 0.0000e+00 - val_fn: 0.0000e+00 - val_accuracy: 0.9412 - val_precision: 0.9412 - val_recall: 1.0000 - val_auc: 0.6215\n",
      "Epoch 8/20\n",
      "17540/17540 [==============================] - 105s 6ms/sample - loss: 0.2238 - tp: 16508.0000 - fp: 1032.0000 - tn: 0.0000e+00 - fn: 0.0000e+00 - accuracy: 0.9412 - precision: 0.9412 - recall: 1.0000 - auc: 0.5120 - val_loss: 0.2230 - val_tp: 4128.0000 - val_fp: 258.0000 - val_tn: 0.0000e+00 - val_fn: 0.0000e+00 - val_accuracy: 0.9412 - val_precision: 0.9412 - val_recall: 1.0000 - val_auc: 0.6375\n",
      "Epoch 9/20\n",
      "17540/17540 [==============================] - 105s 6ms/sample - loss: 0.2235 - tp: 16508.0000 - fp: 1032.0000 - tn: 0.0000e+00 - fn: 0.0000e+00 - accuracy: 0.9412 - precision: 0.9412 - recall: 1.0000 - auc: 0.5313 - val_loss: 0.2233 - val_tp: 4128.0000 - val_fp: 258.0000 - val_tn: 0.0000e+00 - val_fn: 0.0000e+00 - val_accuracy: 0.9412 - val_precision: 0.9412 - val_recall: 1.0000 - val_auc: 0.6229\n",
      "Epoch 10/20\n",
      "17540/17540 [==============================] - 105s 6ms/sample - loss: 0.2236 - tp: 16508.0000 - fp: 1032.0000 - tn: 0.0000e+00 - fn: 0.0000e+00 - accuracy: 0.9412 - precision: 0.9412 - recall: 1.0000 - auc: 0.5276 - val_loss: 0.2231 - val_tp: 4128.0000 - val_fp: 258.0000 - val_tn: 0.0000e+00 - val_fn: 0.0000e+00 - val_accuracy: 0.9412 - val_precision: 0.9412 - val_recall: 1.0000 - val_auc: 0.6294\n",
      "Epoch 11/20\n",
      "17540/17540 [==============================] - 106s 6ms/sample - loss: 0.2224 - tp: 16508.0000 - fp: 1032.0000 - tn: 0.0000e+00 - fn: 0.0000e+00 - accuracy: 0.9412 - precision: 0.9412 - recall: 1.0000 - auc: 0.5720 - val_loss: 0.2188 - val_tp: 4128.0000 - val_fp: 258.0000 - val_tn: 0.0000e+00 - val_fn: 0.0000e+00 - val_accuracy: 0.9412 - val_precision: 0.9412 - val_recall: 1.0000 - val_auc: 0.7064\n",
      "Epoch 12/20\n",
      "17540/17540 [==============================] - 106s 6ms/sample - loss: 0.2173 - tp: 16508.0000 - fp: 1032.0000 - tn: 0.0000e+00 - fn: 0.0000e+00 - accuracy: 0.9412 - precision: 0.9412 - recall: 1.0000 - auc: 0.6618 - val_loss: 0.2146 - val_tp: 4128.0000 - val_fp: 258.0000 - val_tn: 0.0000e+00 - val_fn: 0.0000e+00 - val_accuracy: 0.9412 - val_precision: 0.9412 - val_recall: 1.0000 - val_auc: 0.6943\n",
      "Epoch 13/20\n",
      "17540/17540 [==============================] - 108s 6ms/sample - loss: 0.2124 - tp: 16508.0000 - fp: 1032.0000 - tn: 0.0000e+00 - fn: 0.0000e+00 - accuracy: 0.9412 - precision: 0.9412 - recall: 1.0000 - auc: 0.6807 - val_loss: 0.2171 - val_tp: 4128.0000 - val_fp: 258.0000 - val_tn: 0.0000e+00 - val_fn: 0.0000e+00 - val_accuracy: 0.9412 - val_precision: 0.9412 - val_recall: 1.0000 - val_auc: 0.6815\n",
      "Epoch 14/20\n",
      "17540/17540 [==============================] - 107s 6ms/sample - loss: 0.2100 - tp: 16508.0000 - fp: 1032.0000 - tn: 0.0000e+00 - fn: 0.0000e+00 - accuracy: 0.9412 - precision: 0.9412 - recall: 1.0000 - auc: 0.6972 - val_loss: 0.2086 - val_tp: 4128.0000 - val_fp: 258.0000 - val_tn: 0.0000e+00 - val_fn: 0.0000e+00 - val_accuracy: 0.9412 - val_precision: 0.9412 - val_recall: 1.0000 - val_auc: 0.7152\n",
      "Epoch 15/20\n",
      "17540/17540 [==============================] - 106s 6ms/sample - loss: 0.2089 - tp: 16508.0000 - fp: 1032.0000 - tn: 0.0000e+00 - fn: 0.0000e+00 - accuracy: 0.9412 - precision: 0.9412 - recall: 1.0000 - auc: 0.6993 - val_loss: 0.2240 - val_tp: 4128.0000 - val_fp: 258.0000 - val_tn: 0.0000e+00 - val_fn: 0.0000e+00 - val_accuracy: 0.9412 - val_precision: 0.9412 - val_recall: 1.0000 - val_auc: 0.7283\n",
      "Epoch 16/20\n",
      "17540/17540 [==============================] - 107s 6ms/sample - loss: 0.2055 - tp: 16508.0000 - fp: 1032.0000 - tn: 0.0000e+00 - fn: 0.0000e+00 - accuracy: 0.9412 - precision: 0.9412 - recall: 1.0000 - auc: 0.7293 - val_loss: 0.2032 - val_tp: 4128.0000 - val_fp: 258.0000 - val_tn: 0.0000e+00 - val_fn: 0.0000e+00 - val_accuracy: 0.9412 - val_precision: 0.9412 - val_recall: 1.0000 - val_auc: 0.7430\n",
      "Epoch 17/20\n",
      "17540/17540 [==============================] - 106s 6ms/sample - loss: 0.1913 - tp: 16499.0000 - fp: 1031.0000 - tn: 1.0000 - fn: 9.0000 - accuracy: 0.9407 - precision: 0.9412 - recall: 0.9995 - auc: 0.7863 - val_loss: 0.1998 - val_tp: 4123.0000 - val_fp: 258.0000 - val_tn: 0.0000e+00 - val_fn: 5.0000 - val_accuracy: 0.9400 - val_precision: 0.9411 - val_recall: 0.9988 - val_auc: 0.7524\n",
      "Epoch 18/20\n",
      "17540/17540 [==============================] - 107s 6ms/sample - loss: 0.1675 - tp: 16489.0000 - fp: 1032.0000 - tn: 0.0000e+00 - fn: 19.0000 - accuracy: 0.9401 - precision: 0.9411 - recall: 0.9988 - auc: 0.8378 - val_loss: 0.1920 - val_tp: 4128.0000 - val_fp: 258.0000 - val_tn: 0.0000e+00 - val_fn: 0.0000e+00 - val_accuracy: 0.9412 - val_precision: 0.9412 - val_recall: 1.0000 - val_auc: 0.7791\n",
      "Epoch 19/20\n",
      "17540/17540 [==============================] - 107s 6ms/sample - loss: 0.1554 - tp: 16177.0000 - fp: 806.0000 - tn: 226.0000 - fn: 331.0000 - accuracy: 0.9352 - precision: 0.9525 - recall: 0.9799 - auc: 0.8610 - val_loss: 0.2186 - val_tp: 4039.0000 - val_fp: 218.0000 - val_tn: 40.0000 - val_fn: 89.0000 - val_accuracy: 0.9300 - val_precision: 0.9488 - val_recall: 0.9784 - val_auc: 0.7495\n",
      "Epoch 20/20\n",
      "17540/17540 [==============================] - 106s 6ms/sample - loss: 0.1269 - tp: 16155.0000 - fp: 440.0000 - tn: 592.0000 - fn: 353.0000 - accuracy: 0.9548 - precision: 0.9735 - recall: 0.9786 - auc: 0.8827 - val_loss: 0.2252 - val_tp: 4024.0000 - val_fp: 206.0000 - val_tn: 52.0000 - val_fn: 104.0000 - val_accuracy: 0.9293 - val_precision: 0.9513 - val_recall: 0.9748 - val_auc: 0.7343\n"
     ]
    }
   ],
   "source": [
    "model = create_model()\n",
    "model.load_weights(initial_weights)\n",
    "model.layers[-1].bias.assign([0.0])\n",
    "baseline_history = model.fit(\n",
    "    X_train_features,\n",
    "    y_train,\n",
    "    batch_size=BATCH_SIZE,\n",
    "    epochs=EPOCHS,\n",
    "    callbacks = [early_stopping],\n",
    "    validation_data=(X_val_features, y_val))"
   ]
  },
  {
   "cell_type": "code",
   "execution_count": 31,
   "metadata": {},
   "outputs": [],
   "source": [
    "train_predictions_baseline = model.predict(X_train_features, batch_size=BATCH_SIZE)\n",
    "test_predictions_baseline = model.predict(X_test_features, batch_size=BATCH_SIZE)"
   ]
  },
  {
   "cell_type": "code",
   "execution_count": 32,
   "metadata": {},
   "outputs": [
    {
     "name": "stdout",
     "output_type": "stream",
     "text": [
      "loss :  0.2308316201254296\n",
      "tp :  5006.0\n",
      "fp :  253.0\n",
      "tn :  70.0\n",
      "fn :  153.0\n",
      "accuracy :  0.92593944\n",
      "precision :  0.951892\n",
      "recall :  0.9703431\n",
      "auc :  0.7133858\n",
      "\n",
      "Not Helpful reviews Detected (True Negatives):  70\n",
      "Not Helpful reviews Incorrectly Detected (False Positives):  253\n",
      "Helpful Reviews Missed (False Negatives):  153\n",
      "Helpful Reviews Detected (True Positives):  5006\n",
      "Total Helpful Reviews:  5159\n"
     ]
    },
    {
     "data": {
      "image/png": "[encoded data removed]",
      "text/plain": [
       "<Figure size 360x360 with 2 Axes>"
      ]
     },
     "metadata": {},
     "output_type": "display_data"
    }
   ],
   "source": [
    "# Display confusion matrix and classification report\n",
    "baseline_results = model.evaluate(X_test_features, y_test,\n",
    "                                  batch_size=BATCH_SIZE, verbose=0)\n",
    "for name, value in zip(model.metrics_names, baseline_results):\n",
    "    print(name, ': ', value)\n",
    "print()\n",
    "\n",
    "plot_cm(y_test, test_predictions_baseline)"
   ]
  },
  {
   "cell_type": "code",
   "execution_count": 33,
   "metadata": {},
   "outputs": [
    {
     "name": "stdout",
     "output_type": "stream",
     "text": [
      "Train on 17540 samples, validate on 4386 samples\n",
      "Epoch 1/20\n",
      "17540/17540 [==============================] - 118s 7ms/sample - loss: 1.2527 - tp: 6327.0000 - fp: 393.0000 - tn: 639.0000 - fn: 10181.0000 - accuracy: 0.3971 - precision: 0.9415 - recall: 0.3833 - auc: 0.4811 - val_loss: 0.3441 - val_tp: 4128.0000 - val_fp: 258.0000 - val_tn: 0.0000e+00 - val_fn: 0.0000e+00 - val_accuracy: 0.9412 - val_precision: 0.9412 - val_recall: 1.0000 - val_auc: 0.5000\n",
      "Epoch 2/20\n",
      "17540/17540 [==============================] - 104s 6ms/sample - loss: 0.2778 - tp: 16508.0000 - fp: 1032.0000 - tn: 0.0000e+00 - fn: 0.0000e+00 - accuracy: 0.9412 - precision: 0.9412 - recall: 1.0000 - auc: 0.5096 - val_loss: 0.2407 - val_tp: 4128.0000 - val_fp: 258.0000 - val_tn: 0.0000e+00 - val_fn: 0.0000e+00 - val_accuracy: 0.9412 - val_precision: 0.9412 - val_recall: 1.0000 - val_auc: 0.5000\n",
      "Epoch 3/20\n",
      "17540/17540 [==============================] - 105s 6ms/sample - loss: 0.2362 - tp: 16508.0000 - fp: 1032.0000 - tn: 0.0000e+00 - fn: 0.0000e+00 - accuracy: 0.9412 - precision: 0.9412 - recall: 1.0000 - auc: 0.4904 - val_loss: 0.2299 - val_tp: 4128.0000 - val_fp: 258.0000 - val_tn: 0.0000e+00 - val_fn: 0.0000e+00 - val_accuracy: 0.9412 - val_precision: 0.9412 - val_recall: 1.0000 - val_auc: 0.5000\n",
      "Epoch 4/20\n",
      "17540/17540 [==============================] - 108s 6ms/sample - loss: 0.2291 - tp: 16508.0000 - fp: 1032.0000 - tn: 0.0000e+00 - fn: 0.0000e+00 - accuracy: 0.9412 - precision: 0.9412 - recall: 1.0000 - auc: 0.4929 - val_loss: 0.2267 - val_tp: 4128.0000 - val_fp: 258.0000 - val_tn: 0.0000e+00 - val_fn: 0.0000e+00 - val_accuracy: 0.9412 - val_precision: 0.9412 - val_recall: 1.0000 - val_auc: 0.5000\n",
      "Epoch 5/20\n",
      "17540/17540 [==============================] - 108s 6ms/sample - loss: 0.2265 - tp: 16508.0000 - fp: 1032.0000 - tn: 0.0000e+00 - fn: 0.0000e+00 - accuracy: 0.9412 - precision: 0.9412 - recall: 1.0000 - auc: 0.4900 - val_loss: 0.2252 - val_tp: 4128.0000 - val_fp: 258.0000 - val_tn: 0.0000e+00 - val_fn: 0.0000e+00 - val_accuracy: 0.9412 - val_precision: 0.9412 - val_recall: 1.0000 - val_auc: 0.5000\n",
      "Epoch 6/20\n",
      "17540/17540 [==============================] - 106s 6ms/sample - loss: 0.2249 - tp: 16508.0000 - fp: 1032.0000 - tn: 0.0000e+00 - fn: 0.0000e+00 - accuracy: 0.9412 - precision: 0.9412 - recall: 1.0000 - auc: 0.5252 - val_loss: 0.2244 - val_tp: 4128.0000 - val_fp: 258.0000 - val_tn: 0.0000e+00 - val_fn: 0.0000e+00 - val_accuracy: 0.9412 - val_precision: 0.9412 - val_recall: 1.0000 - val_auc: 0.5000\n",
      "Epoch 7/20\n",
      "17540/17540 [==============================] - 107s 6ms/sample - loss: 0.2245 - tp: 16508.0000 - fp: 1032.0000 - tn: 0.0000e+00 - fn: 0.0000e+00 - accuracy: 0.9412 - precision: 0.9412 - recall: 1.0000 - auc: 0.5041 - val_loss: 0.2240 - val_tp: 4128.0000 - val_fp: 258.0000 - val_tn: 0.0000e+00 - val_fn: 0.0000e+00 - val_accuracy: 0.9412 - val_precision: 0.9412 - val_recall: 1.0000 - val_auc: 0.5000\n",
      "Epoch 8/20\n",
      "17540/17540 [==============================] - 107s 6ms/sample - loss: 0.2240 - tp: 16508.0000 - fp: 1032.0000 - tn: 0.0000e+00 - fn: 0.0000e+00 - accuracy: 0.9412 - precision: 0.9412 - recall: 1.0000 - auc: 0.5026 - val_loss: 0.2238 - val_tp: 4128.0000 - val_fp: 258.0000 - val_tn: 0.0000e+00 - val_fn: 0.0000e+00 - val_accuracy: 0.9412 - val_precision: 0.9412 - val_recall: 1.0000 - val_auc: 0.5000\n",
      "Epoch 9/20\n",
      "17540/17540 [==============================] - 109s 6ms/sample - loss: 0.2239 - tp: 16508.0000 - fp: 1032.0000 - tn: 0.0000e+00 - fn: 0.0000e+00 - accuracy: 0.9412 - precision: 0.9412 - recall: 1.0000 - auc: 0.5022 - val_loss: 0.2237 - val_tp: 4128.0000 - val_fp: 258.0000 - val_tn: 0.0000e+00 - val_fn: 0.0000e+00 - val_accuracy: 0.9412 - val_precision: 0.9412 - val_recall: 1.0000 - val_auc: 0.5000\n",
      "Epoch 10/20\n",
      "17540/17540 [==============================] - 107s 6ms/sample - loss: 0.2238 - tp: 16508.0000 - fp: 1032.0000 - tn: 0.0000e+00 - fn: 0.0000e+00 - accuracy: 0.9412 - precision: 0.9412 - recall: 1.0000 - auc: 0.5117 - val_loss: 0.2237 - val_tp: 4128.0000 - val_fp: 258.0000 - val_tn: 0.0000e+00 - val_fn: 0.0000e+00 - val_accuracy: 0.9412 - val_precision: 0.9412 - val_recall: 1.0000 - val_auc: 0.5000\n",
      "Epoch 11/20\n",
      "17000/17540 [============================>.] - ETA: 3s - loss: 0.2241 - tp: 15998.0000 - fp: 1002.0000 - tn: 0.0000e+00 - fn: 0.0000e+00 - accuracy: 0.9411 - precision: 0.9411 - recall: 1.0000 - auc: 0.5012Restoring model weights from the end of the best epoch.\n",
      "17540/17540 [==============================] - 105s 6ms/sample - loss: 0.2238 - tp: 16508.0000 - fp: 1032.0000 - tn: 0.0000e+00 - fn: 0.0000e+00 - accuracy: 0.9412 - precision: 0.9412 - recall: 1.0000 - auc: 0.5010 - val_loss: 0.2237 - val_tp: 4128.0000 - val_fp: 258.0000 - val_tn: 0.0000e+00 - val_fn: 0.0000e+00 - val_accuracy: 0.9412 - val_precision: 0.9412 - val_recall: 1.0000 - val_auc: 0.5000\n",
      "Epoch 00011: early stopping\n"
     ]
    }
   ],
   "source": [
    "# train the model with early stopping \n",
    "model_bias = create_model()\n",
    "model_bias.load_weights(initial_weights)\n",
    "baseline_history = model_bias.fit(\n",
    "    X_train_features,\n",
    "    y_train,\n",
    "    batch_size=BATCH_SIZE,\n",
    "    epochs=EPOCHS,\n",
    "    callbacks = [early_stopping],\n",
    "    validation_data=(X_val_features, y_val))"
   ]
  },
  {
   "cell_type": "code",
   "execution_count": 34,
   "metadata": {},
   "outputs": [],
   "source": [
    "# Evaluate metrics\n",
    "train_predictions_bias = model_bias.predict(X_train_features, batch_size=BATCH_SIZE)\n",
    "test_predictions_bias = model_bias.predict(X_test_features, batch_size=BATCH_SIZE)"
   ]
  },
  {
   "cell_type": "code",
   "execution_count": 35,
   "metadata": {},
   "outputs": [
    {
     "name": "stdout",
     "output_type": "stream",
     "text": [
      "loss :  0.34420796502510675\n",
      "tp :  5159.0\n",
      "fp :  323.0\n",
      "tn :  0.0\n",
      "fn :  0.0\n",
      "accuracy :  0.9410799\n",
      "precision :  0.9410799\n",
      "recall :  1.0\n",
      "auc :  0.5\n",
      "\n",
      "Not Helpful reviews Detected (True Negatives):  0\n",
      "Not Helpful reviews Incorrectly Detected (False Positives):  323\n",
      "Helpful Reviews Missed (False Negatives):  0\n",
      "Helpful Reviews Detected (True Positives):  5159\n",
      "Total Helpful Reviews:  5159\n"
     ]
    },
    {
     "data": {
      "image/png": "[encoded data removed]",
      "text/plain": [
       "<Figure size 360x360 with 2 Axes>"
      ]
     },
     "metadata": {},
     "output_type": "display_data"
    }
   ],
   "source": [
    "# Display confusion matrix and classification report\n",
    "baseline_results_bias = model_bias.evaluate(X_test_features, y_test,\n",
    "                                  batch_size=BATCH_SIZE, verbose=0)\n",
    "for name, value in zip(model_bias.metrics_names, baseline_results_bias):\n",
    "    print(name, ': ', value)\n",
    "print()\n",
    "\n",
    "plot_cm(y_test, test_predictions_bias)"
   ]
  },
  {
   "cell_type": "markdown",
   "metadata": {},
   "source": [
    "As per the above confusion matrix and classification report, it is very clear that initial bias dodnt help much as we still as its still not clearly able to predict the not helpful reviews. The fact might be because of imbalance dataset having huge number of helpful reviews"
   ]
  },
  {
   "cell_type": "markdown",
   "metadata": {},
   "source": [
    "Next, we will try to handle the imbalance dataset using the class weights concept in tensorflow"
   ]
  },
  {
   "cell_type": "markdown",
   "metadata": {},
   "source": [
    "###### Training  model with class weights "
   ]
  },
  {
   "cell_type": "code",
   "execution_count": 36,
   "metadata": {},
   "outputs": [
    {
     "name": "stdout",
     "output_type": "stream",
     "text": [
      "Weight for class 0: 8.50\n",
      "Weight for class 1: 0.53\n"
     ]
    }
   ],
   "source": [
    "# Scaling by total/2 helps keep the loss to a similar magnitude.\n",
    "# The sum of the weights of all examples stays the same.\n",
    "weight_for_0 = (1 / neg)*(total)/2.0 \n",
    "weight_for_1 = (1 / pos)*(total)/2.0\n",
    "\n",
    "class_weight = {0: weight_for_0, 1: weight_for_1}\n",
    "\n",
    "print('Weight for class 0: {:.2f}'.format(weight_for_0))\n",
    "print('Weight for class 1: {:.2f}'.format(weight_for_1))"
   ]
  },
  {
   "cell_type": "code",
   "execution_count": 37,
   "metadata": {},
   "outputs": [
    {
     "name": "stdout",
     "output_type": "stream",
     "text": [
      "Train on 17540 samples, validate on 4386 samples\n",
      "Epoch 1/20\n",
      "17540/17540 [==============================] - 117s 7ms/sample - loss: 0.9079 - tp: 4893.0000 - fp: 288.0000 - tn: 744.0000 - fn: 11615.0000 - accuracy: 0.3214 - precision: 0.9444 - recall: 0.2964 - auc: 0.5008 - val_loss: 0.7028 - val_tp: 4128.0000 - val_fp: 258.0000 - val_tn: 0.0000e+00 - val_fn: 0.0000e+00 - val_accuracy: 0.9412 - val_precision: 0.9412 - val_recall: 1.0000 - val_auc: 0.5000\n",
      "Epoch 2/20\n",
      "17540/17540 [==============================] - 107s 6ms/sample - loss: 0.6962 - tp: 7716.0000 - fp: 484.0000 - tn: 548.0000 - fn: 8792.0000 - accuracy: 0.4712 - precision: 0.9410 - recall: 0.4674 - auc: 0.4991 - val_loss: 0.6927 - val_tp: 0.0000e+00 - val_fp: 0.0000e+00 - val_tn: 258.0000 - val_fn: 4128.0000 - val_accuracy: 0.0588 - val_precision: 0.0000e+00 - val_recall: 0.0000e+00 - val_auc: 0.5000\n",
      "Epoch 3/20\n",
      "17540/17540 [==============================] - 108s 6ms/sample - loss: 0.6926 - tp: 9504.0000 - fp: 567.0000 - tn: 465.0000 - fn: 7004.0000 - accuracy: 0.5684 - precision: 0.9437 - recall: 0.5757 - auc: 0.5202 - val_loss: 0.6867 - val_tp: 2061.0000 - val_fp: 52.0000 - val_tn: 206.0000 - val_fn: 2067.0000 - val_accuracy: 0.5169 - val_precision: 0.9754 - val_recall: 0.4993 - val_auc: 0.6539\n",
      "Epoch 4/20\n",
      "17540/17540 [==============================] - 109s 6ms/sample - loss: 0.6911 - tp: 7618.0000 - fp: 418.0000 - tn: 614.0000 - fn: 8890.0000 - accuracy: 0.4693 - precision: 0.9480 - recall: 0.4615 - auc: 0.5393 - val_loss: 0.6871 - val_tp: 1623.0000 - val_fp: 34.0000 - val_tn: 224.0000 - val_fn: 2505.0000 - val_accuracy: 0.4211 - val_precision: 0.9795 - val_recall: 0.3932 - val_auc: 0.6419\n",
      "Epoch 5/20\n",
      "17540/17540 [==============================] - 110s 6ms/sample - loss: 0.6722 - tp: 11462.0000 - fp: 527.0000 - tn: 505.0000 - fn: 5046.0000 - accuracy: 0.6823 - precision: 0.9560 - recall: 0.6943 - auc: 0.6397 - val_loss: 0.6551 - val_tp: 2481.0000 - val_fp: 82.0000 - val_tn: 176.0000 - val_fn: 1647.0000 - val_accuracy: 0.6058 - val_precision: 0.9680 - val_recall: 0.6010 - val_auc: 0.7062\n",
      "Epoch 6/20\n",
      "17540/17540 [==============================] - 109s 6ms/sample - loss: 0.6401 - tp: 10649.0000 - fp: 344.0000 - tn: 688.0000 - fn: 5859.0000 - accuracy: 0.6464 - precision: 0.9687 - recall: 0.6451 - auc: 0.6886 - val_loss: 0.6286 - val_tp: 3186.0000 - val_fp: 115.0000 - val_tn: 143.0000 - val_fn: 942.0000 - val_accuracy: 0.7590 - val_precision: 0.9652 - val_recall: 0.7718 - val_auc: 0.7163\n",
      "Epoch 7/20\n",
      "17540/17540 [==============================] - 110s 6ms/sample - loss: 0.6318 - tp: 11523.0000 - fp: 391.0000 - tn: 641.0000 - fn: 4985.0000 - accuracy: 0.6935 - precision: 0.9672 - recall: 0.6980 - auc: 0.6990 - val_loss: 0.6320 - val_tp: 2286.0000 - val_fp: 54.0000 - val_tn: 204.0000 - val_fn: 1842.0000 - val_accuracy: 0.5677 - val_precision: 0.9769 - val_recall: 0.5538 - val_auc: 0.7188\n",
      "Epoch 8/20\n",
      "17540/17540 [==============================] - 111s 6ms/sample - loss: 0.6346 - tp: 10585.0000 - fp: 369.0000 - tn: 663.0000 - fn: 5923.0000 - accuracy: 0.6413 - precision: 0.9663 - recall: 0.6412 - auc: 0.6972 - val_loss: 0.6217 - val_tp: 2829.0000 - val_fp: 92.0000 - val_tn: 166.0000 - val_fn: 1299.0000 - val_accuracy: 0.6829 - val_precision: 0.9685 - val_recall: 0.6853 - val_auc: 0.7252\n",
      "Epoch 9/20\n",
      "17540/17540 [==============================] - 109s 6ms/sample - loss: 0.5953 - tp: 11568.0000 - fp: 312.0000 - tn: 720.0000 - fn: 4940.0000 - accuracy: 0.7006 - precision: 0.9737 - recall: 0.7008 - auc: 0.7456 - val_loss: 0.5997 - val_tp: 2727.0000 - val_fp: 77.0000 - val_tn: 181.0000 - val_fn: 1401.0000 - val_accuracy: 0.6630 - val_precision: 0.9725 - val_recall: 0.6606 - val_auc: 0.7436\n",
      "Epoch 10/20\n",
      "17540/17540 [==============================] - 109s 6ms/sample - loss: 0.5260 - tp: 12579.0000 - fp: 263.0000 - tn: 769.0000 - fn: 3929.0000 - accuracy: 0.7610 - precision: 0.9795 - recall: 0.7620 - auc: 0.8123 - val_loss: 0.5709 - val_tp: 3028.0000 - val_fp: 69.0000 - val_tn: 189.0000 - val_fn: 1100.0000 - val_accuracy: 0.7335 - val_precision: 0.9777 - val_recall: 0.7335 - val_auc: 0.7843\n",
      "Epoch 11/20\n",
      "17540/17540 [==============================] - 110s 6ms/sample - loss: 0.5107 - tp: 14057.0000 - fp: 269.0000 - tn: 763.0000 - fn: 2451.0000 - accuracy: 0.8449 - precision: 0.9812 - recall: 0.8515 - auc: 0.8310 - val_loss: 0.5996 - val_tp: 3531.0000 - val_fp: 113.0000 - val_tn: 145.0000 - val_fn: 597.0000 - val_accuracy: 0.8381 - val_precision: 0.9690 - val_recall: 0.8554 - val_auc: 0.7771\n",
      "Epoch 12/20\n",
      "17540/17540 [==============================] - 109s 6ms/sample - loss: 0.4444 - tp: 14516.0000 - fp: 264.0000 - tn: 768.0000 - fn: 1992.0000 - accuracy: 0.8714 - precision: 0.9821 - recall: 0.8793 - auc: 0.8672 - val_loss: 0.5968 - val_tp: 3741.0000 - val_fp: 137.0000 - val_tn: 121.0000 - val_fn: 387.0000 - val_accuracy: 0.8805 - val_precision: 0.9647 - val_recall: 0.9062 - val_auc: 0.7936\n",
      "Epoch 13/20\n",
      "17540/17540 [==============================] - 110s 6ms/sample - loss: 0.4039 - tp: 14903.0000 - fp: 226.0000 - tn: 806.0000 - fn: 1605.0000 - accuracy: 0.8956 - precision: 0.9851 - recall: 0.9028 - auc: 0.8862 - val_loss: 0.6728 - val_tp: 3727.0000 - val_fp: 146.0000 - val_tn: 112.0000 - val_fn: 401.0000 - val_accuracy: 0.8753 - val_precision: 0.9623 - val_recall: 0.9029 - val_auc: 0.7724\n",
      "Epoch 14/20\n",
      "17540/17540 [==============================] - 109s 6ms/sample - loss: 0.3551 - tp: 15336.0000 - fp: 201.0000 - tn: 831.0000 - fn: 1172.0000 - accuracy: 0.9217 - precision: 0.9871 - recall: 0.9290 - auc: 0.9071 - val_loss: 0.6690 - val_tp: 3908.0000 - val_fp: 168.0000 - val_tn: 90.0000 - val_fn: 220.0000 - val_accuracy: 0.9115 - val_precision: 0.9588 - val_recall: 0.9467 - val_auc: 0.7787\n",
      "Epoch 15/20\n",
      "17540/17540 [==============================] - 109s 6ms/sample - loss: 0.3217 - tp: 15691.0000 - fp: 179.0000 - tn: 853.0000 - fn: 817.0000 - accuracy: 0.9432 - precision: 0.9887 - recall: 0.9505 - auc: 0.9163 - val_loss: 0.6385 - val_tp: 3752.0000 - val_fp: 143.0000 - val_tn: 115.0000 - val_fn: 376.0000 - val_accuracy: 0.8817 - val_precision: 0.9633 - val_recall: 0.9089 - val_auc: 0.7861\n",
      "Epoch 16/20\n",
      "17540/17540 [==============================] - 109s 6ms/sample - loss: 0.3229 - tp: 15428.0000 - fp: 164.0000 - tn: 868.0000 - fn: 1080.0000 - accuracy: 0.9291 - precision: 0.9895 - recall: 0.9346 - auc: 0.9209 - val_loss: 0.7177 - val_tp: 3040.0000 - val_fp: 95.0000 - val_tn: 163.0000 - val_fn: 1088.0000 - val_accuracy: 0.7303 - val_precision: 0.9697 - val_recall: 0.7364 - val_auc: 0.7544\n",
      "Epoch 17/20\n",
      "17540/17540 [==============================] - 108s 6ms/sample - loss: 0.2992 - tp: 15265.0000 - fp: 132.0000 - tn: 900.0000 - fn: 1243.0000 - accuracy: 0.9216 - precision: 0.9914 - recall: 0.9247 - auc: 0.9288 - val_loss: 0.8549 - val_tp: 3875.0000 - val_fp: 176.0000 - val_tn: 82.0000 - val_fn: 253.0000 - val_accuracy: 0.9022 - val_precision: 0.9566 - val_recall: 0.9387 - val_auc: 0.7687\n",
      "Epoch 18/20\n",
      "17540/17540 [==============================] - 110s 6ms/sample - loss: 0.2591 - tp: 15743.0000 - fp: 122.0000 - tn: 910.0000 - fn: 765.0000 - accuracy: 0.9494 - precision: 0.9923 - recall: 0.9537 - auc: 0.9400 - val_loss: 0.7109 - val_tp: 3672.0000 - val_fp: 138.0000 - val_tn: 120.0000 - val_fn: 456.0000 - val_accuracy: 0.8646 - val_precision: 0.9638 - val_recall: 0.8895 - val_auc: 0.7857\n",
      "Epoch 19/20\n",
      "17540/17540 [==============================] - 110s 6ms/sample - loss: 0.2518 - tp: 15687.0000 - fp: 116.0000 - tn: 916.0000 - fn: 821.0000 - accuracy: 0.9466 - precision: 0.9927 - recall: 0.9503 - auc: 0.9453 - val_loss: 0.7789 - val_tp: 3657.0000 - val_fp: 139.0000 - val_tn: 119.0000 - val_fn: 471.0000 - val_accuracy: 0.8609 - val_precision: 0.9634 - val_recall: 0.8859 - val_auc: 0.7820\n",
      "Epoch 20/20\n",
      "17540/17540 [==============================] - 109s 6ms/sample - loss: 0.2260 - tp: 15910.0000 - fp: 103.0000 - tn: 929.0000 - fn: 598.0000 - accuracy: 0.9600 - precision: 0.9936 - recall: 0.9638 - auc: 0.9535 - val_loss: 0.8896 - val_tp: 3891.0000 - val_fp: 181.0000 - val_tn: 77.0000 - val_fn: 237.0000 - val_accuracy: 0.9047 - val_precision: 0.9556 - val_recall: 0.9426 - val_auc: 0.7776\n"
     ]
    }
   ],
   "source": [
    "weighted_model = create_model()\n",
    "weighted_model.load_weights(initial_weights)\n",
    "\n",
    "weighted_history = weighted_model.fit(\n",
    "    X_train_features,\n",
    "    y_train,\n",
    "    batch_size=BATCH_SIZE,\n",
    "    epochs=EPOCHS,\n",
    "    callbacks = [early_stopping],\n",
    "    validation_data=(X_val_features, y_val),\n",
    "    # The class weights go here\n",
    "    class_weight=class_weight) "
   ]
  },
  {
   "cell_type": "code",
   "execution_count": 38,
   "metadata": {},
   "outputs": [],
   "source": [
    "# Evaluate metrics\n",
    "train_predictions_weighted = weighted_model.predict(X_train_features, batch_size=BATCH_SIZE)\n",
    "test_predictions_weighted = weighted_model.predict(X_test_features, batch_size=BATCH_SIZE)"
   ]
  },
  {
   "cell_type": "code",
   "execution_count": 39,
   "metadata": {},
   "outputs": [
    {
     "name": "stdout",
     "output_type": "stream",
     "text": [
      "loss :  0.3171341765844574\n",
      "tp :  4873.0\n",
      "fp :  236.0\n",
      "tn :  87.0\n",
      "fn :  286.0\n",
      "accuracy :  0.90477926\n",
      "precision :  0.953807\n",
      "recall :  0.9445629\n",
      "auc :  0.75745356\n",
      "\n",
      "Not Helpful reviews Detected (True Negatives):  87\n",
      "Not Helpful reviews Incorrectly Detected (False Positives):  236\n",
      "Helpful Reviews Missed (False Negatives):  286\n",
      "Helpful Reviews Detected (True Positives):  4873\n",
      "Total Helpful Reviews:  5159\n"
     ]
    },
    {
     "data": {
      "image/png": "[encoded data removed]",
      "text/plain": [
       "<Figure size 360x360 with 2 Axes>"
      ]
     },
     "metadata": {},
     "output_type": "display_data"
    }
   ],
   "source": [
    "# Display confusion matrix and classification report\n",
    "weighted_results = weighted_model.evaluate(X_test_features, y_test,\n",
    "                                  batch_size=BATCH_SIZE, verbose=0)\n",
    "for name, value in zip(model.metrics_names, weighted_results):\n",
    "    print(name, ': ', value)\n",
    "print()\n",
    "\n",
    "plot_cm(y_test, test_predictions_weighted)"
   ]
  },
  {
   "cell_type": "markdown",
   "metadata": {},
   "source": [
    " The class weights showed better improvement in identifying the not helpful reviews. Next we will try oversampling the minority class, in our case it is not helpful review features. "
   ]
  },
  {
   "cell_type": "markdown",
   "metadata": {},
   "source": [
    "###### Train model using oversampling the minority class "
   ]
  },
  {
   "cell_type": "code",
   "execution_count": 40,
   "metadata": {},
   "outputs": [],
   "source": [
    "bool_train_labels = y_train !=0\n",
    "\n",
    "pos_features = X_train_features[bool_train_labels]\n",
    "neg_features = X_train_features[~bool_train_labels]\n",
    "\n",
    "pos_labels = y_train[bool_train_labels]\n",
    "neg_labels = y_train[~bool_train_labels]"
   ]
  },
  {
   "cell_type": "code",
   "execution_count": 41,
   "metadata": {},
   "outputs": [],
   "source": [
    "# balance the dataset manually by choosing the right number of random indices from the negative examples using tf.data\n",
    "BUFFER_SIZE = 100000\n",
    "\n",
    "def make_ds(features, labels):\n",
    "    ds = tf.data.Dataset.from_tensor_slices((features, labels))#.cache()\n",
    "    ds = ds.shuffle(BUFFER_SIZE).repeat()\n",
    "    return ds\n",
    "\n",
    "pos_ds = make_ds(pos_features, pos_labels)\n",
    "neg_ds = make_ds(neg_features, neg_labels)"
   ]
  },
  {
   "cell_type": "code",
   "execution_count": 42,
   "metadata": {},
   "outputs": [
    {
     "name": "stdout",
     "output_type": "stream",
     "text": [
      "Features:\n",
      " [  24  341  179   30   52   47  203    3 2364 2091 3390 1454  179  434\n",
      "  107  347 5199  868  255  179 2016 1330 2157  574    8 1190 4601 5199\n",
      "   80  176    0    0    0    0    0    0    0    0    0    0    0    0\n",
      "    0    0    0    0    0    0    0    0    0    0    0    0    0    0\n",
      "    0    0    0    0    0    0    0    0    0    0    0    0    0    0\n",
      "    0    0    0    0    0    0    0    0    0    0    0    0    0    0\n",
      "    0    0    0    0    0    0    0    0    0    0    0    0    0    0\n",
      "    0    0]\n",
      "\n",
      "Label:  1\n"
     ]
    }
   ],
   "source": [
    "# Each dataset provides (feature, label) pairs:\n",
    "for features, label in pos_ds.take(1):\n",
    "    print(\"Features:\\n\", features.numpy())\n",
    "    print()\n",
    "    print(\"Label: \", label.numpy())"
   ]
  },
  {
   "cell_type": "code",
   "execution_count": 43,
   "metadata": {},
   "outputs": [],
   "source": [
    "#Merge the two together using experimental.sample_from_datasets:\n",
    "resampled_ds = tf.data.experimental.sample_from_datasets([pos_ds, neg_ds], weights=[0.5, 0.5])\n",
    "resampled_ds = resampled_ds.batch(BATCH_SIZE).prefetch(2)"
   ]
  },
  {
   "cell_type": "code",
   "execution_count": 44,
   "metadata": {},
   "outputs": [],
   "source": [
    "#Merge the two together using experimental.sample_from_datasets:\n",
    "resampled_ds = tf.data.experimental.sample_from_datasets([pos_ds, neg_ds], weights=[0.5, 0.5])\n",
    "resampled_ds = resampled_ds.batch(BATCH_SIZE).prefetch(2)"
   ]
  },
  {
   "cell_type": "code",
   "execution_count": 45,
   "metadata": {},
   "outputs": [
    {
     "name": "stdout",
     "output_type": "stream",
     "text": [
      "0.488\n"
     ]
    }
   ],
   "source": [
    "for features, label in resampled_ds.take(1):\n",
    "    print(label.numpy().mean())"
   ]
  },
  {
   "cell_type": "code",
   "execution_count": 46,
   "metadata": {},
   "outputs": [
    {
     "data": {
      "text/plain": [
       "3.0"
      ]
     },
     "execution_count": 46,
     "metadata": {},
     "output_type": "execute_result"
    }
   ],
   "source": [
    "#To use this dataset, you'll need the number of steps per epoch.\n",
    "#The definition of \"epoch\" in this case is less clear. Say it's the number of batches required to see each negative example once:\n",
    "resampled_steps_per_epoch = np.ceil(2.0*neg/BATCH_SIZE)\n",
    "resampled_steps_per_epoch"
   ]
  },
  {
   "cell_type": "code",
   "execution_count": 48,
   "metadata": {},
   "outputs": [
    {
     "name": "stdout",
     "output_type": "stream",
     "text": [
      "Train for 3.0 steps, validate for 5 steps\n",
      "Epoch 1/40\n",
      "3/3 [==============================] - 37s 12s/step - loss: 0.6846 - tp: 502.0000 - fp: 499.0000 - tn: 1034.0000 - fn: 965.0000 - accuracy: 0.5120 - precision: 0.5015 - recall: 0.3422 - auc: 0.5653 - val_loss: 0.8427 - val_tp: 1563.0000 - val_fp: 31.0000 - val_tn: 227.0000 - val_fn: 2565.0000 - val_accuracy: 0.4081 - val_precision: 0.9806 - val_recall: 0.3786 - val_auc: 0.6655\n",
      "Epoch 2/40\n",
      "3/3 [==============================] - 24s 8s/step - loss: 0.6721 - tp: 583.0000 - fp: 200.0000 - tn: 1319.0000 - fn: 898.0000 - accuracy: 0.6340 - precision: 0.7446 - recall: 0.3937 - auc: 0.6604 - val_loss: 0.7931 - val_tp: 1662.0000 - val_fp: 34.0000 - val_tn: 224.0000 - val_fn: 2466.0000 - val_accuracy: 0.4300 - val_precision: 0.9800 - val_recall: 0.4026 - val_auc: 0.6782\n",
      "Epoch 3/40\n",
      "3/3 [==============================] - 24s 8s/step - loss: 0.6578 - tp: 669.0000 - fp: 240.0000 - tn: 1243.0000 - fn: 848.0000 - accuracy: 0.6373 - precision: 0.7360 - recall: 0.4410 - auc: 0.6857 - val_loss: 0.6955 - val_tp: 1947.0000 - val_fp: 45.0000 - val_tn: 213.0000 - val_fn: 2181.0000 - val_accuracy: 0.4925 - val_precision: 0.9774 - val_recall: 0.4717 - val_auc: 0.7044\n",
      "Epoch 4/40\n",
      "3/3 [==============================] - 24s 8s/step - loss: 0.6311 - tp: 839.0000 - fp: 338.0000 - tn: 1134.0000 - fn: 689.0000 - accuracy: 0.6577 - precision: 0.7128 - recall: 0.5491 - auc: 0.7151 - val_loss: 0.4753 - val_tp: 3103.0000 - val_fp: 111.0000 - val_tn: 147.0000 - val_fn: 1025.0000 - val_accuracy: 0.7410 - val_precision: 0.9655 - val_recall: 0.7517 - val_auc: 0.7276\n",
      "Epoch 5/40\n",
      "3/3 [==============================] - 24s 8s/step - loss: 0.6324 - tp: 975.0000 - fp: 498.0000 - tn: 1033.0000 - fn: 494.0000 - accuracy: 0.6693 - precision: 0.6619 - recall: 0.6637 - auc: 0.7179 - val_loss: 0.6974 - val_tp: 2267.0000 - val_fp: 67.0000 - val_tn: 191.0000 - val_fn: 1861.0000 - val_accuracy: 0.5604 - val_precision: 0.9713 - val_recall: 0.5492 - val_auc: 0.7199\n",
      "Epoch 6/40\n",
      "3/3 [==============================] - 24s 8s/step - loss: 0.6216 - tp: 830.0000 - fp: 331.0000 - tn: 1160.0000 - fn: 679.0000 - accuracy: 0.6633 - precision: 0.7149 - recall: 0.5500 - auc: 0.7293 - val_loss: 0.6159 - val_tp: 2524.0000 - val_fp: 82.0000 - val_tn: 176.0000 - val_fn: 1604.0000 - val_accuracy: 0.6156 - val_precision: 0.9685 - val_recall: 0.6114 - val_auc: 0.7294\n",
      "Epoch 7/40\n",
      "3/3 [==============================] - 24s 8s/step - loss: 0.6355 - tp: 1000.0000 - fp: 543.0000 - tn: 979.0000 - fn: 478.0000 - accuracy: 0.6597 - precision: 0.6481 - recall: 0.6766 - auc: 0.7114 - val_loss: 0.6073 - val_tp: 2630.0000 - val_fp: 84.0000 - val_tn: 174.0000 - val_fn: 1498.0000 - val_accuracy: 0.6393 - val_precision: 0.9690 - val_recall: 0.6371 - val_auc: 0.7330\n",
      "Epoch 8/40\n",
      "3/3 [==============================] - 24s 8s/step - loss: 0.6039 - tp: 931.0000 - fp: 377.0000 - tn: 1135.0000 - fn: 557.0000 - accuracy: 0.6887 - precision: 0.7118 - recall: 0.6257 - auc: 0.7468 - val_loss: 0.6790 - val_tp: 2387.0000 - val_fp: 71.0000 - val_tn: 187.0000 - val_fn: 1741.0000 - val_accuracy: 0.5869 - val_precision: 0.9711 - val_recall: 0.5782 - val_auc: 0.7334\n",
      "Epoch 9/40\n",
      "3/3 [==============================] - 23s 8s/step - loss: 0.6158 - tp: 863.0000 - fp: 392.0000 - tn: 1128.0000 - fn: 617.0000 - accuracy: 0.6637 - precision: 0.6876 - recall: 0.5831 - auc: 0.7389 - val_loss: 0.5503 - val_tp: 2893.0000 - val_fp: 96.0000 - val_tn: 162.0000 - val_fn: 1235.0000 - val_accuracy: 0.6965 - val_precision: 0.9679 - val_recall: 0.7008 - val_auc: 0.7468\n",
      "Epoch 10/40\n",
      "3/3 [==============================] - 24s 8s/step - loss: 0.5858 - tp: 1128.0000 - fp: 574.0000 - tn: 962.0000 - fn: 336.0000 - accuracy: 0.6967 - precision: 0.6627 - recall: 0.7705 - auc: 0.7779 - val_loss: 0.4838 - val_tp: 3214.0000 - val_fp: 107.0000 - val_tn: 151.0000 - val_fn: 914.0000 - val_accuracy: 0.7672 - val_precision: 0.9678 - val_recall: 0.7786 - val_auc: 0.7713\n",
      "Epoch 11/40\n",
      "3/3 [==============================] - 24s 8s/step - loss: 0.4999 - tp: 1175.0000 - fp: 331.0000 - tn: 1163.0000 - fn: 331.0000 - accuracy: 0.7793 - precision: 0.7802 - recall: 0.7802 - auc: 0.8540 - val_loss: 0.3447 - val_tp: 3578.0000 - val_fp: 111.0000 - val_tn: 147.0000 - val_fn: 550.0000 - val_accuracy: 0.8493 - val_precision: 0.9699 - val_recall: 0.8668 - val_auc: 0.8224\n",
      "Epoch 12/40\n",
      "3/3 [==============================] - 25s 8s/step - loss: 0.4114 - tp: 1189.0000 - fp: 186.0000 - tn: 1306.0000 - fn: 319.0000 - accuracy: 0.8317 - precision: 0.8647 - recall: 0.7885 - auc: 0.8926 - val_loss: 0.5066 - val_tp: 3049.0000 - val_fp: 63.0000 - val_tn: 195.0000 - val_fn: 1079.0000 - val_accuracy: 0.7396 - val_precision: 0.9798 - val_recall: 0.7386 - val_auc: 0.8174\n",
      "Epoch 13/40\n",
      "3/3 [==============================] - 24s 8s/step - loss: 0.3613 - tp: 1215.0000 - fp: 137.0000 - tn: 1368.0000 - fn: 280.0000 - accuracy: 0.8610 - precision: 0.8987 - recall: 0.8127 - auc: 0.9197 - val_loss: 0.4680 - val_tp: 3214.0000 - val_fp: 75.0000 - val_tn: 183.0000 - val_fn: 914.0000 - val_accuracy: 0.7745 - val_precision: 0.9772 - val_recall: 0.7786 - val_auc: 0.8221\n",
      "Epoch 14/40\n",
      "3/3 [==============================] - 24s 8s/step - loss: 0.3052 - tp: 1216.0000 - fp: 94.0000 - tn: 1458.0000 - fn: 232.0000 - accuracy: 0.8913 - precision: 0.9282 - recall: 0.8398 - auc: 0.9362 - val_loss: 0.2993 - val_tp: 3713.0000 - val_fp: 124.0000 - val_tn: 134.0000 - val_fn: 415.0000 - val_accuracy: 0.8771 - val_precision: 0.9677 - val_recall: 0.8995 - val_auc: 0.7976\n",
      "Epoch 15/40\n",
      "3/3 [==============================] - 23s 8s/step - loss: 0.2765 - tp: 1280.0000 - fp: 107.0000 - tn: 1422.0000 - fn: 191.0000 - accuracy: 0.9007 - precision: 0.9229 - recall: 0.8702 - auc: 0.9423 - val_loss: 0.3562 - val_tp: 3675.0000 - val_fp: 121.0000 - val_tn: 137.0000 - val_fn: 453.0000 - val_accuracy: 0.8691 - val_precision: 0.9681 - val_recall: 0.8903 - val_auc: 0.7668\n",
      "Epoch 16/40\n",
      "3/3 [==============================] - 24s 8s/step - loss: 0.2601 - tp: 1366.0000 - fp: 93.0000 - tn: 1378.0000 - fn: 163.0000 - accuracy: 0.9147 - precision: 0.9363 - recall: 0.8934 - auc: 0.9444 - val_loss: 0.3877 - val_tp: 3619.0000 - val_fp: 109.0000 - val_tn: 149.0000 - val_fn: 509.0000 - val_accuracy: 0.8591 - val_precision: 0.9708 - val_recall: 0.8767 - val_auc: 0.7748\n",
      "Epoch 17/40\n",
      "3/3 [==============================] - 25s 8s/step - loss: 0.2244 - tp: 1376.0000 - fp: 70.0000 - tn: 1391.0000 - fn: 163.0000 - accuracy: 0.9223 - precision: 0.9516 - recall: 0.8941 - auc: 0.9599 - val_loss: 0.3881 - val_tp: 3582.0000 - val_fp: 110.0000 - val_tn: 148.0000 - val_fn: 546.0000 - val_accuracy: 0.8504 - val_precision: 0.9702 - val_recall: 0.8677 - val_auc: 0.7907\n",
      "Epoch 18/40\n",
      "3/3 [==============================] - 25s 8s/step - loss: 0.2103 - tp: 1365.0000 - fp: 37.0000 - tn: 1438.0000 - fn: 160.0000 - accuracy: 0.9343 - precision: 0.9736 - recall: 0.8951 - auc: 0.9606 - val_loss: 0.3102 - val_tp: 3760.0000 - val_fp: 131.0000 - val_tn: 127.0000 - val_fn: 368.0000 - val_accuracy: 0.8862 - val_precision: 0.9663 - val_recall: 0.9109 - val_auc: 0.7547\n",
      "Epoch 19/40\n",
      "3/3 [==============================] - 24s 8s/step - loss: 0.1804 - tp: 1368.0000 - fp: 23.0000 - tn: 1476.0000 - fn: 133.0000 - accuracy: 0.9480 - precision: 0.9835 - recall: 0.9114 - auc: 0.9646 - val_loss: 0.3418 - val_tp: 3748.0000 - val_fp: 128.0000 - val_tn: 130.0000 - val_fn: 380.0000 - val_accuracy: 0.8842 - val_precision: 0.9670 - val_recall: 0.9079 - val_auc: 0.7579\n",
      "Epoch 20/40\n",
      "3/3 [==============================] - 24s 8s/step - loss: 0.1660 - tp: 1383.0000 - fp: 38.0000 - tn: 1467.0000 - fn: 112.0000 - accuracy: 0.9500 - precision: 0.9733 - recall: 0.9251 - auc: 0.9696 - val_loss: 0.3434 - val_tp: 3764.0000 - val_fp: 131.0000 - val_tn: 127.0000 - val_fn: 364.0000 - val_accuracy: 0.8871 - val_precision: 0.9664 - val_recall: 0.9118 - val_auc: 0.7552\n",
      "Epoch 21/40\n",
      "2/3 [===================>..........] - ETA: 5s - loss: 0.1618 - tp: 950.0000 - fp: 6.0000 - tn: 955.0000 - fn: 89.0000 - accuracy: 0.9525 - precision: 0.9937 - recall: 0.9143 - auc: 0.9697 Restoring model weights from the end of the best epoch.\n",
      "3/3 [==============================] - 24s 8s/step - loss: 0.1575 - tp: 1388.0000 - fp: 16.0000 - tn: 1474.0000 - fn: 122.0000 - accuracy: 0.9540 - precision: 0.9886 - recall: 0.9192 - auc: 0.9703 - val_loss: 0.2905 - val_tp: 3908.0000 - val_fp: 167.0000 - val_tn: 91.0000 - val_fn: 220.0000 - val_accuracy: 0.9118 - val_precision: 0.9590 - val_recall: 0.9467 - val_auc: 0.7113\n",
      "Epoch 00021: early stopping\n"
     ]
    }
   ],
   "source": [
    "#training the model with the resampled data set instead of using class weights to see how these methods compare\n",
    "resampled_model = create_model()\n",
    "resampled_model.load_weights(initial_weights)\n",
    "\n",
    "# Reset the bias to zero, since this dataset is balanced.\n",
    "output_layer = resampled_model.layers[-1] \n",
    "output_layer.bias.assign([0])\n",
    "\n",
    "val_ds = tf.data.Dataset.from_tensor_slices((X_val_features, y_val)).cache()\n",
    "val_ds = val_ds.batch(BATCH_SIZE).prefetch(2) \n",
    "\n",
    "resampled_history = resampled_model.fit(\n",
    "    resampled_ds,\n",
    "    epochs=40,\n",
    "    steps_per_epoch=resampled_steps_per_epoch,\n",
    "    callbacks = [early_stopping],\n",
    "    validation_data=val_ds)"
   ]
  },
  {
   "cell_type": "code",
   "execution_count": 49,
   "metadata": {},
   "outputs": [],
   "source": [
    "# Evaluate metrics\n",
    "train_predictions_resampled = resampled_model.predict(X_train_features, batch_size=BATCH_SIZE)\n",
    "test_predictions_resampled = resampled_model.predict(X_test_features, batch_size=BATCH_SIZE)"
   ]
  },
  {
   "cell_type": "code",
   "execution_count": 50,
   "metadata": {},
   "outputs": [
    {
     "name": "stdout",
     "output_type": "stream",
     "text": [
      "loss :  0.3374970595534811\n",
      "tp :  4506.0\n",
      "fp :  152.0\n",
      "tn :  171.0\n",
      "fn :  653.0\n",
      "accuracy :  0.8531558\n",
      "precision :  0.96736795\n",
      "recall :  0.87342507\n",
      "auc :  0.808105\n",
      "\n",
      "Not Helpful reviews Detected (True Negatives):  171\n",
      "Not Helpful reviews Incorrectly Detected (False Positives):  152\n",
      "Helpful Reviews Missed (False Negatives):  653\n",
      "Helpful Reviews Detected (True Positives):  4506\n",
      "Total Helpful Reviews:  5159\n"
     ]
    },
    {
     "data": {
      "image/png": "[encoded data removed]",
      "text/plain": [
       "<Figure size 360x360 with 2 Axes>"
      ]
     },
     "metadata": {},
     "output_type": "display_data"
    }
   ],
   "source": [
    "# Display confusion matrix and classification report\n",
    "resampled_results = resampled_model.evaluate(X_test_features, y_test,\n",
    "                                             batch_size=BATCH_SIZE, verbose=0)\n",
    "for name, value in zip(resampled_model.metrics_names, resampled_results):\n",
    "    print(name, ': ', value)\n",
    "print()\n",
    "\n",
    "plot_cm(y_test, test_predictions_resampled)"
   ]
  },
  {
   "cell_type": "code",
   "execution_count": 51,
   "metadata": {},
   "outputs": [
    {
     "data": {
      "text/plain": [
       "<matplotlib.legend.Legend at 0x1a9f4fddb00>"
      ]
     },
     "execution_count": 51,
     "metadata": {},
     "output_type": "execute_result"
    },
    {
     "data": {
      "image/png": "[encoded data removed]",
      "text/plain": [
       "<Figure size 432x288 with 1 Axes>"
      ]
     },
     "metadata": {},
     "output_type": "display_data"
    }
   ],
   "source": [
    "# Plot roc for all the different strategies followed for handling the imbalance dataset\n",
    "plot_roc_dl(\"Train Baseline\", y_train, train_predictions_baseline, color=colors[0])\n",
    "plot_roc_dl(\"Test Baseline\", y_test, test_predictions_baseline, color=colors[0], linestyle='--')\n",
    "\n",
    "plot_roc_dl(\"Train Weighted\", y_train, train_predictions_weighted, color=colors[1])\n",
    "plot_roc_dl(\"Test Weighted\", y_test, test_predictions_weighted, color=colors[1], linestyle='--')\n",
    "\n",
    "plot_roc_dl(\"Train Resampled\", y_train, train_predictions_resampled,  color=colors[2])\n",
    "plot_roc_dl(\"Test Resampled\", y_test, test_predictions_resampled,  color=colors[2], linestyle='--')\n",
    "plt.legend(loc='lower right')"
   ]
  },
  {
   "cell_type": "markdown",
   "metadata": {},
   "source": [
    "As per our experiments, oversampling teh minority class along with assigning class weights worked the best for predicting the helpfulness of the reviews setting an accuracy of around 85%.\n",
    "\n",
    "Future work, we can still optimize the solutions by checking on different parameter optimization like learning_rate, dropout etc. And can try bidirectional attention model for training the model."
   ]
  },
  {
   "cell_type": "markdown",
   "metadata": {},
   "source": [
    "References:\n",
    "\n",
    "https://www.tensorflow.org/tutorials/structured_data/imbalanced_data\n",
    "\n",
    "https://realpython.com/python-keras-text-classification/\n",
    "\n",
    "https://medium.com/@margaretmz/setting-up-aws-ec2-for-running-jupyter-notebook-on-gpu-c281231fad3f"
   ]
  },
  {
   "cell_type": "code",
   "execution_count": null,
   "metadata": {},
   "outputs": [],
   "source": []
  }
 ],
 "metadata": {
  "kernelspec": {
   "display_name": "Python 3",
   "language": "python",
   "name": "python3"
  },
  "language_info": {
   "codemirror_mode": {
    "name": "ipython",
    "version": 3
   },
   "file_extension": ".py",
   "mimetype": "text/x-python",
   "name": "python",
   "nbconvert_exporter": "python",
   "pygments_lexer": "ipython3",
   "version": "3.7.3"
  }
 },
 "nbformat": 4,
 "nbformat_minor": 2
}
