{
 "cells": [
  {
   "cell_type": "markdown",
   "metadata": {},
   "source": [
    "### Objective"
   ]
  },
  {
   "cell_type": "markdown",
   "metadata": {},
   "source": [
    "This notebook is about applying deep learning models to predict the helpfulness of the amazon review dataset. We have already seem to have applied traditonal model approach to  the problem statement. Based on the traditional approach, using SMOTE Sampling TF-IDF RandomForest Classifier accuracy score was about 73% and precision score as 84%. You can find the details about the traditional approach in the github link: \n",
    "\n",
    "https://github.com/subhashree-ai/amazon-review-helpfulness-prediction/blob/master/notebooks/amazon_helpfulness_prediction_trad_models.ipynb\n",
    "\n",
    "\n",
    "In this notebook, we will apply the deep learning methods on the frequency datasets which we have already saved in the input directory. In case, if you want to reload the data, we have the code written in the notebook, which can be used."
   ]
  },
  {
   "cell_type": "markdown",
   "metadata": {},
   "source": [
    "### Import and Initialization "
   ]
  },
  {
   "cell_type": "code",
   "execution_count": 1,
   "metadata": {},
   "outputs": [
    {
     "name": "stderr",
     "output_type": "stream",
     "text": [
      "Using TensorFlow backend.\n"
     ]
    }
   ],
   "source": [
    "# Importing the relevant dependencies\n",
    "import numpy as np\n",
    "import pandas as pd\n",
    "import gzip\n",
    "import math, time, random, datetime\n",
    "import string\n",
    "import os\n",
    "import nltk\n",
    "#nltk.download('stopwords')\n",
    "#nltk.download('punkt')\n",
    "\n",
    "# data visualization\n",
    "%matplotlib inline\n",
    "import matplotlib.pyplot as plt\n",
    "import seaborn as sns\n",
    "plt.style.use('seaborn-whitegrid')\n",
    "\n",
    "from IPython.display import display # Allows the use of display() for DataFrames\n",
    "import warnings\n",
    "warnings.filterwarnings('ignore')\n",
    "import re\n",
    "from collections import Counter\n",
    "import pickle\n",
    "from sklearn.model_selection import train_test_split\n",
    "\n",
    "# Deep Learning Keras\n",
    "from keras.models import Sequential\n",
    "from keras.optimizers import Adam\n",
    "from keras.layers import Dense, Embedding, Dropout, Activation,Flatten\n",
    "from keras.preprocessing.text import Tokenizer\n",
    "from tensorflow.python.keras import metrics\n",
    "from keras.preprocessing.sequence import pad_sequences"
   ]
  },
  {
   "cell_type": "code",
   "execution_count": 2,
   "metadata": {},
   "outputs": [],
   "source": [
    "import sys\n",
    "module_path = os.path.abspath(os.path.join('..'))\n",
    "if module_path not in sys.path:\n",
    "    sys.path.append(module_path+\"\\\\src\\\\utils\")"
   ]
  },
  {
   "cell_type": "code",
   "execution_count": 3,
   "metadata": {},
   "outputs": [
    {
     "name": "stderr",
     "output_type": "stream",
     "text": [
      "[nltk_data] Downloading package stopwords to\n",
      "[nltk_data]     C:\\Users\\HP\\AppData\\Roaming\\nltk_data...\n",
      "[nltk_data]   Package stopwords is already up-to-date!\n"
     ]
    }
   ],
   "source": [
    "import utility\n",
    "from custom_text_preprocessing import normalize_text\n",
    "from custom_transformer import ColumnExtractor, TextTFIDFVectorizer, TextWord2Vectorizer\n",
    "from plotting import report, plot_roc, plot_history"
   ]
  },
  {
   "cell_type": "code",
   "execution_count": 4,
   "metadata": {},
   "outputs": [],
   "source": [
    "# folder where input data and pickle data load present\n",
    "data_folder = '../data/dataLoad/'\n",
    "input_folder = '../data/raw/'"
   ]
  },
  {
   "cell_type": "markdown",
   "metadata": {},
   "source": [
    "### Data Loading"
   ]
  },
  {
   "cell_type": "code",
   "execution_count": 5,
   "metadata": {},
   "outputs": [],
   "source": [
    "# Load the pickle for dataset having frequency 0.8, 0,85 and 0.9 if you have already executed the traditional models \n",
    "# approach where the threshold dataset for 0.8, 0.85 and 0.9 has already been saved\n",
    "dataset_threshold_08 = pickle.load((open(input_folder+'dataset_threshold_08.p', 'rb')))\n",
    "dataset_threshold_085 = pickle.load((open(input_folder+'dataset_threshold_085.p', 'rb')))\n",
    "dataset_threshold_09 = pickle.load((open(input_folder+'dataset_threshold_09.p', 'rb')))"
   ]
  },
  {
   "cell_type": "code",
   "execution_count": 6,
   "metadata": {},
   "outputs": [],
   "source": [
    "# In case, if you dont have the dataset for threshold frequency not saved, \n",
    "# uncomment the below commented cell and run to get the threshold datasets\n",
    "\n",
    "# Loading the home and kitchen dataset which is downloaded in the /data path\n",
    "#input_data = 'reviews_Home_and_Kitchen_5.json.gz'\n",
    "#def parse(path):\n",
    "#    g = gzip.open(path, 'rb')\n",
    "#    for l in g:\n",
    "#        yield eval(l)\n",
    "\n",
    "#def getDF(path):\n",
    "#    i = 0\n",
    "#    df = {}\n",
    "#    for d in parse(path):\n",
    "#        df[i] = d\n",
    "#        i +=1\n",
    "#    return pd.DataFrame.from_dict(df, orient='index')\n",
    "\n",
    "#data = getDF(input_folder + input_data)   \n",
    "\n",
    "# Data Preprocessing\n",
    "# Filter the products which has atleast 10 reviews\n",
    "#groupby_product = data.groupby('asin').size()\n",
    "#filter_reviews = data.groupby('asin').size().values >= 10\n",
    "#filter_asins = groupby_product[filter_reviews].index\n",
    "#data_filter = data.loc[data['asin'].isin(filter_asins), :]\n",
    "\n",
    "# Filter the reviews having more than 10 helpful reviews\n",
    "#dataset = data_filter[data_filter['helpful'].apply(lambda x: x[1] > 10)]\n",
    "\n",
    "#Deriving the target variables from features\n",
    "#dataset['helpful_ratings'] = dataset['helpful'].apply(lambda x: x[0])\n",
    "#dataset['total_ratings'] = dataset['helpful'].apply(lambda x: x[1])\n",
    "\n",
    "# Droping some of the outliers\n",
    "#dataset = dataset.drop(dataset.index[dataset.helpful_ratings == dataset.helpful_ratings.max()])\n",
    "#dataset = dataset.drop(dataset.index[dataset.total_ratings > 1000])\n",
    "\n",
    "# This funcion will get the helpfulness rating based on certain threshold and total and helpful ratings count\n",
    "#def getHelpfulness(input_dataset, threshold):\n",
    "#    threshold=threshold\n",
    "#    input_dataset.loc[:, 'isHelpful'] = np.where(input_dataset['helpful_ratings']/input_dataset['total_ratings'] > threshold, 1, 0)\n",
    "    \n",
    "#    return input_dataset\n",
    "\n",
    "# Dataset with threshold 0.8\n",
    "#dataset_threshold_08 = getHelpfulness(dataset, threshold=0.8)\n",
    "#dataset_threshold_08 = dataset.drop(columns = ['helpful', 'helpful_ratings', 'total_ratings'], axis=1)\n",
    "#dataset_threshold_08 = dataset_threshold_08.reset_index(drop=True)\n",
    "\n",
    "# Dataset with threshold 0.85\n",
    "#dataset_threshold_085 = getHelpfulness(dataset, threshold=0.85)\n",
    "#dataset_threshold_085 = dataset.drop(columns = ['helpful', 'helpful_ratings', 'total_ratings'], axis=1)\n",
    "#dataset_threshold_085 = dataset_threshold_08.reset_index(drop=True)\n",
    "\n",
    "# Dataset with threshold 0.9\n",
    "#dataset_threshold_09 = getHelpfulness(dataset, threshold=0.9)\n",
    "#dataset_threshold_09 = dataset.drop(columns = ['helpful', 'helpful_ratings', 'total_ratings'], axis=1)\n",
    "#dataset_threshold_09 = dataset_threshold_08.reset_index(drop=True)"
   ]
  },
  {
   "cell_type": "markdown",
   "metadata": {},
   "source": [
    "Dataset Description:\n",
    "\n",
    "\n",
    "As mentioned in the jmcauley site, belaw are the description of the fields:\n",
    "1. reviewerID - ID of the reviewer, e.g. A2SUAM1J3GNN3B\n",
    "2. asin - ID of the product, e.g. 0000013714\n",
    "3. reviewerName - name of the reviewer\n",
    "4. helpful - helpfulness rating of the review, e.g. 2/3.\n",
    "5. reviewText - text of the review\n",
    "6. overall - rating of the product\n",
    "7. summary - summary of the review\n",
    "8. unixReviewTime - time of the review (unix time)\n",
    "9. reviewTime - time of the review (raw)"
   ]
  },
  {
   "cell_type": "markdown",
   "metadata": {},
   "source": [
    "Below are the strategies will foloow for finding the best approach:\n",
    "1. Will pass the review Text without normalizing the text.\n",
    "2. Will normalize the review text which involves removing the  punctuation, stemming, lemmitisation process etc.\n",
    "3. Will pass the normalize review text along with the date parameter which will signify how old the data is.\n",
    "\n",
    "All these input strategies will be passed to different neural networks like LSTM, RNN and Transfer Learning as word embeddings, and to different threshold dataset"
   ]
  },
  {
   "cell_type": "markdown",
   "metadata": {},
   "source": [
    "#### Building Neural networks using input as reviewText( without normalizing) "
   ]
  },
  {
   "cell_type": "markdown",
   "metadata": {},
   "source": [
    "###### Using dataset threshold 0.8 "
   ]
  },
  {
   "cell_type": "code",
   "execution_count": 7,
   "metadata": {},
   "outputs": [],
   "source": [
    "# Train-Test split the dataset_threshold_08\n",
    "X_08 = dataset_threshold_08['reviewText'].values\n",
    "y_08 = dataset_threshold_08['isHelpful'].values\n",
    "\n",
    "sentences_train_08, sentences_test_08, y_train_08, y_test_08 = train_test_split(X_08, y_08, test_size=0.33, random_state=42)"
   ]
  },
  {
   "cell_type": "markdown",
   "metadata": {},
   "source": [
    "###### LSTM Model"
   ]
  },
  {
   "cell_type": "code",
   "execution_count": 8,
   "metadata": {},
   "outputs": [],
   "source": [
    "embedding_size = 200\n",
    "num_words = 10000\n",
    "max_tokens = 30"
   ]
  },
  {
   "cell_type": "code",
   "execution_count": 9,
   "metadata": {},
   "outputs": [
    {
     "name": "stdout",
     "output_type": "stream",
     "text": [
      "I'm torn on this product. Now that I have it completely assembled and put in place, I love it. However, while assembling it I was almost prepared to throw it away.- There are 174 pieces that come with it. Yes, 174. 20 pieces of wood and 154 pieces of hardware. I eventually had my entire kitchen floor covered in pieces.- Many of the wood pieces are not labeled so you end up guessing and hoping it's right.- The directions were very confusing at points. One showed a long and skinny piece. I searched and searched for the piece and got upset because I thought they shorted me some pieces. It turns out that the piece did come with it, but it was actually short and stubby.- Some of the holes did not feel like they were drilled deep enough and I had to push the screws in very hard to make it work.- Took a very long time to assemble. Especially in the days of Ikea's \"build anything in 30 minutes\" this was very frustrating that they could not have engineered it better.Like I said, it was a huge pain in the ass to build, but now that I have it, I absolutely love it. Tough call on if I'd recommend it. Maybe if you get someone else to build it for you?\n",
      "[91, 4186, 15, 9, 100, 98, 12, 2, 16, 6, 471, 2033, 3, 107, 11, 248, 2, 138, 6, 193, 128, 4364, 6, 2, 22, 279, 1967, 5, 881, 6, 280, 65, 23, 448, 12, 244, 14, 6, 470, 400, 448, 7, 589, 3, 448, 7, 2554, 2, 1036, 43, 17, 670, 151, 293, 1168, 11, 448, 180, 7, 1, 589, 448, 23, 19, 3561, 21, 13, 290, 29, 3329, 3, 1475, 39, 163, 1, 785, 121, 38, 3562, 32, 1616, 24, 2720, 4, 143, 3, 5528, 339, 2, 3101, 3, 3101, 10, 1, 339, 3, 155, 4504, 67, 2, 291, 31, 9454, 63, 69, 448, 6, 974, 30, 12, 1, 339, 115, 244, 14, 6, 18, 6, 22, 230, 426, 3, 69, 7, 1, 792, 115, 19, 299, 36, 31, 121, 4929, 590, 126, 3, 2, 43, 5, 534, 1, 1234, 11, 38, 203, 5, 74, 6, 132, 358, 4, 38, 143, 52, 5, 1506, 388, 11, 1, 381, 7, 1195, 294, 11, 501, 189, 9, 22, 38, 2440, 12, 31, 122, 19, 16, 3754, 6, 106, 36, 2, 355, 6, 22, 4, 639, 875, 11, 1, 5, 1195, 18, 98, 12, 2, 16, 6, 2, 736, 138, 6, 1452, 953, 15, 27, 308, 213, 6, 411, 27, 13, 48, 628, 517, 5, 1195, 6, 10, 13]\n"
     ]
    }
   ],
   "source": [
    "tokenizer_08 = Tokenizer(num_words=10000)\n",
    "tokenizer_08.fit_on_texts(sentences_train_08)\n",
    "\n",
    "X_train_08 = tokenizer_08.texts_to_sequences(sentences_train_08)\n",
    "X_test_08 = tokenizer_08.texts_to_sequences(sentences_test_08)\n",
    "\n",
    "vocab_size = len(tokenizer_08.word_index) + 1\n",
    "print(sentences_train_08[2])\n",
    "print(X_train_08[2])"
   ]
  },
  {
   "cell_type": "code",
   "execution_count": 10,
   "metadata": {},
   "outputs": [
    {
     "data": {
      "text/plain": [
       "48744"
      ]
     },
     "execution_count": 10,
     "metadata": {},
     "output_type": "execute_result"
    }
   ],
   "source": [
    "len(tokenizer_08.word_index)"
   ]
  },
  {
   "cell_type": "code",
   "execution_count": 11,
   "metadata": {},
   "outputs": [
    {
     "name": "stdout",
     "output_type": "stream",
     "text": [
      "[  26  178  292  692    2   40  460  394  728   27    6 3999   30   66\n",
      "  174   80    2   45   54  153    6    2   28    6  279  171  217 4452\n",
      "   11 4415]\n"
     ]
    }
   ],
   "source": [
    "X_train_08 = pad_sequences(X_train_08, padding='post', maxlen=max_tokens)\n",
    "X_test_08 = pad_sequences(X_test_08, padding='post', maxlen=max_tokens)\n",
    "\n",
    "print(X_train_08[0, :])"
   ]
  },
  {
   "cell_type": "code",
   "execution_count": 12,
   "metadata": {},
   "outputs": [],
   "source": [
    "from keras.layers import LSTM\n",
    "\n",
    "model = Sequential()\n",
    "optimizer = Adam(lr=1e-3)"
   ]
  },
  {
   "cell_type": "code",
   "execution_count": 13,
   "metadata": {},
   "outputs": [],
   "source": [
    "model.add(Embedding(input_dim=num_words, output_dim=embedding_size, input_length=max_tokens, name='layer_embedding'))\n",
    "model.add(LSTM(units=16, return_sequences=True))\n",
    "\n",
    "model.add(LSTM(units=8, return_sequences=True))\n",
    "model.add(LSTM(units=8, return_sequences=True))\n",
    "model.add(LSTM(units=4))\n",
    "model.add(Dense(1, activation='sigmoid'))\n",
    "model.compile(loss='binary_crossentropy', optimizer=optimizer, metrics=['accuracy'])"
   ]
  },
  {
   "cell_type": "code",
   "execution_count": 14,
   "metadata": {},
   "outputs": [
    {
     "name": "stdout",
     "output_type": "stream",
     "text": [
      "Model: \"sequential_1\"\n",
      "_________________________________________________________________\n",
      "Layer (type)                 Output Shape              Param #   \n",
      "=================================================================\n",
      "layer_embedding (Embedding)  (None, 30, 200)           2000000   \n",
      "_________________________________________________________________\n",
      "lstm_1 (LSTM)                (None, 30, 16)            13888     \n",
      "_________________________________________________________________\n",
      "lstm_2 (LSTM)                (None, 30, 8)             800       \n",
      "_________________________________________________________________\n",
      "lstm_3 (LSTM)                (None, 30, 8)             544       \n",
      "_________________________________________________________________\n",
      "lstm_4 (LSTM)                (None, 4)                 208       \n",
      "_________________________________________________________________\n",
      "dense_1 (Dense)              (None, 1)                 5         \n",
      "=================================================================\n",
      "Total params: 2,015,445\n",
      "Trainable params: 2,015,445\n",
      "Non-trainable params: 0\n",
      "_________________________________________________________________\n"
     ]
    }
   ],
   "source": [
    "model.summary()"
   ]
  },
  {
   "cell_type": "code",
   "execution_count": 15,
   "metadata": {},
   "outputs": [
    {
     "name": "stdout",
     "output_type": "stream",
     "text": [
      "Wall time: 43.7 s\n"
     ]
    }
   ],
   "source": [
    "%%time\n",
    "history = model.fit(X_train_08, y_train_08,\n",
    "                    epochs=5,\n",
    "                    verbose=False,\n",
    "                    validation_data=(X_test_08, y_test_08),\n",
    "                    batch_size=500)"
   ]
  },
  {
   "cell_type": "code",
   "execution_count": 16,
   "metadata": {},
   "outputs": [
    {
     "name": "stdout",
     "output_type": "stream",
     "text": [
      "Training Accuracy: 0.8541\n",
      "Wall time: 8.98 s\n"
     ]
    }
   ],
   "source": [
    "%%time\n",
    "loss, accuracy = model.evaluate(X_train_08, y_train_08, verbose=False)\n",
    "print(\"Training Accuracy: {:.4f}\".format(accuracy))"
   ]
  },
  {
   "cell_type": "code",
   "execution_count": 17,
   "metadata": {},
   "outputs": [
    {
     "name": "stdout",
     "output_type": "stream",
     "text": [
      "Wall time: 7.17 s\n"
     ]
    }
   ],
   "source": [
    "%%time\n",
    "predicted = model.predict(X_train_08)\n",
    "predicted = predicted.T[0]\n",
    "cls_pred = np.array([1.0 if p>0.8 else 0.0 for p in predicted])"
   ]
  },
  {
   "cell_type": "code",
   "execution_count": 18,
   "metadata": {},
   "outputs": [
    {
     "name": "stdout",
     "output_type": "stream",
     "text": [
      "Testing Accuracy:  0.8056\n",
      "              precision    recall  f1-score   support\n",
      "\n",
      "   isHelpful       0.66      0.69      0.68      3460\n",
      "  notHelpful       0.93      0.92      0.92     14903\n",
      "\n",
      "    accuracy                           0.88     18363\n",
      "   macro avg       0.79      0.80      0.80     18363\n",
      "weighted avg       0.88      0.88      0.88     18363\n",
      "\n"
     ]
    },
    {
     "data": {
      "image/png": "[encoded data removed]",
      "text/plain": [
       "<Figure size 360x360 with 2 Axes>"
      ]
     },
     "metadata": {},
     "output_type": "display_data"
    },
    {
     "data": {
      "image/png": "[encoded data removed]",
      "text/plain": [
       "<Figure size 432x288 with 1 Axes>"
      ]
     },
     "metadata": {},
     "output_type": "display_data"
    },
    {
     "data": {
      "image/png": "[encoded data removed]",
      "text/plain": [
       "<Figure size 864x360 with 2 Axes>"
      ]
     },
     "metadata": {},
     "output_type": "display_data"
    },
    {
     "name": "stdout",
     "output_type": "stream",
     "text": [
      "Wall time: 5.74 s\n"
     ]
    }
   ],
   "source": [
    "%%time\n",
    "loss, accuracy = model.evaluate(X_test_08, y_test_08, verbose=False)\n",
    "print(\"Testing Accuracy:  {:.4f}\".format(accuracy))\n",
    "report(y_train_08, cls_pred)\n",
    "plot_roc(y_train_08, cls_pred)\n",
    "plot_history(history)"
   ]
  },
  {
   "cell_type": "markdown",
   "metadata": {},
   "source": [
    "References : \n",
    "\n",
    "https://realpython.com/python-keras-text-classification/"
   ]
  },
  {
   "cell_type": "code",
   "execution_count": null,
   "metadata": {},
   "outputs": [],
   "source": []
  }
 ],
 "metadata": {
  "kernelspec": {
   "display_name": "Python 3",
   "language": "python",
   "name": "python3"
  },
  "language_info": {
   "codemirror_mode": {
    "name": "ipython",
    "version": 3
   },
   "file_extension": ".py",
   "mimetype": "text/x-python",
   "name": "python",
   "nbconvert_exporter": "python",
   "pygments_lexer": "ipython3",
   "version": "3.7.3"
  }
 },
 "nbformat": 4,
 "nbformat_minor": 2
}
